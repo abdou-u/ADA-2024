{
 "cells": [
  {
   "cell_type": "markdown",
   "metadata": {},
   "source": [
    "# Handling text exercise"
   ]
  },
  {
   "cell_type": "markdown",
   "metadata": {},
   "source": [
    "## Welcome! This exercise consists of:\n",
    "\n",
    "## Part 1: Hands on tutorial\n",
    "1. Implementing the natural language processing pipeline\n",
    "2. Solving four typical language processing tasks:\n",
    "   * Sentiment analysis\n",
    "   * Document classification\n",
    "   * Topic detection\n",
    "   * Semantic analysis\n",
    "\n",
    "\n",
    "### We will be working with four books in plain text:\n",
    "1. Moby-Dick, by Herman Melville\n",
    "2. Frankenstein; or, The Modern Prometheus, by Mary Shelley\n",
    "3. Pride and Prejudice, by Jane Austen\n",
    "4. Dracula, Bram Stoker\n",
    "\n",
    "#### To run this notebook, you need to install the following libraries:\n",
    "\n",
    "conda install nltk gensim spacy <br>\n",
    "pip install pyLDAvis  <br>\n",
    "pip install vaderSentiment  <br>\n",
    "pip install empath <br>\n",
    "python -m spacy download en  <br>\n",
    "python -m nltk.downloader punkt <br>\n",
    "python -m nltk.downloader all-corpora <br>\n",
    "\n",
    "## Part 2: Handling text comprehension questions\n",
    "- You can test your understanding of important NLP concepts. Solutions will be released next week.\n",
    "\n",
    "## Part 3: Coding exercise\n",
    "- When you are done, in \"Handling_text_exercise_2.ipynb\", you will find additional exercises you can work on independently."
   ]
  },
  {
   "cell_type": "markdown",
   "metadata": {},
   "source": [
    "## Part 1"
   ]
  },
  {
   "cell_type": "code",
   "execution_count": 1,
   "metadata": {},
   "outputs": [],
   "source": [
    "%load_ext autoreload\n",
    "%autoreload 2\n",
    "\n",
    "import warnings; warnings.simplefilter('ignore')\n",
    "import os, codecs, string, random\n",
    "import numpy as np\n",
    "from numpy.random import seed as random_seed\n",
    "from numpy.random import shuffle as random_shuffle\n",
    "import matplotlib.pyplot as plt\n",
    "%matplotlib inline  \n",
    "\n",
    "seed = 42\n",
    "random.seed(seed)\n",
    "np.random.seed(seed)\n",
    "\n",
    "#NLP libraries\n",
    "import spacy, nltk, gensim, sklearn\n",
    "#import pyLDAvis.gensim\n",
    "import pyLDAvis.gensim_models\n",
    "\n",
    "#Vader\n",
    "import vaderSentiment\n",
    "from vaderSentiment.vaderSentiment import SentimentIntensityAnalyzer\n",
    "\n",
    "#Scikit imports\n",
    "from sklearn.feature_extraction.text import CountVectorizer\n",
    "from sklearn.model_selection import train_test_split\n",
    "from sklearn.model_selection import cross_val_score\n",
    "from sklearn.linear_model import LogisticRegression\n",
    "from sklearn import preprocessing\n",
    "from sklearn.preprocessing import StandardScaler\n",
    "from sklearn.utils import shuffle\n",
    "\n",
    "#The data\n",
    "corpus_root = 'books/'"
   ]
  },
  {
   "cell_type": "markdown",
   "metadata": {},
   "source": [
    "#### In this tutorial we will be working with text in English. The same principles apply, but the methods cannot be applied directly to the text in unknown or other languages. We will be working mainly with the Spacy library."
   ]
  },
  {
   "cell_type": "markdown",
   "metadata": {},
   "source": [
    "Initialize the Spacy analyzer in English"
   ]
  },
  {
   "cell_type": "code",
   "execution_count": 2,
   "metadata": {},
   "outputs": [],
   "source": [
    "nlp = spacy.load('en_core_web_sm')"
   ]
  },
  {
   "cell_type": "markdown",
   "metadata": {},
   "source": [
    "Load the books"
   ]
  },
  {
   "cell_type": "code",
   "execution_count": 3,
   "metadata": {},
   "outputs": [
    {
     "name": "stdout",
     "output_type": "stream",
     "text": [
      "DRACULA.txt\n",
      "Frankenstein.txt\n",
      "Moby_Dick.txt\n",
      "PRIDE_AND_PREJUDICE.txt\n"
     ]
    }
   ],
   "source": [
    "books = list()\n",
    "\n",
    "for book_file in os.listdir(corpus_root):\n",
    "    if \".txt\" in book_file:\n",
    "        print(book_file)\n",
    "        with codecs.open(os.path.join(corpus_root,book_file),encoding=\"utf8\") as f:\n",
    "            books.append(f.read())"
   ]
  },
  {
   "cell_type": "markdown",
   "metadata": {},
   "source": [
    "Print the beginning of Pride and Prejudice"
   ]
  },
  {
   "cell_type": "code",
   "execution_count": 4,
   "metadata": {},
   "outputs": [
    {
     "name": "stdout",
     "output_type": "stream",
     "text": [
      "PRIDE AND PREJUDICE\n",
      "\n",
      "By Jane Austen\n",
      "\n",
      "\n",
      "\n",
      "Chapter 1\n",
      "\n",
      "\n",
      "It is a truth universally acknowledged, that a single man in possession\n",
      "of a good fortune, must be in want of a wife.\n",
      "\n",
      "However little known the feelings or views of such a man may be on his\n",
      "first entering a neighbourhood, this truth is so well fixed in the minds\n",
      "of the surrounding families, that he is considered the rightful property\n",
      "of some one or other of their daughters.\n",
      "\n",
      "“My dear Mr. Bennet,” said his lady to him one day, “have you heard that\n",
      "Netherfield Park is let at last?”\n",
      "\n",
      "Mr. Bennet replied that he had not.\n",
      "\n",
      "“But\n"
     ]
    }
   ],
   "source": [
    "print(books[3][0:600])"
   ]
  },
  {
   "cell_type": "markdown",
   "metadata": {},
   "source": [
    "#### Let's remove the new lines"
   ]
  },
  {
   "cell_type": "code",
   "execution_count": 5,
   "metadata": {},
   "outputs": [],
   "source": [
    "books = [\" \".join(b.split()) for b in books]"
   ]
  },
  {
   "cell_type": "code",
   "execution_count": 6,
   "metadata": {},
   "outputs": [
    {
     "name": "stdout",
     "output_type": "stream",
     "text": [
      "PRIDE AND PREJUDICE By Jane Austen Chapter 1 It is a truth universally acknowledged, that a single man in possession of a good fortune, must be in want of a wife. However little known the feelings or views of such a man may be on his first entering a neighbourhood, this truth is so well fixed in the minds of the surrounding families, that he is considered the rightful property of some one or other of their daughters. “My dear Mr. Bennet,” said his lady to him one day, “have you heard that Netherfield Park is let at last?” Mr. Bennet replied that he had not. “But it is,” returned she; “for Mrs.\n"
     ]
    }
   ],
   "source": [
    "print(books[3][0:600])"
   ]
  },
  {
   "cell_type": "markdown",
   "metadata": {},
   "source": [
    "### Load Frankenstein"
   ]
  },
  {
   "cell_type": "code",
   "execution_count": 7,
   "metadata": {},
   "outputs": [],
   "source": [
    "#index all books\n",
    "book = books[1]\n",
    "\n",
    "#put in raw text, get a Spacy object\n",
    "doc = nlp(book)"
   ]
  },
  {
   "cell_type": "markdown",
   "metadata": {},
   "source": [
    "## Let's create our own NLP pipeline with Spacy!"
   ]
  },
  {
   "cell_type": "markdown",
   "metadata": {},
   "source": [
    "### Step 1: Sentence splitting\n",
    "\n",
    "#### May sound trivial, but it's not! (e.g., U.K. or Yahoo!) Spacy uses a statistical model to generate accurate predictions. This works well out of the box for general-purpose text or web text. For social media use dedicated libraries."
   ]
  },
  {
   "cell_type": "code",
   "execution_count": 8,
   "metadata": {},
   "outputs": [
    {
     "name": "stdout",
     "output_type": "stream",
     "text": [
      "Sentence 1: Frankenstein, or the Modern Prometheus by Mary Wollstonecraft (Godwin) Shelley Letter 1 St. Petersburgh, Dec. 11th, 17-- TO Mrs. Saville, England You will rejoice to hear that no disaster has accompanied the commencement of an enterprise which you have regarded with such evil forebodings. \n",
      "\n",
      "Sentence 2: I arrived here yesterday, and my first task is to assure my dear sister of my welfare and increasing confidence in the success of my undertaking. \n",
      "\n",
      "Sentence 3: I am already far north of London, and as I walk in the streets of Petersburgh, I feel a cold northern breeze play upon my cheeks, which braces my nerves and fills me with delight. \n",
      "\n"
     ]
    }
   ],
   "source": [
    "sentences = [sent for sent in doc.sents]\n",
    "print('Sentence 1:',sentences[0],'\\n')\n",
    "print('Sentence 2:',sentences[1],'\\n')\n",
    "print('Sentence 3:',sentences[2],'\\n')"
   ]
  },
  {
   "cell_type": "markdown",
   "metadata": {},
   "source": [
    "### Step 2: Tokenization\n",
    "\n",
    "#### The task of splitting a text into meaningful segments called tokens. We segment the sentence into words, punctuation, etc. This is done by first splitting on whitespace characters and them applying rules specific to each language. For example, \"don't\" does not contain whitespace, but should be split into two tokens, \"do\" and \"n't\", while \"U.K.\" should always remain one token and \"but,\" shouldn't."
   ]
  },
  {
   "cell_type": "markdown",
   "metadata": {},
   "source": [
    "### We will analyze the methods on an example sentence first"
   ]
  },
  {
   "cell_type": "code",
   "execution_count": 9,
   "metadata": {},
   "outputs": [
    {
     "name": "stdout",
     "output_type": "stream",
     "text": [
      "I am already far north of London, and as I walk in the streets of Petersburgh, I feel a cold northern breeze play upon my cheeks, which braces my nerves and fills me with delight. \n",
      "\n",
      "['I', 'am', 'already', 'far', 'north', 'of', 'London', ',', 'and', 'as', 'I', 'walk', 'in', 'the', 'streets', 'of', 'Petersburgh', ',', 'I', 'feel', 'a', 'cold', 'northern', 'breeze', 'play', 'upon', 'my', 'cheeks', ',', 'which', 'braces', 'my', 'nerves', 'and', 'fills', 'me', 'with', 'delight', '.']\n"
     ]
    }
   ],
   "source": [
    "example = 'I am already far north of London, and as I walk in the streets of Petersburgh, I feel a cold northern breeze play upon my cheeks, which braces my nerves and fills me with delight.'\n",
    "\n",
    "doc = nlp(example)\n",
    "\n",
    "#strings are encoded to hashes\n",
    "tokens = [token.text for token in doc]\n",
    "\n",
    "print(example,'\\n')\n",
    "print(tokens)"
   ]
  },
  {
   "cell_type": "markdown",
   "metadata": {},
   "source": [
    "### Step 3: Part of speech tagging\n",
    "\n",
    "#### The model makes a prediction of which tag or label most likely applies in this context. For example, a word following \"the\" in English is most likely a noun."
   ]
  },
  {
   "cell_type": "code",
   "execution_count": 10,
   "metadata": {},
   "outputs": [
    {
     "name": "stdout",
     "output_type": "stream",
     "text": [
      "I am already far north of London, and as I walk in the streets of Petersburgh, I feel a cold northern breeze play upon my cheeks, which braces my nerves and fills me with delight. \n",
      "\n",
      "[('I', 'PRON'), ('am', 'AUX'), ('already', 'ADV'), ('far', 'ADV'), ('north', 'ADV'), ('of', 'ADP'), ('London', 'PROPN'), (',', 'PUNCT'), ('and', 'CCONJ'), ('as', 'SCONJ'), ('I', 'PRON'), ('walk', 'VERB'), ('in', 'ADP'), ('the', 'DET'), ('streets', 'NOUN'), ('of', 'ADP'), ('Petersburgh', 'PROPN'), (',', 'PUNCT'), ('I', 'PRON'), ('feel', 'VERB'), ('a', 'DET'), ('cold', 'ADJ'), ('northern', 'ADJ'), ('breeze', 'NOUN'), ('play', 'NOUN'), ('upon', 'SCONJ'), ('my', 'PRON'), ('cheeks', 'NOUN'), (',', 'PUNCT'), ('which', 'PRON'), ('braces', 'VERB'), ('my', 'PRON'), ('nerves', 'NOUN'), ('and', 'CCONJ'), ('fills', 'VERB'), ('me', 'PRON'), ('with', 'ADP'), ('delight', 'NOUN'), ('.', 'PUNCT')]\n"
     ]
    }
   ],
   "source": [
    "pos_tagged = [(token.text, token.pos_) for token in doc]\n",
    "\n",
    "print(example,'\\n')\n",
    "print(pos_tagged)"
   ]
  },
  {
   "cell_type": "code",
   "execution_count": 11,
   "metadata": {},
   "outputs": [
    {
     "name": "stdout",
     "output_type": "stream",
     "text": [
      "coordinating conjunction\n",
      "adposition\n",
      "determiner\n"
     ]
    }
   ],
   "source": [
    "print(spacy.explain('CCONJ'))\n",
    "print(spacy.explain('ADP'))\n",
    "print(spacy.explain('DET'))"
   ]
  },
  {
   "cell_type": "markdown",
   "metadata": {},
   "source": [
    "### When unsure, see here for more details: http://universaldependencies.org/u/pos/all.html"
   ]
  },
  {
   "cell_type": "markdown",
   "metadata": {},
   "source": [
    "#### More detailed annotation:"
   ]
  },
  {
   "cell_type": "code",
   "execution_count": 12,
   "metadata": {},
   "outputs": [
    {
     "name": "stdout",
     "output_type": "stream",
     "text": [
      "[('I', 'PRP'), ('am', 'VBP'), ('already', 'RB'), ('far', 'RB'), ('north', 'RB'), ('of', 'IN'), ('London', 'NNP'), (',', ','), ('and', 'CC'), ('as', 'IN'), ('I', 'PRP'), ('walk', 'VBP'), ('in', 'IN'), ('the', 'DT'), ('streets', 'NNS'), ('of', 'IN'), ('Petersburgh', 'NNP'), (',', ','), ('I', 'PRP'), ('feel', 'VBP'), ('a', 'DT'), ('cold', 'JJ'), ('northern', 'JJ'), ('breeze', 'NN'), ('play', 'NN'), ('upon', 'IN'), ('my', 'PRP$'), ('cheeks', 'NNS'), (',', ','), ('which', 'WDT'), ('braces', 'VBZ'), ('my', 'PRP$'), ('nerves', 'NNS'), ('and', 'CC'), ('fills', 'VBZ'), ('me', 'PRP'), ('with', 'IN'), ('delight', 'NN'), ('.', '.')]\n"
     ]
    }
   ],
   "source": [
    "pos_tagged = [(token.text, token.tag_) for token in doc]\n",
    "\n",
    "print(pos_tagged)"
   ]
  },
  {
   "cell_type": "code",
   "execution_count": 13,
   "metadata": {},
   "outputs": [
    {
     "name": "stdout",
     "output_type": "stream",
     "text": [
      "pronoun, personal\n",
      "verb, non-3rd person singular present\n"
     ]
    }
   ],
   "source": [
    "print(spacy.explain('PRP'))\n",
    "print(spacy.explain('VBP'))"
   ]
  },
  {
   "cell_type": "markdown",
   "metadata": {},
   "source": [
    "### Step 4: Named entity recognition\n",
    "\n",
    "#### For example, a person, a country, a product or a book title. Spacy can recognise various types of named entities in a document. This doesn't always work perfectly and might need some tuning later, depending on your use case.\n",
    "\n",
    "Built in entity types: <br>\n",
    "\n",
    "PERSON  People, including fictional.  <br>\n",
    "NORP\tNationalities or religious or political groups. <br>\n",
    "FAC\tBuildings, airports, highways, bridges, etc. <br>\n",
    "ORG\tCompanies, agencies, institutions, etc. <br>\n",
    "GPE\tCountries, cities, states. <br>\n",
    "LOC\tNon-GPE locations, mountain ranges, bodies of water. <br>\n",
    "PRODUCT\tObjects, vehicles, foods, etc. (Not services.) <br>\n",
    "EVENT\tNamed hurricanes, battles, wars, sports events, etc. <br>\n",
    "WORK_OF_ART\tTitles of books, songs, etc. <br>\n",
    "LAW\tNamed documents made into laws. <br>\n",
    "LANGUAGE\tAny named language. <br>\n",
    "DATE\tAbsolute or relative dates or periods. <br>\n",
    "TIME\tTimes smaller than a day. <br>\n",
    "PERCENT\tPercentage, including \"%\". <br>\n",
    "MONEY\tMonetary values, including unit. <br>\n",
    "QUANTITY\tMeasurements, as of weight or distance. <br>\n",
    "ORDINAL\t\"first\", \"second\", etc. <br>\n",
    "CARDINAL\tNumerals that do not fall under another type. <br>"
   ]
  },
  {
   "cell_type": "code",
   "execution_count": 14,
   "metadata": {},
   "outputs": [
    {
     "name": "stdout",
     "output_type": "stream",
     "text": [
      "I am already far north of London, and as I walk in the streets of Petersburgh, I feel a cold northern breeze play upon my cheeks, which braces my nerves and fills me with delight. \n",
      "\n",
      "London GPE\n",
      "Petersburgh PERSON\n"
     ]
    }
   ],
   "source": [
    "print(example,'\\n')\n",
    "for ent in doc.ents:\n",
    "    print(ent.text, ent.label_)"
   ]
  },
  {
   "cell_type": "markdown",
   "metadata": {},
   "source": [
    "### Step 5: Removing stop words"
   ]
  },
  {
   "cell_type": "markdown",
   "metadata": {},
   "source": [
    "Let's check out all the stopwords:"
   ]
  },
  {
   "cell_type": "code",
   "execution_count": 16,
   "metadata": {},
   "outputs": [
    {
     "name": "stdout",
     "output_type": "stream",
     "text": [
      "Number of stop words: 326\n",
      "First ten stop words: ['whereafter', 'a', 'whoever', 'ourselves', 'via', 'will', 'between', 'say', 'ca', 'one']\n"
     ]
    }
   ],
   "source": [
    "spacy_stopwords = spacy.lang.en.stop_words.STOP_WORDS\n",
    "print('Number of stop words: %d' % len(spacy_stopwords))\n",
    "print('First ten stop words:',list(spacy_stopwords)[:10])"
   ]
  },
  {
   "cell_type": "markdown",
   "metadata": {},
   "source": [
    "Detecting stopwords in the example:"
   ]
  },
  {
   "cell_type": "code",
   "execution_count": 17,
   "metadata": {},
   "outputs": [
    {
     "name": "stdout",
     "output_type": "stream",
     "text": [
      "I am already far north of London, and as I walk in the streets of Petersburgh, I feel a cold northern breeze play upon my cheeks, which braces my nerves and fills me with delight. \n",
      "\n",
      "['I', 'am', 'already', 'of', 'and', 'as', 'I', 'in', 'the', 'of', 'I', 'a', 'upon', 'my', 'which', 'my', 'and', 'me', 'with']\n"
     ]
    }
   ],
   "source": [
    "print(example,'\\n')\n",
    "\n",
    "stop_words = [token.text for token in doc if token.is_stop]\n",
    "\n",
    "print(stop_words)"
   ]
  },
  {
   "cell_type": "markdown",
   "metadata": {},
   "source": [
    "#### Sometimes it's useful to define a custom list of stopwords. Other solutions: https://www.ranks.nl/stopwords \n"
   ]
  },
  {
   "cell_type": "markdown",
   "metadata": {},
   "source": [
    "### Step 6: Lemmatization\n",
    "\n",
    "#### A rule-based deterministic lemmatizer maps the surface form of a token to a lemma."
   ]
  },
  {
   "cell_type": "code",
   "execution_count": 18,
   "metadata": {},
   "outputs": [
    {
     "name": "stdout",
     "output_type": "stream",
     "text": [
      "I am already far north of London, and as I walk in the streets of Petersburgh, I feel a cold northern breeze play upon my cheeks, which braces my nerves and fills me with delight. \n",
      "\n",
      "am ---> be\n",
      "streets ---> street\n",
      "cheeks ---> cheek\n",
      "braces ---> brace\n",
      "nerves ---> nerve\n",
      "fills ---> fill\n",
      "me ---> I\n"
     ]
    }
   ],
   "source": [
    "print(example,'\\n')\n",
    "for token in doc:\n",
    "    if token.text != token.lemma_:\n",
    "        print(token.text,'--->',token.lemma_)"
   ]
  },
  {
   "cell_type": "markdown",
   "metadata": {},
   "source": [
    "### Step 7: Chunking (shallow parsing)\n",
    "\n",
    "#### Noun chunks are \"base noun phrases\" – flat phrases that have a noun as their head -- a noun plus the words describing the noun – for example, \"the lavish green grass\" or \"the world’s largest tech fund\". "
   ]
  },
  {
   "cell_type": "code",
   "execution_count": 19,
   "metadata": {},
   "outputs": [
    {
     "name": "stdout",
     "output_type": "stream",
     "text": [
      "I am already far north of London, and as I walk in the streets of Petersburgh, I feel a cold northern breeze play upon my cheeks, which braces my nerves and fills me with delight. \n",
      "\n",
      "I\n",
      "London\n",
      "I\n",
      "the streets\n",
      "Petersburgh\n",
      "I\n",
      "a cold northern breeze play\n",
      "my cheeks\n",
      "which\n",
      "my nerves\n",
      "me\n",
      "delight\n"
     ]
    }
   ],
   "source": [
    "print(example,'\\n')\n",
    "\n",
    "for chunk in doc.noun_chunks:\n",
    "    print(chunk.text)"
   ]
  },
  {
   "cell_type": "markdown",
   "metadata": {},
   "source": [
    "### Step 8: Dependancy parsing\n",
    "\n",
    "#### The terms head and child describe the words connected by an arc in the dependency tree. The type of syntactic relation that connects the child to the head can be obtain through .dep_."
   ]
  },
  {
   "cell_type": "code",
   "execution_count": 20,
   "metadata": {},
   "outputs": [
    {
     "name": "stdout",
     "output_type": "stream",
     "text": [
      "I am already far north of London, and as I walk in the streets of Petersburgh, I feel a cold northern breeze play upon my cheeks, which braces my nerves and fills me with delight. \n",
      "\n",
      "Token: I Head: am Children: []\n",
      "Token: am Head: am Children: [I, already, north, ,, and, feel]\n",
      "Token: already Head: am Children: []\n",
      "Token: far Head: north Children: []\n",
      "Token: north Head: am Children: [far, of]\n",
      "Token: of Head: north Children: [London]\n",
      "Token: London Head: of Children: []\n",
      "Token: , Head: am Children: []\n",
      "Token: and Head: am Children: []\n",
      "Token: as Head: walk Children: []\n",
      "Token: I Head: walk Children: []\n",
      "Token: walk Head: feel Children: [as, I, in]\n",
      "Token: in Head: walk Children: [streets]\n",
      "Token: the Head: streets Children: []\n",
      "Token: streets Head: in Children: [the, of]\n",
      "Token: of Head: streets Children: [Petersburgh]\n",
      "Token: Petersburgh Head: of Children: []\n",
      "Token: , Head: feel Children: []\n",
      "Token: I Head: feel Children: []\n",
      "Token: feel Head: am Children: [walk, ,, I, play, .]\n",
      "Token: a Head: play Children: []\n",
      "Token: cold Head: breeze Children: []\n",
      "Token: northern Head: breeze Children: []\n",
      "Token: breeze Head: play Children: [cold, northern]\n",
      "Token: play Head: feel Children: [a, breeze, upon]\n",
      "Token: upon Head: play Children: [cheeks]\n",
      "Token: my Head: cheeks Children: []\n",
      "Token: cheeks Head: upon Children: [my, ,, braces]\n",
      "Token: , Head: cheeks Children: []\n",
      "Token: which Head: braces Children: []\n",
      "Token: braces Head: cheeks Children: [which, nerves, and, fills]\n",
      "Token: my Head: nerves Children: []\n",
      "Token: nerves Head: braces Children: [my]\n",
      "Token: and Head: braces Children: []\n",
      "Token: fills Head: braces Children: [me, with]\n",
      "Token: me Head: fills Children: []\n",
      "Token: with Head: fills Children: [delight]\n",
      "Token: delight Head: with Children: []\n",
      "Token: . Head: feel Children: []\n"
     ]
    }
   ],
   "source": [
    "print(example,'\\n')\n",
    "\n",
    "for token in doc:\n",
    "    print('Token:',token.text,'Head:',token.head.text, 'Children:',[child for child in token.children])"
   ]
  },
  {
   "cell_type": "markdown",
   "metadata": {},
   "source": [
    "### Counting word occurences"
   ]
  },
  {
   "cell_type": "code",
   "execution_count": 21,
   "metadata": {},
   "outputs": [
    {
     "name": "stdout",
     "output_type": "stream",
     "text": [
      "I am already far north of London, and as I walk in the streets of Petersburgh, I feel a cold northern breeze play upon my cheeks, which braces my nerves and fills me with delight. \n",
      "\n",
      "[('I', 3), (',', 3), ('of', 2), ('and', 2), ('my', 2), ('am', 1), ('already', 1), ('far', 1), ('north', 1), ('London', 1), ('as', 1), ('walk', 1), ('in', 1), ('the', 1), ('streets', 1), ('Petersburgh', 1), ('feel', 1), ('a', 1), ('cold', 1), ('northern', 1), ('breeze', 1), ('play', 1), ('upon', 1), ('cheeks', 1), ('which', 1), ('braces', 1), ('nerves', 1), ('fills', 1), ('me', 1), ('with', 1), ('delight', 1), ('.', 1)]\n"
     ]
    }
   ],
   "source": [
    "from collections import Counter\n",
    "\n",
    "print(example,'\\n')\n",
    "words = [token.text for token in doc]\n",
    "\n",
    "# five most common tokens\n",
    "word_freq = Counter(words)\n",
    "common_words = word_freq.most_common()\n",
    "\n",
    "print(common_words)"
   ]
  },
  {
   "cell_type": "markdown",
   "metadata": {},
   "source": [
    "### Without stop words and punctuation"
   ]
  },
  {
   "cell_type": "code",
   "execution_count": 22,
   "metadata": {},
   "outputs": [
    {
     "name": "stdout",
     "output_type": "stream",
     "text": [
      "[('far', 1), ('north', 1), ('London', 1), ('walk', 1), ('streets', 1), ('Petersburgh', 1), ('feel', 1), ('cold', 1), ('northern', 1), ('breeze', 1), ('play', 1), ('cheeks', 1), ('braces', 1), ('nerves', 1), ('fills', 1), ('delight', 1)]\n"
     ]
    }
   ],
   "source": [
    "words = [token.text for token in doc if token.is_stop != True and token.is_punct != True]\n",
    "\n",
    "# five most common tokens\n",
    "word_freq = Counter(words)\n",
    "common_words = word_freq.most_common()\n",
    "\n",
    "print(common_words)"
   ]
  },
  {
   "cell_type": "markdown",
   "metadata": {},
   "source": [
    "## Putting all the components together"
   ]
  },
  {
   "cell_type": "markdown",
   "metadata": {},
   "source": [
    "### Under the hood: the pipeline [\"tokenizer\",\"tagger\", \"parser\", \"ner\"]."
   ]
  },
  {
   "cell_type": "markdown",
   "metadata": {},
   "source": [
    "#### The NLP pipeline with Spacy\n",
    "<img src=\"spacy.png\">"
   ]
  },
  {
   "cell_type": "code",
   "execution_count": 23,
   "metadata": {},
   "outputs": [],
   "source": [
    "nlp = spacy.load('en_core_web_sm')"
   ]
  },
  {
   "cell_type": "markdown",
   "metadata": {},
   "source": [
    "### If you don't need a particular component of the pipeline – for example, the tagger or the parser, you can disable loading it. This can sometimes make a big difference and improve loading speed. "
   ]
  },
  {
   "cell_type": "code",
   "execution_count": 24,
   "metadata": {},
   "outputs": [
    {
     "data": {
      "text/plain": [
       "('tagger', <spacy.pipeline.tagger.Tagger at 0x2afb81a4dd0>)"
      ]
     },
     "execution_count": 24,
     "metadata": {},
     "output_type": "execute_result"
    }
   ],
   "source": [
    "nlp.remove_pipe('parser')\n",
    "nlp.remove_pipe('tagger')"
   ]
  },
  {
   "cell_type": "markdown",
   "metadata": {},
   "source": [
    "# Task 1: Sentiment analysis"
   ]
  },
  {
   "cell_type": "markdown",
   "metadata": {},
   "source": [
    "### Initialize the analyzer. Typically used for data from social media (short sentences)."
   ]
  },
  {
   "cell_type": "code",
   "execution_count": 25,
   "metadata": {},
   "outputs": [],
   "source": [
    "analyzer = SentimentIntensityAnalyzer()\n",
    "vs = analyzer.polarity_scores(example)"
   ]
  },
  {
   "cell_type": "markdown",
   "metadata": {},
   "source": [
    "### The sentiment score consits of four values. Neutral, positive and negative sum to one. The final score is obtained by thresholding the compound value (e.g. +/-0.05)."
   ]
  },
  {
   "cell_type": "code",
   "execution_count": 26,
   "metadata": {},
   "outputs": [
    {
     "name": "stdout",
     "output_type": "stream",
     "text": [
      "I am already far north of London, and as I walk in the streets of Petersburgh, I feel a cold northern breeze play upon my cheeks, which braces my nerves and fills me with delight. \n",
      "\n",
      "Negative sentiment: 0.035\n",
      "Neutral sentiment: 0.806\n",
      "Positive sentiment: 0.159\n",
      "Compound sentiment: 0.7096\n"
     ]
    }
   ],
   "source": [
    "print(example, '\\n')\n",
    "print('Negative sentiment:',vs['neg'])\n",
    "print('Neutral sentiment:',vs['neu'])\n",
    "print('Positive sentiment:',vs['pos'])\n",
    "print('Compound sentiment:',vs['compound'])"
   ]
  },
  {
   "cell_type": "markdown",
   "metadata": {},
   "source": [
    "### We can now observe the distributions of sentiment across all sentences in the book Pride and Prejudice:"
   ]
  },
  {
   "cell_type": "code",
   "execution_count": 27,
   "metadata": {},
   "outputs": [],
   "source": [
    "nlp = spacy.load('en_core_web_sm')\n",
    "doc = nlp(books[3])"
   ]
  },
  {
   "cell_type": "code",
   "execution_count": 31,
   "metadata": {},
   "outputs": [
    {
     "data": {
      "image/png": "[encoded data removed]",
      "text/plain": [
       "<Figure size 640x480 with 1 Axes>"
      ]
     },
     "metadata": {},
     "output_type": "display_data"
    }
   ],
   "source": [
    "positive_sent = []\n",
    "\n",
    "#iterate through the sentences, get polarity scores, choose a value\n",
    "[positive_sent.append(analyzer.polarity_scores(sent.text)['pos']) for sent in doc.sents]\n",
    "plt.hist(positive_sent,bins=15)\n",
    "plt.xlim([0,1])\n",
    "plt.ylim([0,8000])\n",
    "plt.xlabel('Positive sentiment')\n",
    "plt.ylabel('Number of sentences');"
   ]
  },
  {
   "cell_type": "code",
   "execution_count": 32,
   "metadata": {},
   "outputs": [
    {
     "data": {
      "image/png": "[encoded data removed]",
      "text/plain": [
       "<Figure size 640x480 with 1 Axes>"
      ]
     },
     "metadata": {},
     "output_type": "display_data"
    }
   ],
   "source": [
    "negative_sent = []\n",
    "[negative_sent.append(analyzer.polarity_scores(sent.text)['neg']) for sent in doc.sents]\n",
    "plt.hist(negative_sent,bins=15)\n",
    "plt.xlim([0,1])\n",
    "plt.ylim([0,8000])\n",
    "plt.xlabel('Negative sentiment')\n",
    "plt.ylabel('Number of sentences');"
   ]
  },
  {
   "cell_type": "code",
   "execution_count": 33,
   "metadata": {},
   "outputs": [
    {
     "data": {
      "image/png": "[encoded data removed]",
      "text/plain": [
       "<Figure size 640x480 with 1 Axes>"
      ]
     },
     "metadata": {},
     "output_type": "display_data"
    }
   ],
   "source": [
    "total_sent = []\n",
    "[total_sent.append(analyzer.polarity_scores(sent.text)['compound']) for sent in doc.sents]\n",
    "plt.hist(total_sent,bins = 15)\n",
    "plt.xlim([-1,1])\n",
    "plt.ylim([0,8000])\n",
    "plt.xlabel('Compound sentiment')\n",
    "plt.ylabel('Number of sentences');"
   ]
  },
  {
   "cell_type": "code",
   "execution_count": 34,
   "metadata": {},
   "outputs": [
    {
     "name": "stdout",
     "output_type": "stream",
     "text": [
      "Number of positive sentences: 2730\n",
      "Number of negative sentences: 1342\n",
      "Number of neutral sentences: 1875\n"
     ]
    }
   ],
   "source": [
    "sents = [analyzer.polarity_scores(sent.text)['compound'] for sent in doc.sents]\n",
    "print('Number of positive sentences:',sum(np.array(sents)>=0.05))\n",
    "print('Number of negative sentences:',sum(np.array(sents)<=-0.05))\n",
    "print('Number of neutral sentences:',sum(np.abs(np.array(sents))<0.05))"
   ]
  },
  {
   "cell_type": "markdown",
   "metadata": {},
   "source": [
    "#### Most of the sentences are quite neutral in sentiment. This is not the case when working with data from other sources (e.g., in social media opinions are strong and polarized (bimodal distribution))."
   ]
  },
  {
   "cell_type": "markdown",
   "metadata": {},
   "source": [
    "# Task 2: Document classification: Can we detect paragraphs from Frankenstein?"
   ]
  },
  {
   "cell_type": "code",
   "execution_count": 44,
   "metadata": {},
   "outputs": [
    {
     "name": "stdout",
     "output_type": "stream",
     "text": [
      "['DRACULA.txt', 'Frankenstein.txt', 'Moby_Dick.txt', 'PRIDE_AND_PREJUDICE.txt']\n"
     ]
    }
   ],
   "source": [
    "# Let's load our corpus via NLTK this time\n",
    "from nltk.corpus import PlaintextCorpusReader\n",
    "our_books = PlaintextCorpusReader(corpus_root, '.*.txt')\n",
    "print(our_books.fileids())"
   ]
  },
  {
   "cell_type": "markdown",
   "metadata": {},
   "source": [
    "### We will segment the books into equally long chunks"
   ]
  },
  {
   "cell_type": "code",
   "execution_count": 43,
   "metadata": {},
   "outputs": [
    {
     "ename": "ValueError",
     "evalue": "No sentence tokenizer for this corpus",
     "output_type": "error",
     "traceback": [
      "\u001b[1;31m---------------------------------------------------------------------------\u001b[0m",
      "\u001b[1;31mLookupError\u001b[0m                               Traceback (most recent call last)",
      "File \u001b[1;32m~\\AppData\\Roaming\\Python\\Python312\\site-packages\\nltk\\corpus\\reader\\plaintext.py:89\u001b[0m, in \u001b[0;36mPlaintextCorpusReader.sents\u001b[1;34m(self, fileids)\u001b[0m\n\u001b[0;32m     88\u001b[0m \u001b[38;5;28;01mtry\u001b[39;00m:\n\u001b[1;32m---> 89\u001b[0m     \u001b[38;5;28mself\u001b[39m\u001b[38;5;241m.\u001b[39m_sent_tokenizer \u001b[38;5;241m=\u001b[39m \u001b[43mPunktTokenizer\u001b[49m\u001b[43m(\u001b[49m\u001b[43m)\u001b[49m\n\u001b[0;32m     90\u001b[0m \u001b[38;5;28;01mexcept\u001b[39;00m:\n",
      "File \u001b[1;32m~\\AppData\\Roaming\\Python\\Python312\\site-packages\\nltk\\tokenize\\punkt.py:1744\u001b[0m, in \u001b[0;36mPunktTokenizer.__init__\u001b[1;34m(self, lang)\u001b[0m\n\u001b[0;32m   1743\u001b[0m PunktSentenceTokenizer\u001b[38;5;241m.\u001b[39m\u001b[38;5;21m__init__\u001b[39m(\u001b[38;5;28mself\u001b[39m)\n\u001b[1;32m-> 1744\u001b[0m \u001b[38;5;28;43mself\u001b[39;49m\u001b[38;5;241;43m.\u001b[39;49m\u001b[43mload_lang\u001b[49m\u001b[43m(\u001b[49m\u001b[43mlang\u001b[49m\u001b[43m)\u001b[49m\n",
      "File \u001b[1;32m~\\AppData\\Roaming\\Python\\Python312\\site-packages\\nltk\\tokenize\\punkt.py:1749\u001b[0m, in \u001b[0;36mPunktTokenizer.load_lang\u001b[1;34m(self, lang)\u001b[0m\n\u001b[0;32m   1747\u001b[0m \u001b[38;5;28;01mfrom\u001b[39;00m \u001b[38;5;21;01mnltk\u001b[39;00m\u001b[38;5;21;01m.\u001b[39;00m\u001b[38;5;21;01mdata\u001b[39;00m \u001b[38;5;28;01mimport\u001b[39;00m find\n\u001b[1;32m-> 1749\u001b[0m lang_dir \u001b[38;5;241m=\u001b[39m \u001b[43mfind\u001b[49m\u001b[43m(\u001b[49m\u001b[38;5;124;43mf\u001b[39;49m\u001b[38;5;124;43m\"\u001b[39;49m\u001b[38;5;124;43mtokenizers/punkt_tab/\u001b[39;49m\u001b[38;5;132;43;01m{\u001b[39;49;00m\u001b[43mlang\u001b[49m\u001b[38;5;132;43;01m}\u001b[39;49;00m\u001b[38;5;124;43m/\u001b[39;49m\u001b[38;5;124;43m\"\u001b[39;49m\u001b[43m)\u001b[49m\n\u001b[0;32m   1750\u001b[0m \u001b[38;5;28mself\u001b[39m\u001b[38;5;241m.\u001b[39m_params \u001b[38;5;241m=\u001b[39m load_punkt_params(lang_dir)\n",
      "File \u001b[1;32m~\\AppData\\Roaming\\Python\\Python312\\site-packages\\nltk\\data.py:579\u001b[0m, in \u001b[0;36mfind\u001b[1;34m(resource_name, paths)\u001b[0m\n\u001b[0;32m    578\u001b[0m resource_not_found \u001b[38;5;241m=\u001b[39m \u001b[38;5;124mf\u001b[39m\u001b[38;5;124m\"\u001b[39m\u001b[38;5;130;01m\\n\u001b[39;00m\u001b[38;5;132;01m{\u001b[39;00msep\u001b[38;5;132;01m}\u001b[39;00m\u001b[38;5;130;01m\\n\u001b[39;00m\u001b[38;5;132;01m{\u001b[39;00mmsg\u001b[38;5;132;01m}\u001b[39;00m\u001b[38;5;130;01m\\n\u001b[39;00m\u001b[38;5;132;01m{\u001b[39;00msep\u001b[38;5;132;01m}\u001b[39;00m\u001b[38;5;130;01m\\n\u001b[39;00m\u001b[38;5;124m\"\u001b[39m\n\u001b[1;32m--> 579\u001b[0m \u001b[38;5;28;01mraise\u001b[39;00m \u001b[38;5;167;01mLookupError\u001b[39;00m(resource_not_found)\n",
      "\u001b[1;31mLookupError\u001b[0m: \n**********************************************************************\n  Resource \u001b[93mpunkt_tab\u001b[0m not found.\n  Please use the NLTK Downloader to obtain the resource:\n\n  \u001b[31m>>> import nltk\n  >>> nltk.download('punkt_tab')\n  \u001b[0m\n  For more information see: https://www.nltk.org/data.html\n\n  Attempted to load \u001b[93mtokenizers/punkt_tab/english/\u001b[0m\n\n  Searched in:\n    - 'C:\\\\Users\\\\Abdou2/nltk_data'\n    - 'c:\\\\Python312\\\\nltk_data'\n    - 'c:\\\\Python312\\\\share\\\\nltk_data'\n    - 'c:\\\\Python312\\\\lib\\\\nltk_data'\n    - 'C:\\\\Users\\\\Abdou2\\\\AppData\\\\Roaming\\\\nltk_data'\n    - 'C:\\\\nltk_data'\n    - 'D:\\\\nltk_data'\n    - 'E:\\\\nltk_data'\n**********************************************************************\n",
      "\nDuring handling of the above exception, another exception occurred:\n",
      "\u001b[1;31mValueError\u001b[0m                                Traceback (most recent call last)",
      "Cell \u001b[1;32mIn[43], line 17\u001b[0m\n\u001b[0;32m     14\u001b[0m size \u001b[38;5;241m=\u001b[39m \u001b[38;5;241m50\u001b[39m \u001b[38;5;66;03m# how many sentences per chunk/page\u001b[39;00m\n\u001b[0;32m     16\u001b[0m \u001b[38;5;28;01mfor\u001b[39;00m f \u001b[38;5;129;01min\u001b[39;00m our_books\u001b[38;5;241m.\u001b[39mfileids():\n\u001b[1;32m---> 17\u001b[0m     sentences \u001b[38;5;241m=\u001b[39m \u001b[43mour_books\u001b[49m\u001b[38;5;241;43m.\u001b[39;49m\u001b[43msents\u001b[49m\u001b[43m(\u001b[49m\u001b[43mf\u001b[49m\u001b[43m)\u001b[49m\n\u001b[0;32m     18\u001b[0m     \u001b[38;5;28mprint\u001b[39m(f,\u001b[38;5;124m\"\u001b[39m\u001b[38;5;124m:\u001b[39m\u001b[38;5;124m\"\u001b[39m)\n\u001b[0;32m     19\u001b[0m     \u001b[38;5;28mprint\u001b[39m(\u001b[38;5;124m'\u001b[39m\u001b[38;5;124mNumber of sentences:\u001b[39m\u001b[38;5;124m'\u001b[39m,\u001b[38;5;28mlen\u001b[39m(sentences))\n",
      "File \u001b[1;32m~\\AppData\\Roaming\\Python\\Python312\\site-packages\\nltk\\corpus\\reader\\plaintext.py:91\u001b[0m, in \u001b[0;36mPlaintextCorpusReader.sents\u001b[1;34m(self, fileids)\u001b[0m\n\u001b[0;32m     89\u001b[0m         \u001b[38;5;28mself\u001b[39m\u001b[38;5;241m.\u001b[39m_sent_tokenizer \u001b[38;5;241m=\u001b[39m PunktTokenizer()\n\u001b[0;32m     90\u001b[0m     \u001b[38;5;28;01mexcept\u001b[39;00m:\n\u001b[1;32m---> 91\u001b[0m         \u001b[38;5;28;01mraise\u001b[39;00m \u001b[38;5;167;01mValueError\u001b[39;00m(\u001b[38;5;124m\"\u001b[39m\u001b[38;5;124mNo sentence tokenizer for this corpus\u001b[39m\u001b[38;5;124m\"\u001b[39m)\n\u001b[0;32m     93\u001b[0m \u001b[38;5;28;01mreturn\u001b[39;00m concat(\n\u001b[0;32m     94\u001b[0m     [\n\u001b[0;32m     95\u001b[0m         \u001b[38;5;28mself\u001b[39m\u001b[38;5;241m.\u001b[39mCorpusView(path, \u001b[38;5;28mself\u001b[39m\u001b[38;5;241m.\u001b[39m_read_sent_block, encoding\u001b[38;5;241m=\u001b[39menc)\n\u001b[0;32m     96\u001b[0m         \u001b[38;5;28;01mfor\u001b[39;00m (path, enc, fileid) \u001b[38;5;129;01min\u001b[39;00m \u001b[38;5;28mself\u001b[39m\u001b[38;5;241m.\u001b[39mabspaths(fileids, \u001b[38;5;28;01mTrue\u001b[39;00m, \u001b[38;5;28;01mTrue\u001b[39;00m)\n\u001b[0;32m     97\u001b[0m     ]\n\u001b[0;32m     98\u001b[0m )\n",
      "\u001b[1;31mValueError\u001b[0m: No sentence tokenizer for this corpus"
     ]
    }
   ],
   "source": [
    "def get_chunks(l, n):\n",
    "    \"\"\"Yield successive n-sized chunks from l.\"\"\"\n",
    "    for i in range(0, len(l), n):\n",
    "        yield l[i:i + n]\n",
    "\n",
    "\n",
    "# Get the data\n",
    "book_id = {f:n for n,f in enumerate(our_books.fileids())} # dictionary of books\n",
    "\n",
    "chunks = list()\n",
    "chunk_class = list() # this list contains the original book of the chunk, for evaluation\n",
    "\n",
    "limit = 500 # how many chunks total\n",
    "size = 50 # how many sentences per chunk/page\n",
    "\n",
    "for f in our_books.fileids():\n",
    "    sentences = our_books.sents(f)\n",
    "    print(f,\":\")\n",
    "    print('Number of sentences:',len(sentences))\n",
    "    \n",
    "    # create chunks\n",
    "    chunks_of_sents = [x for x in get_chunks(sentences,size)] # this is a list of lists of sentences, which are a list of tokens\n",
    "    chs = list()\n",
    "    \n",
    "    # regroup so to have a list of chunks which are strings\n",
    "    for c in chunks_of_sents:\n",
    "        grouped_chunk = list()\n",
    "        for s in c:\n",
    "            grouped_chunk.extend(s)\n",
    "        chs.append(\" \".join(grouped_chunk))\n",
    "    print(\"Number of chunks:\",len(chs),'\\n')\n",
    "    \n",
    "    # filter to the limit, to have the same number of chunks per book\n",
    "    chunks.extend(chs[:limit])\n",
    "    chunk_class.extend([book_id[f] for _ in range(len(chs[:limit]))])"
   ]
  },
  {
   "cell_type": "markdown",
   "metadata": {},
   "source": [
    "### Representing the chunks with bag-of-words"
   ]
  },
  {
   "cell_type": "code",
   "execution_count": 40,
   "metadata": {},
   "outputs": [
    {
     "ename": "ValueError",
     "evalue": "empty vocabulary; perhaps the documents only contain stop words",
     "output_type": "error",
     "traceback": [
      "\u001b[1;31m---------------------------------------------------------------------------\u001b[0m",
      "\u001b[1;31mValueError\u001b[0m                                Traceback (most recent call last)",
      "Cell \u001b[1;32mIn[40], line 7\u001b[0m\n\u001b[0;32m      1\u001b[0m vectorizer \u001b[38;5;241m=\u001b[39m CountVectorizer()\n\u001b[0;32m      3\u001b[0m \u001b[38;5;66;03m#initialize and specify minumum number of occurences to avoid untractable number of features\u001b[39;00m\n\u001b[0;32m      4\u001b[0m \u001b[38;5;66;03m#vectorizer = CountVectorizer(min_df = 2) if we want high frequency\u001b[39;00m\n\u001b[0;32m      5\u001b[0m \n\u001b[0;32m      6\u001b[0m \u001b[38;5;66;03m#create bag of words features\u001b[39;00m\n\u001b[1;32m----> 7\u001b[0m X \u001b[38;5;241m=\u001b[39m \u001b[43mvectorizer\u001b[49m\u001b[38;5;241;43m.\u001b[39;49m\u001b[43mfit_transform\u001b[49m\u001b[43m(\u001b[49m\u001b[43mchunks\u001b[49m\u001b[43m)\u001b[49m\n\u001b[0;32m      9\u001b[0m \u001b[38;5;28mprint\u001b[39m(\u001b[38;5;124m'\u001b[39m\u001b[38;5;124mNumber of samples:\u001b[39m\u001b[38;5;124m'\u001b[39m,X\u001b[38;5;241m.\u001b[39mtoarray()\u001b[38;5;241m.\u001b[39mshape[\u001b[38;5;241m0\u001b[39m])\n\u001b[0;32m     10\u001b[0m \u001b[38;5;28mprint\u001b[39m(\u001b[38;5;124m'\u001b[39m\u001b[38;5;124mNumber of features:\u001b[39m\u001b[38;5;124m'\u001b[39m,X\u001b[38;5;241m.\u001b[39mtoarray()\u001b[38;5;241m.\u001b[39mshape[\u001b[38;5;241m1\u001b[39m])\n",
      "File \u001b[1;32m~\\AppData\\Roaming\\Python\\Python312\\site-packages\\sklearn\\base.py:1389\u001b[0m, in \u001b[0;36m_fit_context.<locals>.decorator.<locals>.wrapper\u001b[1;34m(estimator, *args, **kwargs)\u001b[0m\n\u001b[0;32m   1382\u001b[0m     estimator\u001b[38;5;241m.\u001b[39m_validate_params()\n\u001b[0;32m   1384\u001b[0m \u001b[38;5;28;01mwith\u001b[39;00m config_context(\n\u001b[0;32m   1385\u001b[0m     skip_parameter_validation\u001b[38;5;241m=\u001b[39m(\n\u001b[0;32m   1386\u001b[0m         prefer_skip_nested_validation \u001b[38;5;129;01mor\u001b[39;00m global_skip_validation\n\u001b[0;32m   1387\u001b[0m     )\n\u001b[0;32m   1388\u001b[0m ):\n\u001b[1;32m-> 1389\u001b[0m     \u001b[38;5;28;01mreturn\u001b[39;00m \u001b[43mfit_method\u001b[49m\u001b[43m(\u001b[49m\u001b[43mestimator\u001b[49m\u001b[43m,\u001b[49m\u001b[43m \u001b[49m\u001b[38;5;241;43m*\u001b[39;49m\u001b[43margs\u001b[49m\u001b[43m,\u001b[49m\u001b[43m \u001b[49m\u001b[38;5;241;43m*\u001b[39;49m\u001b[38;5;241;43m*\u001b[39;49m\u001b[43mkwargs\u001b[49m\u001b[43m)\u001b[49m\n",
      "File \u001b[1;32m~\\AppData\\Roaming\\Python\\Python312\\site-packages\\sklearn\\feature_extraction\\text.py:1376\u001b[0m, in \u001b[0;36mCountVectorizer.fit_transform\u001b[1;34m(self, raw_documents, y)\u001b[0m\n\u001b[0;32m   1368\u001b[0m             warnings\u001b[38;5;241m.\u001b[39mwarn(\n\u001b[0;32m   1369\u001b[0m                 \u001b[38;5;124m\"\u001b[39m\u001b[38;5;124mUpper case characters found in\u001b[39m\u001b[38;5;124m\"\u001b[39m\n\u001b[0;32m   1370\u001b[0m                 \u001b[38;5;124m\"\u001b[39m\u001b[38;5;124m vocabulary while \u001b[39m\u001b[38;5;124m'\u001b[39m\u001b[38;5;124mlowercase\u001b[39m\u001b[38;5;124m'\u001b[39m\u001b[38;5;124m\"\u001b[39m\n\u001b[0;32m   1371\u001b[0m                 \u001b[38;5;124m\"\u001b[39m\u001b[38;5;124m is True. These entries will not\u001b[39m\u001b[38;5;124m\"\u001b[39m\n\u001b[0;32m   1372\u001b[0m                 \u001b[38;5;124m\"\u001b[39m\u001b[38;5;124m be matched with any documents\u001b[39m\u001b[38;5;124m\"\u001b[39m\n\u001b[0;32m   1373\u001b[0m             )\n\u001b[0;32m   1374\u001b[0m             \u001b[38;5;28;01mbreak\u001b[39;00m\n\u001b[1;32m-> 1376\u001b[0m vocabulary, X \u001b[38;5;241m=\u001b[39m \u001b[38;5;28;43mself\u001b[39;49m\u001b[38;5;241;43m.\u001b[39;49m\u001b[43m_count_vocab\u001b[49m\u001b[43m(\u001b[49m\u001b[43mraw_documents\u001b[49m\u001b[43m,\u001b[49m\u001b[43m \u001b[49m\u001b[38;5;28;43mself\u001b[39;49m\u001b[38;5;241;43m.\u001b[39;49m\u001b[43mfixed_vocabulary_\u001b[49m\u001b[43m)\u001b[49m\n\u001b[0;32m   1378\u001b[0m \u001b[38;5;28;01mif\u001b[39;00m \u001b[38;5;28mself\u001b[39m\u001b[38;5;241m.\u001b[39mbinary:\n\u001b[0;32m   1379\u001b[0m     X\u001b[38;5;241m.\u001b[39mdata\u001b[38;5;241m.\u001b[39mfill(\u001b[38;5;241m1\u001b[39m)\n",
      "File \u001b[1;32m~\\AppData\\Roaming\\Python\\Python312\\site-packages\\sklearn\\feature_extraction\\text.py:1282\u001b[0m, in \u001b[0;36mCountVectorizer._count_vocab\u001b[1;34m(self, raw_documents, fixed_vocab)\u001b[0m\n\u001b[0;32m   1280\u001b[0m     vocabulary \u001b[38;5;241m=\u001b[39m \u001b[38;5;28mdict\u001b[39m(vocabulary)\n\u001b[0;32m   1281\u001b[0m     \u001b[38;5;28;01mif\u001b[39;00m \u001b[38;5;129;01mnot\u001b[39;00m vocabulary:\n\u001b[1;32m-> 1282\u001b[0m         \u001b[38;5;28;01mraise\u001b[39;00m \u001b[38;5;167;01mValueError\u001b[39;00m(\n\u001b[0;32m   1283\u001b[0m             \u001b[38;5;124m\"\u001b[39m\u001b[38;5;124mempty vocabulary; perhaps the documents only contain stop words\u001b[39m\u001b[38;5;124m\"\u001b[39m\n\u001b[0;32m   1284\u001b[0m         )\n\u001b[0;32m   1286\u001b[0m \u001b[38;5;28;01mif\u001b[39;00m indptr[\u001b[38;5;241m-\u001b[39m\u001b[38;5;241m1\u001b[39m] \u001b[38;5;241m>\u001b[39m np\u001b[38;5;241m.\u001b[39miinfo(np\u001b[38;5;241m.\u001b[39mint32)\u001b[38;5;241m.\u001b[39mmax:  \u001b[38;5;66;03m# = 2**31 - 1\u001b[39;00m\n\u001b[0;32m   1287\u001b[0m     \u001b[38;5;28;01mif\u001b[39;00m _IS_32BIT:\n",
      "\u001b[1;31mValueError\u001b[0m: empty vocabulary; perhaps the documents only contain stop words"
     ]
    }
   ],
   "source": [
    "vectorizer = CountVectorizer()\n",
    "\n",
    "#initialize and specify minumum number of occurences to avoid untractable number of features\n",
    "#vectorizer = CountVectorizer(min_df = 2) if we want high frequency\n",
    "\n",
    "#create bag of words features\n",
    "X = vectorizer.fit_transform(chunks)\n",
    "\n",
    "print('Number of samples:',X.toarray().shape[0])\n",
    "print('Number of features:',X.toarray().shape[1])\n",
    "\n",
    "#mask and convert to int Frankenstein\n",
    "Y = np.array(chunk_class) == 1\n",
    "Y = Y.astype(int)  \n",
    "\n",
    "#shuffle the data\n",
    "X, Y = shuffle(X, Y, random_state=0)\n",
    "\n",
    "#split into training and test set\n",
    "X_train, X_test, Y_train, Y_test = train_test_split(X, Y, test_size=0.2, random_state=42)"
   ]
  },
  {
   "cell_type": "markdown",
   "metadata": {},
   "source": [
    "### Let's fit the regularized logistic regression. We will crossvalidate the regularization parameter on the training set."
   ]
  },
  {
   "cell_type": "code",
   "execution_count": 45,
   "metadata": {},
   "outputs": [
    {
     "ename": "NameError",
     "evalue": "name 'X_train' is not defined",
     "output_type": "error",
     "traceback": [
      "\u001b[1;31m---------------------------------------------------------------------------\u001b[0m",
      "\u001b[1;31mNameError\u001b[0m                                 Traceback (most recent call last)",
      "Cell \u001b[1;32mIn[45], line 12\u001b[0m\n\u001b[0;32m      9\u001b[0m clf \u001b[38;5;241m=\u001b[39m LogisticRegression(random_state\u001b[38;5;241m=\u001b[39m\u001b[38;5;241m0\u001b[39m, solver\u001b[38;5;241m=\u001b[39m\u001b[38;5;124m'\u001b[39m\u001b[38;5;124mlbfgs\u001b[39m\u001b[38;5;124m'\u001b[39m,C \u001b[38;5;241m=\u001b[39m c)\n\u001b[0;32m     11\u001b[0m \u001b[38;5;66;03m#crossvalidate\u001b[39;00m\n\u001b[1;32m---> 12\u001b[0m scores \u001b[38;5;241m=\u001b[39m cross_val_score(clf, \u001b[43mX_train\u001b[49m,Y_train, cv\u001b[38;5;241m=\u001b[39m\u001b[38;5;241m10\u001b[39m)\n\u001b[0;32m     13\u001b[0m accs\u001b[38;5;241m.\u001b[39mappend(np\u001b[38;5;241m.\u001b[39mmean(scores))\n",
      "\u001b[1;31mNameError\u001b[0m: name 'X_train' is not defined"
     ]
    }
   ],
   "source": [
    "accs = []\n",
    "\n",
    "#the grid of regularization parameter \n",
    "grid = [0.01,0.1,1,10,100,1000,10000]\n",
    "\n",
    "for c in grid:\n",
    "    \n",
    "    #initialize the classifier\n",
    "    clf = LogisticRegression(random_state=0, solver='lbfgs',C = c)\n",
    "    \n",
    "    #crossvalidate\n",
    "    scores = cross_val_score(clf, X_train,Y_train, cv=10)\n",
    "    accs.append(np.mean(scores))"
   ]
  },
  {
   "cell_type": "code",
   "execution_count": 107,
   "metadata": {},
   "outputs": [
    {
     "data": {
      "text/plain": [
       "(0.986, 1.0)"
      ]
     },
     "execution_count": 107,
     "metadata": {},
     "output_type": "execute_result"
    },
    {
     "data": {
      "image/png": "[encoded data removed]",
      "text/plain": [
       "<Figure size 640x480 with 1 Axes>"
      ]
     },
     "metadata": {},
     "output_type": "display_data"
    }
   ],
   "source": [
    "plt.plot(accs)\n",
    "plt.xticks(range(len(grid)), grid)\n",
    "plt.xlabel('Regularization parameter \\n (Low - strong regularization, High - weak regularization)')\n",
    "plt.ylabel('Crossvalidation accuracy')\n",
    "plt.ylim([0.986,1])"
   ]
  },
  {
   "cell_type": "markdown",
   "metadata": {},
   "source": [
    "### Let's train again, on the entire training set, with the chosen regularization parameter. We will test on the test set"
   ]
  },
  {
   "cell_type": "code",
   "execution_count": 108,
   "metadata": {},
   "outputs": [
    {
     "name": "stdout",
     "output_type": "stream",
     "text": [
      "Accuracy: 0.9824561403508771\n"
     ]
    }
   ],
   "source": [
    "clf = LogisticRegression(random_state=0, solver='lbfgs',C = 10).fit(X_train,Y_train)\n",
    "\n",
    "#predict on the test set\n",
    "print('Accuracy:',clf.score(X_test,Y_test))"
   ]
  },
  {
   "cell_type": "markdown",
   "metadata": {},
   "source": [
    "### What features characterize Frankenstein? BOW are interpretable!"
   ]
  },
  {
   "cell_type": "code",
   "execution_count": 109,
   "metadata": {},
   "outputs": [
    {
     "name": "stdout",
     "output_type": "stream",
     "text": [
      "['frankenstein' 'death' 'poor' 'towards' 'father' 'creature' 'had' 'by'\n",
      " 'me' 'yet' 'this' 'misery' 'which' 'but' 'will' 'of' 'my' 'justine' 'who'\n",
      " 'and']\n"
     ]
    }
   ],
   "source": [
    "coefs=clf.coef_[0]\n",
    "top_three = np.argpartition(coefs, -20)[-20:]\n",
    "\n",
    "print(np.array(vectorizer.get_feature_names())[top_three])"
   ]
  },
  {
   "cell_type": "markdown",
   "metadata": {},
   "source": [
    "### We can perfectly predict paragraphs from Frankenstein! We saw issues of high dimensionality when using bag of words (more features than samples) and how regularization helps."
   ]
  },
  {
   "cell_type": "markdown",
   "metadata": {},
   "source": [
    "### Alternative text representation: word emdeddings, pretrained on intergraded in Spacy (300-dimensional word vectors trained on Common Crawl with GloVe.) Depending on the application, might be suitable or not"
   ]
  },
  {
   "cell_type": "code",
   "execution_count": 110,
   "metadata": {},
   "outputs": [
    {
     "name": "stdout",
     "output_type": "stream",
     "text": [
      "I am already far north of London, and as I walk in the streets of Petersburgh, I feel a cold northern breeze play upon my cheeks, which braces my nerves and fills me with delight. \n",
      "\n",
      "Embedding representation: [0.04903761, 0.13703471, 0.30768856, -0.20483726, -0.16568802, -0.06900881, -0.13494389, -0.13023743, 0.15460855, -0.10217006] ...\n"
     ]
    }
   ],
   "source": [
    "print(example,'\\n')\n",
    "print('Embedding representation:',list((nlp(example).vector)[0:10]),'...')"
   ]
  },
  {
   "cell_type": "markdown",
   "metadata": {},
   "source": [
    "# Task 3: Topic detection"
   ]
  },
  {
   "cell_type": "code",
   "execution_count": 111,
   "metadata": {},
   "outputs": [
    {
     "name": "stdout",
     "output_type": "stream",
     "text": [
      "DRACULA.txt\n",
      "Number of sentences: 9303\n",
      "Number of chunks: 187 \n",
      "\n",
      "Frankenstein.txt\n",
      "Number of sentences: 3378\n",
      "Number of chunks: 68 \n",
      "\n",
      "Moby_Dick.txt\n",
      "Number of sentences: 9609\n",
      "Number of chunks: 193 \n",
      "\n",
      "PRIDE_AND_PREJUDICE.txt\n",
      "Number of sentences: 6055\n",
      "Number of chunks: 122 \n",
      "\n"
     ]
    }
   ],
   "source": [
    "# Get the chunks again (into smaller chunks)\n",
    "book_id = {f:n for n,f in enumerate(our_books.fileids())} # dictionary of books\n",
    "chunks = list()\n",
    "chunk_class = list() # this list contains the original book of the chunk, for evaluation\n",
    "\n",
    "limit = 60 # how many chunks total\n",
    "size = 50 # how many sentences per chunk/page\n",
    "\n",
    "for f in our_books.fileids():\n",
    "    sentences = our_books.sents(f)\n",
    "    print(f)\n",
    "    print('Number of sentences:',len(sentences))\n",
    "    \n",
    "    # create chunks\n",
    "    chunks_of_sents = [x for x in get_chunks(sentences,size)] # this is a list of lists of sentences, which are a list of tokens\n",
    "    chs = list()\n",
    "    \n",
    "    # regroup so to have a list of chunks which are strings\n",
    "    for c in chunks_of_sents:\n",
    "        grouped_chunk = list()\n",
    "        for s in c:\n",
    "            grouped_chunk.extend(s)\n",
    "        chs.append(\" \".join(grouped_chunk))\n",
    "    print(\"Number of chunks:\",len(chs),'\\n')\n",
    "    \n",
    "    # filter to the limit, to have the same number of chunks per book\n",
    "    chunks.extend(chs[:limit])\n",
    "    chunk_class.extend([book_id[f] for _ in range(len(chs[:limit]))])"
   ]
  },
  {
   "cell_type": "code",
   "execution_count": 112,
   "metadata": {},
   "outputs": [],
   "source": [
    "STOPWORDS = spacy.lang.en.stop_words.STOP_WORDS\n",
    "\n",
    "processed_docs = list()\n",
    "for doc in nlp.pipe(chunks, n_process=5, batch_size=10):\n",
    "\n",
    "    # Process document using Spacy NLP pipeline.\n",
    "    ents = doc.ents  # Named entities\n",
    "\n",
    "    # Keep only words (no numbers, no punctuation).\n",
    "    # Lemmatize tokens, remove punctuation and remove stopwords.\n",
    "    doc = [token.lemma_ for token in doc if token.is_alpha and not token.is_stop]\n",
    "\n",
    "    # Remove common words from a stopword list and keep only words of length 3 or more.\n",
    "    doc = [token for token in doc if token not in STOPWORDS and len(token) > 2]\n",
    "\n",
    "    # Add named entities, but only if they are a compound of more than word.\n",
    "    doc.extend([str(entity) for entity in ents if len(entity) > 1])\n",
    "\n",
    "    processed_docs.append(doc)\n",
    "docs = processed_docs\n",
    "del processed_docs"
   ]
  },
  {
   "cell_type": "code",
   "execution_count": 113,
   "metadata": {},
   "outputs": [],
   "source": [
    "# Add bigrams too\n",
    "from gensim.models.phrases import Phrases\n",
    "\n",
    "# Add bigrams to docs (only ones that appear 15 times or more).\n",
    "bigram = Phrases(docs, min_count=15)\n",
    "\n",
    "for idx in range(len(docs)):\n",
    "    for token in bigram[docs[idx]]:\n",
    "        if '_' in token:\n",
    "            # Token is a bigram, add to document.\n",
    "            docs[idx].append(token)"
   ]
  },
  {
   "cell_type": "code",
   "execution_count": 114,
   "metadata": {},
   "outputs": [
    {
     "name": "stdout",
     "output_type": "stream",
     "text": [
      "Number of unique tokens: 3081\n",
      "Number of chunks: 240\n"
     ]
    }
   ],
   "source": [
    "# Create a dictionary representation of the documents, and filter out frequent and rare words.\n",
    "from gensim.corpora import Dictionary\n",
    "dictionary = Dictionary(docs)\n",
    "\n",
    "# Remove rare and common tokens.\n",
    "# Filter out words that occur too frequently or too rarely.\n",
    "max_freq = 0.5\n",
    "min_wordcount = 5\n",
    "dictionary.filter_extremes(no_below=min_wordcount, no_above=max_freq)\n",
    "\n",
    "# Bag-of-words representation of the documents.\n",
    "corpus = [dictionary.doc2bow(doc) for doc in docs]\n",
    "#MmCorpus.serialize(\"models/corpus.mm\", corpus)\n",
    "\n",
    "print('Number of unique tokens: %d' % len(dictionary))\n",
    "print('Number of chunks: %d' % len(corpus))"
   ]
  },
  {
   "cell_type": "code",
   "execution_count": 115,
   "metadata": {},
   "outputs": [],
   "source": [
    "# models\n",
    "from gensim.models import LdaMulticore\n",
    "params = {'passes': 10, 'random_state': seed}\n",
    "base_models = dict()\n",
    "model = LdaMulticore(corpus=corpus, num_topics=4, id2word=dictionary, workers=6,\n",
    "                passes=params['passes'], random_state=params['random_state'])"
   ]
  },
  {
   "cell_type": "code",
   "execution_count": 116,
   "metadata": {},
   "outputs": [
    {
     "data": {
      "text/plain": [
       "[(0,\n",
       "  '0.007*\"room\" + 0.007*\"sleep\" + 0.007*\"door\" + 0.007*\"old\" + 0.005*\"bed\"'),\n",
       " (1,\n",
       "  '0.007*\"Elizabeth\" + 0.006*\"father\" + 0.004*\"life\" + 0.004*\"feeling\" + 0.004*\"Collins\"'),\n",
       " (2,\n",
       "  '0.013*\"Elizabeth\" + 0.013*\"Darcy\" + 0.011*\"Bingley\" + 0.010*\"Miss\" + 0.008*\"sister\"'),\n",
       " (3,\n",
       "  '0.023*\"whale\" + 0.013*\"ship\" + 0.010*\"sea\" + 0.009*\"Queequeg\" + 0.008*\"Captain\"')]"
      ]
     },
     "execution_count": 116,
     "metadata": {},
     "output_type": "execute_result"
    }
   ],
   "source": [
    "model.show_topics(num_words=5)"
   ]
  },
  {
   "cell_type": "code",
   "execution_count": 117,
   "metadata": {},
   "outputs": [
    {
     "data": {
      "text/plain": [
       "[('Elizabeth', 0.0065868907),\n",
       " ('father', 0.0061776983),\n",
       " ('life', 0.0044325176),\n",
       " ('feeling', 0.004431001),\n",
       " ('Collins', 0.0040224367),\n",
       " ('return', 0.0038955654),\n",
       " ('pass', 0.0037969917),\n",
       " ('appear', 0.0037458038),\n",
       " ('love', 0.0033569376),\n",
       " ('mind', 0.0033487407),\n",
       " ('hope', 0.003173475),\n",
       " ('dear', 0.00307823),\n",
       " ('remain', 0.0029351918),\n",
       " ('enter', 0.0029246751),\n",
       " ('heart', 0.002858146),\n",
       " ('wish', 0.0027438258),\n",
       " ('death', 0.0027272378),\n",
       " ('young', 0.0026763345),\n",
       " ('family', 0.0026667023),\n",
       " ('word', 0.002633555)]"
      ]
     },
     "execution_count": 117,
     "metadata": {},
     "output_type": "execute_result"
    }
   ],
   "source": [
    "model.show_topic(1,20)"
   ]
  },
  {
   "cell_type": "code",
   "execution_count": 118,
   "metadata": {},
   "outputs": [
    {
     "data": {
      "text/plain": [
       "[(0, 0.9972452)]"
      ]
     },
     "execution_count": 118,
     "metadata": {},
     "output_type": "execute_result"
    }
   ],
   "source": [
    "sorted(model[corpus[0]],key=lambda x:x[1],reverse=True)"
   ]
  },
  {
   "cell_type": "code",
   "execution_count": 119,
   "metadata": {},
   "outputs": [
    {
     "name": "stderr",
     "output_type": "stream",
     "text": [
      "/Users/sakota/opt/anaconda3/envs/ada/lib/python3.9/site-packages/past/builtins/misc.py:45: DeprecationWarning: the imp module is deprecated in favour of importlib; see the module's documentation for alternative uses\n",
      "  from imp import reload\n",
      "/Users/sakota/opt/anaconda3/envs/ada/lib/python3.9/site-packages/past/builtins/misc.py:45: DeprecationWarning: the imp module is deprecated in favour of importlib; see the module's documentation for alternative uses\n",
      "  from imp import reload\n",
      "/Users/sakota/opt/anaconda3/envs/ada/lib/python3.9/site-packages/past/builtins/misc.py:45: DeprecationWarning: the imp module is deprecated in favour of importlib; see the module's documentation for alternative uses\n",
      "  from imp import reload\n",
      "/Users/sakota/opt/anaconda3/envs/ada/lib/python3.9/site-packages/past/builtins/misc.py:45: DeprecationWarning: the imp module is deprecated in favour of importlib; see the module's documentation for alternative uses\n",
      "  from imp import reload\n",
      "/Users/sakota/opt/anaconda3/envs/ada/lib/python3.9/site-packages/past/builtins/misc.py:45: DeprecationWarning: the imp module is deprecated in favour of importlib; see the module's documentation for alternative uses\n",
      "  from imp import reload\n",
      "/Users/sakota/opt/anaconda3/envs/ada/lib/python3.9/site-packages/past/builtins/misc.py:45: DeprecationWarning: the imp module is deprecated in favour of importlib; see the module's documentation for alternative uses\n",
      "  from imp import reload\n",
      "/Users/sakota/opt/anaconda3/envs/ada/lib/python3.9/site-packages/past/builtins/misc.py:45: DeprecationWarning: the imp module is deprecated in favour of importlib; see the module's documentation for alternative uses\n",
      "  from imp import reload\n",
      "/Users/sakota/opt/anaconda3/envs/ada/lib/python3.9/site-packages/past/builtins/misc.py:45: DeprecationWarning: the imp module is deprecated in favour of importlib; see the module's documentation for alternative uses\n",
      "  from imp import reload\n"
     ]
    },
    {
     "data": {
      "text/html": [
       "\n",
       "<link rel=\"stylesheet\" type=\"text/css\" href=\"https://cdn.jsdelivr.net/gh/bmabey/pyLDAvis@3.3.1/pyLDAvis/js/ldavis.v1.0.0.css\">\n",
       "\n",
       "\n",
       "<div id=\"ldavis_el939831404948640715846394267984\"></div>\n",
       "<script type=\"text/javascript\">\n",
       "\n",
       "var ldavis_el939831404948640715846394267984_data = {\"mdsDat\": {\"x\": [0.08644592801468251, 0.14135417231980715, -0.08478044377768057, -0.14301965655680918], \"y\": [-0.02305620743538057, 0.03894851813522328, -0.09933741954863634, 0.08344510884879361], \"topics\": [1, 2, 3, 4], \"cluster\": [1, 1, 1, 1], \"Freq\": [29.37108027818774, 26.227921900598066, 24.76658200744989, 19.63441581376431]}, \"tinfo\": {\"Term\": [\"whale\", \"ship\", \"Darcy\", \"Elizabeth\", \"Bingley\", \"Miss\", \"Queequeg\", \"sea\", \"Captain\", \"Jane\", \"Ahab\", \"sister\", \"Bennet\", \"Bildad\", \"Count\", \"thou\", \"Peleg\", \"old\", \"Mrs\", \"door\", \"Lucy\", \"Whale\", \"sleep\", \"dear\", \"voyage\", \"Jonah\", \"Wickham\", \"bed\", \"room\", \"Miss_Bingley\", \"Felix\", \"Clerval\", \"cottager\", \"Safie\", \"victim\", \"forever\", \"Justine\", \"Victor\", \"magistrate\", \"hovel\", \"protector\", \"unfortunate\", \"creator\", \"inhabit\", \"Ernest\", \"crime\", \"Frankenstein\", \"hatred\", \"ardently\", \"tranquillity\", \"daemon\", \"Geneva\", \"cottage\", \"remorse\", \"fulfil\", \"threat\", \"abhor\", \"Switzerland\", \"wretch\", \"wretchedness\", \"murderer\", \"reflect\", \"innocence\", \"miserable\", \"misfortune\", \"misery\", \"Henry\", \"sensation\", \"lake\", \"tale\", \"murder\", \"despair\", \"fiend\", \"countenance\", \"father\", \"month\", \"scene\", \"endeavour\", \"pursue\", \"gentle\", \"appear\", \"feeling\", \"Collins\", \"discover\", \"creature\", \"human\", \"return\", \"quit\", \"remain\", \"death\", \"life\", \"tear\", \"Elizabeth\", \"pass\", \"enter\", \"child\", \"mind\", \"family\", \"love\", \"hope\", \"desire\", \"heart\", \"dear\", \"wish\", \"word\", \"manner\", \"young\", \"happy\", \"moment\", \"believe\", \"country\", \"fear\", \"Seward\", \"Miss_Bingley\", \"Darcy\", \"Eliza\", \"Hurst\", \"Bingley\", \"Jane\", \"Mrs_Hurst\", \"Wickham\", \"dance\", \"Netherfield\", \"Amsterdam\", \"Miss\", \"September\", \"Miss Bingley\", \"Miss_Bennet\", \"Lucases\", \"William Lucas\", \"Meryton\", \"presentation\", \"partial\", \"Caroline\", \"Gardiner\", \"Pemberley\", \"dancing\", \"Fitzwilliam\", \"unlucky\", \"Louisa\", \"Forster\", \"Lucas\", \"Colonel\", \"ball\", \"acquaintance\", \"partner\", \"humour\", \"Miss_Lucas\", \"sister\", \"Hertfordshire\", \"Bennet\", \"Sir_William\", \"Mrs\", \"Elizabeth\", \"Charlotte\", \"husband\", \"dear\", \"marry\", \"agreeable\", \"lady\", \"wish\", \"girl\", \"Mrs_Bennet\", \"want\", \"young\", \"attention\", \"hope\", \"love\", \"manner\", \"mother\", \"believe\", \"reply\", \"mean\", \"ask\", \"letter\", \"room\", \"write\", \"Collins\", \"Count\", \"driver\", \"wolf\", \"Dracula\", \"floor\", \"pier\", \"harbour\", \"Hawkins\", \"key\", \"courtyard\", \"crucifix\", \"later\", \"chapel\", \"Cliff\", \"Pass\", \"Bistritz\", \"fog\", \"bench\", \"churchyard\", \"daylight\", \"diary\", \"Pier\", \"outside\", \"steep\", \"Slovaks\", \"Count Dracula\", \"east\", \"asleep\", \"flame\", \"softly\", \"landlord\", \"lock\", \"wall\", \"Lucy\", \"howling\", \"bed\", \"lamp\", \"window\", \"castle\", \"sleep\", \"door\", \"Whitby\", \"moonlight\", \"sweep\", \"pull\", \"whilst\", \"stone\", \"box\", \"August\", \"light\", \"run\", \"red\", \"lie\", \"room\", \"face\", \"white\", \"open\", \"fall\", \"close\", \"old\", \"strange\", \"round\", \"fear\", \"sit\", \"hold\", \"head\", \"try\", \"dark\", \"foot\", \"seat\", \"stand\", \"wind\", \"watch\", \"throw\", \"write\", \"sort\", \"ask\", \"sea\", \"morning\", \"house\", \"Bildad\", \"Peleg\", \"whale\", \"Whale\", \"Pequod\", \"oil\", \"Nantucket\", \"Captain_Peleg\", \"whaling\", \"Captain_Ahab\", \"whale_ship\", \"Jonah\", \"sperm\", \"Leviathan\", \"horn\", \"sperm_whale\", \"pilot\", \"thou\", \"New_Bedford\", \"Captain\", \"New Bedford\", \"Bedford\", \"Sperm\", \"Folio\", \"Pacific\", \"fin\", \"fishery\", \"Horn\", \"Flask\", \"Cape Horn\", \"Ahab\", \"mast\", \"ship\", \"shipmate\", \"whaleman\", \"voyage\", \"Queequeg\", \"Starbuck\", \"sailor\", \"cabin\", \"thee\", \"sea\", \"Stubb\", \"fish\", \"deck\", \"captain\", \"sail\", \"old\", \"head\", \"world\", \"chapter\", \"stand\", \"sort\", \"water\", \"God\", \"mate\", \"round\", \"small\"], \"Freq\": [329.0, 212.0, 256.0, 404.0, 229.0, 215.0, 161.0, 218.0, 125.0, 158.0, 107.0, 192.0, 174.0, 75.0, 87.0, 80.0, 70.0, 279.0, 205.0, 163.0, 104.0, 63.0, 159.0, 237.0, 77.0, 61.0, 85.0, 108.0, 258.0, 76.0, 42.22238767535914, 46.30170392269304, 22.234042306954017, 21.20747267723597, 15.170902591663358, 27.80174388592757, 46.31429331018173, 23.52390748568414, 12.583191461777238, 12.568578779870718, 12.512458587666648, 10.803334332936519, 15.786438711452885, 14.086311872146222, 10.770902921734242, 21.513032598531524, 13.238479072141187, 9.918701928996894, 9.893445094821285, 14.86209540772191, 9.893910952116254, 30.59240893118204, 48.44368329233209, 9.041724322271378, 9.859536179115127, 9.032986063385994, 11.493617443045828, 8.143103085537394, 17.829932351883503, 10.566255434001343, 24.25528845141875, 30.610176453643763, 16.11279984788973, 50.039977659589134, 31.403412776993957, 45.30645788803614, 22.829547812007064, 36.45376296911809, 27.055477967803057, 25.66809998971109, 34.68651271302647, 34.88449332075791, 25.28705619926457, 51.28383911820432, 132.5533211548394, 46.680919254480486, 50.366602323879164, 48.16153613471343, 26.36404832419031, 28.76610095913898, 80.37277293802066, 95.07487446623223, 86.3084143537174, 44.14847403693313, 55.97495463539062, 45.40837697301903, 83.5861691324119, 40.920432688008916, 62.97967484673448, 58.51765620711031, 95.10741703373277, 40.37465276564187, 141.33325990522906, 81.47109708063559, 62.754020067576995, 49.55177919761681, 71.85308979922767, 57.21876114033026, 72.02896653991796, 68.0924549121731, 48.16512311098997, 61.326523408442185, 66.04880765124038, 58.87358117204368, 56.507530688260594, 54.72654700907118, 57.42543691826967, 51.36770342287603, 51.26128313228707, 51.188174760656295, 49.804091505202734, 49.99335695957147, 18.30676307986719, 72.11646827543566, 241.14570022490219, 20.67494430974004, 31.48318953663271, 212.726526166077, 146.82456847707283, 19.51542131548485, 78.25679865545938, 68.68240830874721, 49.90352934701081, 7.700322989915931, 195.74471936132977, 16.149168784885816, 25.633706862097203, 35.01376674926969, 7.558423455373791, 7.51320065333172, 29.887855599150736, 5.592993167999398, 6.50677861446087, 18.508189018014722, 13.863949559370798, 12.935167915901888, 6.472773962619553, 28.519755423611638, 9.172797075825608, 6.423119553496636, 7.321621615628831, 56.416911039292785, 29.094221521111738, 36.03451190728884, 31.315405223245882, 18.15565124521487, 19.576621770236173, 22.01599422778855, 149.74153512377544, 22.79825234201111, 127.82116814006035, 35.276192389865905, 144.27198956547886, 258.61632550309855, 58.38704506464716, 29.979525792281002, 147.2877620343801, 41.564305462189765, 33.738527897189876, 84.76440314258751, 105.50211600562062, 70.73796913061966, 51.16183139649097, 74.6544145747481, 110.2047966901451, 55.802916813402256, 83.11668177644025, 85.09611732515042, 77.22962496259336, 64.4084943922079, 68.88505660535974, 61.922864142964265, 75.44464255538558, 66.54993704915105, 67.40747950744593, 80.12076147968924, 61.06668233916509, 57.70299720745875, 86.52673478264713, 29.30911544005182, 21.766735436227737, 15.247235773638634, 19.550575087333588, 15.050736944462138, 24.715854468940837, 13.250508700989705, 31.78489410889791, 10.548246969946335, 9.599721123451033, 21.878653684379145, 11.33603264161475, 10.451310833380528, 8.678012687992972, 8.675371387848399, 12.095898254219064, 11.233178855323125, 12.099168284900443, 8.618569217215386, 13.833161819962802, 8.613725253892035, 19.728797551793612, 11.172473184297026, 7.739728725032745, 7.738255894788653, 12.889447815716524, 26.771729603798548, 23.131784205282354, 8.566547294332059, 23.93121350310643, 34.85538446396404, 38.312029108826785, 89.44629400178053, 15.258481309102647, 91.08218977585146, 24.16525712899505, 83.4141373851646, 30.87020807749248, 123.91694592841814, 123.27720365544305, 16.88338325055428, 18.977973231749566, 27.532392450936133, 16.66863438541076, 32.09003378349459, 28.415669337400676, 22.899840560449665, 29.422524948571933, 89.39085618694388, 76.00729146459635, 32.14045439183652, 69.40815681327837, 135.10848428676508, 73.61682636915995, 58.29249580453915, 78.44572964782601, 60.90000668522085, 58.51447033168104, 117.61305976710442, 57.74335391786283, 65.15624491930421, 71.00832552749903, 73.35464257586186, 51.61706675622221, 76.45168705447075, 61.21420766222739, 41.9724835500126, 50.48824163351046, 42.5070540535947, 59.6667638485003, 46.45917627485991, 47.5758901728258, 48.11345583494505, 54.99600157051567, 56.88148967674894, 55.486381901025105, 62.49211669581062, 53.90395244503219, 50.736473295901355, 74.49746590310023, 69.68452302498727, 325.28815606748975, 62.85469996727844, 45.33943424300241, 30.131525558195417, 50.804492294679676, 29.15826877588632, 31.950878267004892, 39.20918625280414, 21.431957677135202, 59.53907983993808, 17.593582397485996, 16.637446377003336, 15.670970772279057, 15.662660030875548, 17.495356347190636, 76.03213272073, 15.608437327468929, 119.54062229855903, 15.601427383243104, 15.594439146800733, 13.711182898079347, 11.819519892758409, 11.77555244720384, 11.751295669024602, 14.457357062430782, 11.71766780771165, 35.88992923682065, 9.84657960653042, 98.79629706837625, 49.796513077822745, 192.359535515985, 28.914603916114803, 32.25439983490383, 66.68542241834571, 131.03172096088315, 35.1325146152143, 41.293293767924474, 43.40251551867044, 34.20733556376512, 145.02574709329295, 36.56720874089548, 45.65107118225378, 52.70467810975016, 34.56420150475558, 52.71037222833284, 109.73589780327025, 72.5977676782427, 61.340565373136236, 54.864696073776166, 53.28664374617133, 54.271395634733544, 45.169746169579746, 47.67085352551436, 39.56976589459456, 43.645211877334056, 40.95039762050077], \"Total\": [329.0, 212.0, 256.0, 404.0, 229.0, 215.0, 161.0, 218.0, 125.0, 158.0, 107.0, 192.0, 174.0, 75.0, 87.0, 80.0, 70.0, 279.0, 205.0, 163.0, 104.0, 63.0, 159.0, 237.0, 77.0, 61.0, 85.0, 108.0, 258.0, 76.0, 43.6215087805446, 48.18691703664272, 23.176428310666495, 22.29288695598411, 16.07679878509111, 29.51804562288852, 49.26049631141239, 25.03712102084327, 13.40093940163415, 13.400854008768906, 13.412177509681177, 11.629226657397007, 17.00807441543427, 15.195064025966602, 11.626769666352258, 23.23223586397398, 14.333877867509413, 10.739614237410457, 10.739023599727515, 16.132949217445955, 10.740867823424406, 33.23699330910814, 52.72830756414335, 9.848703190615948, 10.749517895691461, 9.85134626894691, 12.543488522796395, 8.963315461758027, 19.690795701465618, 11.670470295608672, 26.833149842035795, 34.24449783857062, 17.921722909717513, 58.7684362888946, 36.170384243843, 53.37280166714394, 26.062094227459276, 43.08701239947252, 31.375364048284236, 29.70100232652591, 41.28192858103487, 42.305779578707835, 29.589468237487658, 65.63279594465071, 206.14406928461747, 61.2811151376271, 67.16033490881472, 63.83460370112111, 31.60863487532747, 35.202589358830224, 128.41249272122334, 162.44407432842385, 144.90391592517642, 61.480528769742115, 85.77886856091447, 65.40321872311779, 153.60426469641092, 57.14562586788445, 110.53267310548114, 99.24403724011347, 214.28635288328718, 57.454361473392886, 404.2541246692657, 176.3723557016532, 118.7710075935608, 80.49880296931768, 167.65754395869482, 114.66948810703002, 185.03830384137052, 174.60463117263083, 83.21752100965821, 158.81455906727402, 237.09621464189223, 193.91568660580117, 168.91015678533603, 157.9051645953196, 229.20906223196093, 119.04398511043621, 135.32880370044583, 137.17549178185746, 104.84018732251413, 144.57323402353626, 19.15844349308016, 76.47076136238991, 256.4714082315177, 22.236952097402483, 33.9244379434851, 229.44850247539821, 158.5153046814151, 21.1731562999393, 85.39398551120638, 75.05271831646762, 54.80081720098945, 8.456366007517415, 215.0392172359069, 17.89832415550887, 28.45677547287002, 38.92685481761797, 8.434211574249302, 8.424429485588657, 33.59299245927886, 6.3186118894285235, 7.363519246118083, 20.971783575464627, 15.728712267964491, 14.700454576814503, 7.360553461830164, 32.469771860166475, 10.488429818565834, 7.364437405827416, 8.398462267854095, 64.77200311513988, 33.46325530313786, 42.00125006882098, 36.5645322882724, 21.05828973113965, 22.950195438113166, 26.007923506394494, 192.34634560125326, 27.034558819881624, 174.7491856677624, 43.457641889820636, 205.95923990757882, 404.2541246692657, 78.42495546699944, 37.17756450861229, 237.09621464189223, 55.15353096766009, 43.134006149087504, 132.76483889543593, 193.91568660580117, 116.02149865024312, 77.19962911185965, 131.17960498798476, 229.20906223196093, 89.85406470951202, 174.60463117263083, 185.03830384137052, 157.9051645953196, 118.68600185103851, 137.17549178185746, 113.59852553050732, 169.69533950549112, 143.63095678906637, 150.26405697876692, 258.6639956765516, 133.00407262911924, 144.90391592517642, 87.5361426669278, 30.133465709313192, 22.61194644571476, 16.021141225290187, 20.72692449623545, 16.011204880242765, 26.32843721784537, 14.154012615817779, 34.0609807179669, 11.315023295010038, 10.37347385375543, 23.659836336834932, 12.263871900058962, 11.323445228154075, 9.433185980920886, 9.43400110446792, 13.20471007482508, 12.268122917526902, 13.215771757602495, 9.42841277790804, 15.144281601663087, 9.431434393494381, 21.62330421546106, 12.258228312744576, 8.492489976209997, 8.49289272273871, 14.149741580662633, 29.38947660051542, 25.452651843105887, 9.42732873543398, 26.429292376101884, 38.65412330055472, 43.11970446239097, 104.25535608172414, 16.961379727377928, 108.42031618292796, 27.37951574442452, 101.94475211301892, 35.781731381903576, 159.93645653218516, 163.17321130045735, 18.992388030331888, 21.714646205044616, 33.0795357299443, 18.85501591783218, 39.868056005909956, 34.97409886879233, 27.42229697872889, 37.04738691134741, 139.53798169921822, 115.20445691755492, 41.75826642450517, 110.61815999698132, 258.6639956765516, 124.27218602561399, 92.71883030821068, 141.1399691469041, 100.7958804841421, 100.0177033348934, 279.7981509918741, 100.2121104742983, 123.0500661982312, 144.57323402353626, 152.20451243738233, 91.23762076204758, 183.59721807648498, 126.16362697849702, 66.3730847725943, 94.48103842823544, 68.86011361548063, 143.24852943659798, 83.85719672093957, 89.02585201538575, 91.52677032394425, 133.00407262911924, 151.83575298458936, 143.63095678906637, 218.83695527947248, 145.22864827339538, 162.91632579368402, 75.41611903918754, 70.58066354941914, 329.66281836320314, 63.813415061203855, 46.40628337351674, 30.939882449450433, 52.198673013875414, 29.97109128562327, 32.87361710881005, 40.594094506975026, 22.2370475900776, 61.84614413763356, 18.36981000222435, 17.4037091835531, 16.436972235772963, 16.436362009337437, 18.367280581350936, 80.02938794221599, 16.434138583084025, 125.86834395241863, 16.433983143413148, 16.43364355996185, 14.501361453774905, 12.568370545814084, 12.565180955013602, 12.566187609525576, 15.462594816504783, 12.56579686752717, 38.62302084882509, 10.633579571069632, 107.12589049490511, 54.05647165005424, 212.23388704437946, 31.851308174392035, 35.701094825079764, 77.60696613231406, 161.63125715745733, 39.54360486914498, 47.24297217354215, 50.04643516723324, 40.20892818024837, 218.83695527947248, 44.285410816589874, 57.98309832401135, 69.119984344327, 44.2300799344915, 84.93382903465098, 279.7981509918741, 183.59721807648498, 158.63002609598166, 126.57891698885913, 143.24852943659798, 151.83575298458936, 94.33160812538823, 117.33359179556523, 65.92657778299915, 123.0500661982312, 93.50516516552085], \"Category\": [\"Default\", \"Default\", \"Default\", \"Default\", \"Default\", \"Default\", \"Default\", \"Default\", \"Default\", \"Default\", \"Default\", \"Default\", \"Default\", \"Default\", \"Default\", \"Default\", \"Default\", \"Default\", \"Default\", \"Default\", \"Default\", \"Default\", \"Default\", \"Default\", \"Default\", \"Default\", \"Default\", \"Default\", \"Default\", \"Default\", \"Topic1\", \"Topic1\", \"Topic1\", \"Topic1\", \"Topic1\", \"Topic1\", \"Topic1\", \"Topic1\", \"Topic1\", \"Topic1\", \"Topic1\", \"Topic1\", \"Topic1\", \"Topic1\", \"Topic1\", \"Topic1\", \"Topic1\", \"Topic1\", \"Topic1\", \"Topic1\", \"Topic1\", \"Topic1\", \"Topic1\", \"Topic1\", \"Topic1\", \"Topic1\", \"Topic1\", \"Topic1\", \"Topic1\", \"Topic1\", \"Topic1\", \"Topic1\", \"Topic1\", \"Topic1\", \"Topic1\", \"Topic1\", \"Topic1\", \"Topic1\", \"Topic1\", \"Topic1\", \"Topic1\", \"Topic1\", \"Topic1\", \"Topic1\", \"Topic1\", \"Topic1\", \"Topic1\", \"Topic1\", \"Topic1\", \"Topic1\", \"Topic1\", \"Topic1\", \"Topic1\", \"Topic1\", \"Topic1\", \"Topic1\", \"Topic1\", \"Topic1\", \"Topic1\", \"Topic1\", \"Topic1\", \"Topic1\", \"Topic1\", \"Topic1\", \"Topic1\", \"Topic1\", \"Topic1\", \"Topic1\", \"Topic1\", \"Topic1\", \"Topic1\", \"Topic1\", \"Topic1\", \"Topic1\", \"Topic1\", \"Topic1\", \"Topic1\", \"Topic1\", \"Topic1\", \"Topic1\", \"Topic1\", \"Topic1\", \"Topic2\", \"Topic2\", \"Topic2\", \"Topic2\", \"Topic2\", \"Topic2\", \"Topic2\", \"Topic2\", \"Topic2\", \"Topic2\", \"Topic2\", \"Topic2\", \"Topic2\", \"Topic2\", \"Topic2\", \"Topic2\", \"Topic2\", \"Topic2\", \"Topic2\", \"Topic2\", \"Topic2\", \"Topic2\", \"Topic2\", \"Topic2\", \"Topic2\", \"Topic2\", \"Topic2\", \"Topic2\", \"Topic2\", \"Topic2\", \"Topic2\", \"Topic2\", \"Topic2\", \"Topic2\", \"Topic2\", \"Topic2\", \"Topic2\", \"Topic2\", \"Topic2\", \"Topic2\", \"Topic2\", \"Topic2\", \"Topic2\", \"Topic2\", \"Topic2\", \"Topic2\", \"Topic2\", \"Topic2\", \"Topic2\", \"Topic2\", \"Topic2\", \"Topic2\", \"Topic2\", \"Topic2\", \"Topic2\", \"Topic2\", \"Topic2\", \"Topic2\", \"Topic2\", \"Topic2\", \"Topic2\", \"Topic2\", \"Topic2\", \"Topic2\", \"Topic2\", \"Topic2\", \"Topic3\", \"Topic3\", \"Topic3\", \"Topic3\", \"Topic3\", \"Topic3\", \"Topic3\", \"Topic3\", \"Topic3\", \"Topic3\", \"Topic3\", \"Topic3\", \"Topic3\", \"Topic3\", \"Topic3\", \"Topic3\", \"Topic3\", \"Topic3\", \"Topic3\", \"Topic3\", \"Topic3\", \"Topic3\", \"Topic3\", \"Topic3\", \"Topic3\", \"Topic3\", \"Topic3\", \"Topic3\", \"Topic3\", \"Topic3\", \"Topic3\", \"Topic3\", \"Topic3\", \"Topic3\", \"Topic3\", \"Topic3\", \"Topic3\", \"Topic3\", \"Topic3\", \"Topic3\", \"Topic3\", \"Topic3\", \"Topic3\", \"Topic3\", \"Topic3\", \"Topic3\", \"Topic3\", \"Topic3\", \"Topic3\", \"Topic3\", \"Topic3\", \"Topic3\", \"Topic3\", \"Topic3\", \"Topic3\", \"Topic3\", \"Topic3\", \"Topic3\", \"Topic3\", \"Topic3\", \"Topic3\", \"Topic3\", \"Topic3\", \"Topic3\", \"Topic3\", \"Topic3\", \"Topic3\", \"Topic3\", \"Topic3\", \"Topic3\", \"Topic3\", \"Topic3\", \"Topic3\", \"Topic3\", \"Topic3\", \"Topic3\", \"Topic3\", \"Topic3\", \"Topic3\", \"Topic3\", \"Topic4\", \"Topic4\", \"Topic4\", \"Topic4\", \"Topic4\", \"Topic4\", \"Topic4\", \"Topic4\", \"Topic4\", \"Topic4\", \"Topic4\", \"Topic4\", \"Topic4\", \"Topic4\", \"Topic4\", \"Topic4\", \"Topic4\", \"Topic4\", \"Topic4\", \"Topic4\", \"Topic4\", \"Topic4\", \"Topic4\", \"Topic4\", \"Topic4\", \"Topic4\", \"Topic4\", \"Topic4\", \"Topic4\", \"Topic4\", \"Topic4\", \"Topic4\", \"Topic4\", \"Topic4\", \"Topic4\", \"Topic4\", \"Topic4\", \"Topic4\", \"Topic4\", \"Topic4\", \"Topic4\", \"Topic4\", \"Topic4\", \"Topic4\", \"Topic4\", \"Topic4\", \"Topic4\", \"Topic4\", \"Topic4\", \"Topic4\", \"Topic4\", \"Topic4\", \"Topic4\", \"Topic4\", \"Topic4\", \"Topic4\", \"Topic4\", \"Topic4\"], \"logprob\": [30.0, 29.0, 28.0, 27.0, 26.0, 25.0, 24.0, 23.0, 22.0, 21.0, 20.0, 19.0, 18.0, 17.0, 16.0, 15.0, 14.0, 13.0, 12.0, 11.0, 10.0, 9.0, 8.0, 7.0, 6.0, 5.0, 4.0, 3.0, 2.0, 1.0, -6.2308, -6.1386, -6.8722, -6.9194, -7.2544, -6.6487, -6.1383, -6.8158, -7.4414, -7.4426, -7.4471, -7.5939, -7.2146, -7.3286, -7.5969, -6.9051, -7.3907, -7.6794, -7.6819, -7.275, -7.6819, -6.553, -6.0934, -7.7719, -7.6854, -7.7729, -7.532, -7.8766, -7.0929, -7.6161, -6.7852, -6.5525, -7.1942, -6.061, -6.5269, -6.1603, -6.8457, -6.3777, -6.6759, -6.7285, -6.4274, -6.4218, -6.7435, -6.0364, -5.0868, -6.1305, -6.0545, -6.0992, -6.7018, -6.6146, -5.5871, -5.4191, -5.5159, -6.1862, -5.9489, -6.1581, -5.5479, -6.2622, -5.831, -5.9045, -5.4188, -6.2756, -5.0227, -5.5735, -5.8346, -6.0708, -5.6992, -5.9269, -5.6967, -5.7529, -6.0992, -5.8576, -5.7834, -5.8984, -5.9394, -5.9714, -5.9233, -6.0348, -6.0369, -6.0383, -6.0657, -6.0619, -6.9533, -5.5823, -4.3752, -6.8317, -6.4112, -4.5006, -4.8714, -6.8894, -5.5006, -5.6311, -5.9505, -7.8193, -4.5838, -7.0787, -6.6167, -6.3049, -7.8379, -7.8439, -6.4632, -8.1391, -7.9878, -6.9424, -7.2313, -7.3007, -7.993, -6.51, -7.6444, -8.0007, -7.8698, -5.8278, -6.4901, -6.2761, -6.4165, -6.9616, -6.8863, -6.7688, -4.8517, -6.7339, -5.01, -6.2974, -4.8889, -4.3053, -5.7935, -6.4601, -4.8682, -6.1334, -6.342, -5.4207, -5.2019, -5.6016, -5.9256, -5.5477, -5.1583, -5.8388, -5.4404, -5.4168, -5.5138, -5.6954, -5.6282, -5.7347, -5.5372, -5.6627, -5.6499, -5.4771, -5.7486, -5.8053, -5.3428, -6.4254, -6.7229, -7.0789, -6.8303, -7.0919, -6.5958, -7.2192, -6.3443, -7.4473, -7.5415, -6.7178, -7.3753, -7.4566, -7.6425, -7.6428, -7.3104, -7.3844, -7.3101, -7.6494, -7.1762, -7.6499, -6.8212, -7.3898, -7.7569, -7.7571, -7.2469, -6.5159, -6.6621, -7.6554, -6.6281, -6.2521, -6.1575, -5.3096, -7.0781, -5.2915, -6.6184, -5.3795, -6.3735, -4.9837, -4.9888, -6.9769, -6.86, -6.4879, -6.9898, -6.3347, -6.4563, -6.6721, -6.4215, -5.3103, -5.4724, -6.3332, -5.5633, -4.8972, -5.5044, -5.7378, -5.4409, -5.694, -5.734, -5.0359, -5.7473, -5.6265, -5.5405, -5.508, -5.8594, -5.4666, -5.6889, -6.0663, -5.8815, -6.0536, -5.7145, -5.9647, -5.941, -5.9297, -5.796, -5.7623, -5.7871, -5.6682, -5.8161, -5.8766, -5.2603, -5.3271, -3.7864, -5.4302, -5.7569, -6.1655, -5.6431, -6.1983, -6.1069, -5.9022, -6.5062, -5.4844, -6.7035, -6.7594, -6.8193, -6.8198, -6.7091, -5.2399, -6.8233, -4.7874, -6.8237, -6.8242, -6.9529, -7.1013, -7.105, -7.1071, -6.8999, -7.11, -5.9906, -7.2839, -4.978, -5.6631, -4.3117, -6.2067, -6.0974, -5.3711, -4.6956, -6.0119, -5.8504, -5.8006, -6.0386, -4.5942, -5.9719, -5.75, -5.6064, -6.0282, -5.6063, -4.873, -5.2861, -5.4546, -5.5662, -5.5954, -5.5771, -5.7606, -5.7067, -5.893, -5.795, -5.8587], \"loglift\": [30.0, 29.0, 28.0, 27.0, 26.0, 25.0, 24.0, 23.0, 22.0, 21.0, 20.0, 19.0, 18.0, 17.0, 16.0, 15.0, 14.0, 13.0, 12.0, 11.0, 10.0, 9.0, 8.0, 7.0, 6.0, 5.0, 4.0, 3.0, 2.0, 1.0, 1.1926, 1.1853, 1.1836, 1.1752, 1.1672, 1.1653, 1.1635, 1.1628, 1.1622, 1.161, 1.1557, 1.1515, 1.1506, 1.1494, 1.1487, 1.1483, 1.1457, 1.1456, 1.1431, 1.1431, 1.143, 1.1422, 1.1404, 1.1397, 1.1387, 1.1384, 1.1377, 1.1292, 1.1259, 1.1258, 1.1242, 1.113, 1.1188, 1.0644, 1.0838, 1.0613, 1.0927, 1.058, 1.077, 1.0792, 1.0511, 1.0323, 1.068, 0.9785, 0.7836, 0.953, 0.9374, 0.9434, 1.0437, 1.0232, 0.7566, 0.6895, 0.707, 0.894, 0.7983, 0.8603, 0.6167, 0.8912, 0.6627, 0.6969, 0.4129, 0.8724, 0.1742, 0.4528, 0.5872, 0.7399, 0.3779, 0.53, 0.2817, 0.2835, 0.6783, 0.2736, -0.0529, 0.0331, 0.1302, 0.1655, -0.159, 0.3847, 0.2544, 0.2394, 0.4808, 0.1633, 1.2929, 1.2797, 1.2767, 1.2655, 1.2637, 1.2627, 1.2617, 1.2568, 1.2511, 1.2496, 1.2447, 1.2447, 1.2443, 1.2355, 1.2339, 1.2324, 1.2287, 1.2239, 1.2215, 1.2164, 1.2147, 1.2134, 1.2121, 1.2104, 1.2098, 1.2086, 1.2043, 1.2016, 1.2011, 1.2002, 1.1984, 1.1851, 1.1834, 1.19, 1.1794, 1.1717, 1.088, 1.1679, 1.0256, 1.1298, 0.9824, 0.8916, 1.0433, 1.1232, 0.8623, 1.0555, 1.0927, 0.8896, 0.7297, 0.8436, 0.9269, 0.7746, 0.6061, 0.862, 0.5961, 0.5616, 0.6231, 0.7271, 0.6495, 0.7316, 0.5277, 0.5691, 0.5367, 0.1664, 0.5599, 0.4176, 1.3841, 1.3679, 1.3576, 1.3462, 1.3372, 1.3338, 1.3325, 1.3297, 1.3265, 1.3255, 1.3182, 1.3174, 1.317, 1.3155, 1.3122, 1.3118, 1.308, 1.3075, 1.3074, 1.3059, 1.3051, 1.305, 1.304, 1.3029, 1.3029, 1.3026, 1.3024, 1.3024, 1.3001, 1.2999, 1.2964, 1.2922, 1.2775, 1.2425, 1.2899, 1.2214, 1.2708, 1.1951, 1.248, 1.1405, 1.1153, 1.278, 1.261, 1.2121, 1.2724, 1.1786, 1.188, 1.2154, 1.1652, 0.9504, 0.9798, 1.1339, 0.9296, 0.7462, 0.8721, 0.9316, 0.8083, 0.8918, 0.8596, 0.529, 0.8444, 0.7599, 0.6847, 0.6658, 0.8261, 0.5196, 0.6725, 0.9374, 0.769, 0.9133, 0.5199, 0.8051, 0.7691, 0.7526, 0.5126, 0.4138, 0.4446, 0.1424, 0.4046, 0.2291, 1.6156, 1.6151, 1.6145, 1.6127, 1.6046, 1.6014, 1.6008, 1.6004, 1.5994, 1.5932, 1.591, 1.5899, 1.5847, 1.5829, 1.5802, 1.5797, 1.5793, 1.5766, 1.5763, 1.5763, 1.5759, 1.5755, 1.5719, 1.5665, 1.563, 1.5608, 1.5607, 1.558, 1.5545, 1.551, 1.5469, 1.5458, 1.5296, 1.5312, 1.5264, 1.4762, 1.418, 1.5096, 1.4933, 1.4855, 1.4662, 1.2165, 1.4364, 1.3888, 1.3567, 1.3813, 1.1508, 0.6919, 0.7001, 0.6778, 0.7919, 0.639, 0.5991, 0.8915, 0.7272, 1.1174, 0.5914, 0.8022]}, \"token.table\": {\"Topic\": [3, 4, 2, 1, 2, 3, 4, 4, 1, 2, 4, 4, 1, 2, 4, 3, 4, 1, 2, 3, 4, 3, 4, 4, 1, 2, 1, 2, 1, 2, 3, 1, 2, 4, 1, 2, 4, 3, 3, 1, 2, 4, 3, 1, 2, 1, 2, 3, 4, 1, 1, 3, 1, 2, 4, 3, 4, 4, 2, 1, 2, 1, 2, 1, 2, 1, 2, 3, 4, 3, 1, 2, 4, 1, 2, 4, 1, 2, 4, 1, 2, 4, 3, 4, 1, 2, 4, 2, 1, 2, 2, 2, 3, 1, 2, 4, 1, 2, 3, 4, 1, 2, 4, 1, 2, 4, 1, 2, 4, 1, 2, 1, 2, 3, 4, 1, 2, 4, 1, 2, 4, 3, 4, 1, 2, 4, 4, 4, 4, 3, 4, 1, 2, 4, 4, 3, 3, 4, 1, 3, 1, 2, 2, 1, 2, 4, 3, 4, 3, 4, 3, 4, 1, 1, 2, 4, 2, 3, 1, 2, 4, 2, 1, 1, 2, 4, 1, 2, 4, 1, 2, 3, 4, 1, 1, 2, 3, 4, 2, 3, 4, 1, 2, 3, 4, 1, 2, 4, 1, 2, 3, 4, 1, 2, 3, 4, 3, 3, 4, 1, 3, 4, 3, 4, 1, 3, 4, 3, 1, 2, 3, 4, 1, 2, 3, 4, 2, 3, 1, 2, 3, 4, 1, 3, 4, 1, 1, 2, 3, 4, 1, 2, 3, 4, 3, 1, 2, 1, 2, 3, 4, 1, 3, 4, 3, 1, 1, 2, 3, 4, 2, 1, 2, 3, 4, 3, 1, 2, 3, 4, 1, 2, 3, 4, 1, 3, 4, 1, 2, 3, 4, 1, 2, 3, 4, 2, 3, 1, 2, 3, 4, 1, 2, 3, 4, 3, 3, 4, 1, 2, 3, 1, 2, 3, 4, 1, 2, 3, 4, 1, 2, 3, 4, 1, 2, 3, 4, 1, 2, 3, 4, 1, 2, 3, 4, 1, 2, 3, 4, 1, 3, 4, 1, 2, 3, 4, 4, 3, 4, 3, 4, 3, 4, 1, 2, 3, 4, 1, 2, 1, 1, 2, 3, 1, 2, 3, 4, 1, 2, 3, 4, 1, 3, 1, 1, 2, 3, 4, 1, 2, 3, 4, 1, 2, 3, 4, 1, 2, 3, 4, 4, 1, 2, 3, 4, 1, 3, 4, 1, 2, 3, 4, 1, 2, 3, 1, 2, 3, 1, 3, 1, 4, 2, 3, 1, 2, 3, 4, 1, 3, 3, 4, 3, 4, 2, 3, 1, 2, 3, 4, 1, 2, 3, 4, 1, 2, 3, 4, 1, 2, 3, 4, 1, 3, 4, 1, 2, 3, 4, 1, 1, 2, 3, 4, 1, 2, 3, 3, 4, 1, 3, 4, 1, 2, 3, 4, 1, 2, 3, 4, 1, 2, 3, 4, 1, 2, 3, 4, 1, 2, 3, 1, 2, 3, 4, 1, 2, 3, 4, 3, 4, 1, 2, 3, 4, 1, 2, 3, 4, 1, 3, 4, 1, 3, 4, 4, 1, 2, 3, 4, 1, 2, 3, 4, 1, 3, 2, 2, 4, 1, 2, 3, 4, 3, 4, 2, 1, 1, 2, 3, 1, 2, 3, 4, 1, 2, 3, 4, 1, 2, 3, 4, 1, 2, 3, 1, 2, 3, 4, 1, 1, 2, 3, 4, 1, 2, 3, 4, 1, 2, 3, 4, 1, 2, 3, 4, 1, 2, 3, 4, 1, 3, 4, 3, 4, 1, 2, 3, 4, 1, 2, 3, 4, 1, 2, 3, 4, 1, 2, 3, 2, 3, 4, 3, 4, 1, 2, 3, 4, 1, 2, 3, 4, 1, 2, 3, 4, 1, 2, 3, 4, 3, 1, 2, 3, 4, 4, 4, 1, 2, 3, 4, 3, 4, 3, 4, 1, 2, 3, 4, 3, 4, 1, 2, 3, 1, 2, 3, 4, 1, 3, 4, 1, 3, 4, 1, 1, 2, 3, 4, 1, 2, 1, 2, 3, 4, 1, 1, 2, 1, 1, 2, 3, 4, 1, 3, 4, 1, 2, 3, 4, 1, 2, 3, 4, 1, 3, 4, 2, 3, 4, 4, 3, 4, 4, 1, 2, 3, 1, 2, 3, 4, 1, 2, 3, 4, 1, 2, 3, 4, 1, 2, 3, 4, 3, 1, 2, 3, 4, 1, 2, 3, 4, 1, 3, 1, 2, 1, 2, 3, 4, 1, 2, 3, 4], \"Freq\": [0.07467849240777587, 0.9241463435462264, 0.9460328458924647, 0.05398491409895933, 0.10796982819791866, 0.7827812544349102, 0.026992457049479664, 0.9736124518960385, 0.25751192961525526, 0.7324783775722816, 0.00572248732478345, 0.9812225946226205, 0.056657593576553755, 0.9283128793696884, 0.01307482928689702, 0.9539960723279565, 0.9404170940899914, 0.015889618765112617, 0.031779237530225234, 0.007944809382556308, 0.9533771259067569, 0.024634125040729173, 0.9607308765884377, 0.9675990681697636, 0.09536623305324618, 0.9059792140058387, 0.24226982198281313, 0.7395605092106927, 0.9546159586225506, 0.020752520839620665, 0.8831234486070084, 0.5934967281657698, 0.40026523527458896, 0.006901124746113603, 0.08965057263029305, 0.8666222020928328, 0.029883524210097684, 0.9938751851453198, 0.9419640941161251, 0.0467888412308617, 0.9396758947198058, 0.011697210307715426, 0.9362628909557165, 0.044970191760983776, 0.9443740269806593, 0.3487905042783595, 0.6406861036035114, 0.0024736915197046774, 0.007421074559114033, 0.9460925360750783, 0.9628277694679878, 0.022924470701618755, 0.09239362730726063, 0.8931383973035194, 0.030797875769086876, 0.05178258862320034, 0.9320865952176063, 0.9547777061678548, 0.8334859140575245, 0.9069422887624212, 0.06976479144326317, 0.06357799564028858, 0.8900919389640402, 0.9326956777256045, 0.06017391469197448, 0.11931791898429847, 0.08522708498878463, 0.39204459094840927, 0.4090900079461662, 0.9184674588654729, 0.8825077447447403, 0.03836990194542349, 0.07673980389084697, 0.14795876739288008, 0.8507629125090604, 0.9549732600731978, 0.029477275398516703, 0.9137955373540178, 0.029477275398516703, 0.06308539115575025, 0.9273552499895287, 0.012617078231150049, 0.0323383135341334, 0.9701494060240018, 0.9338111355841736, 0.04060048415583364, 0.9768032676658023, 0.8147261860427046, 0.12351015277046559, 0.8645710693932591, 0.9485178228662174, 0.13428566671457742, 0.8536731669712422, 0.08930433939865805, 0.8930433939865805, 0.029768113132886017, 0.06510440365229483, 0.9114616511321277, 0.013950943639777464, 0.013950943639777464, 0.07028203184534207, 0.9136664139894469, 0.035141015922671034, 0.07706761859019304, 0.8991222168855854, 0.02568920619673101, 0.026153786942464605, 0.9415363299287258, 0.026153786942464605, 0.11534946260751645, 0.8458960591217873, 0.23305582221773247, 0.6991674666531974, 0.02913197777721656, 0.03884263703628874, 0.3238357526792758, 0.6606249354657225, 0.012953430107171031, 0.047229614037415234, 0.9445922807483047, 0.047229614037415234, 0.019157575130965124, 0.9770363316792213, 0.07299161224785126, 0.9123951530981409, 0.018247903061962816, 0.9735923336645814, 0.9735831250972355, 0.9550200703804357, 0.9540785073254119, 0.9917730505747856, 0.06802510730363372, 0.8843263949472384, 0.06802510730363372, 0.9696962723302405, 0.9542556969073573, 0.185607663564571, 0.8104867975652934, 0.9420045076020511, 0.04485735750485958, 0.05587115259012744, 0.893938441442039, 0.9395335276846171, 0.16107638830812068, 0.8053819415406034, 0.02301091261544581, 0.9420087656753663, 0.9654265942288892, 0.10115415661360488, 0.8850988703690428, 0.15806559927807448, 0.835489596184108, 0.8925268818365245, 0.9585766662237295, 0.03994069442598873, 0.9872532278608862, 0.10530534637381513, 0.8950954441774286, 0.07026255964142358, 0.9134132753385066, 0.011710426606903931, 0.9496192013578234, 0.8769490225951675, 0.10939562876024939, 0.8478161228919328, 0.027348907190062346, 0.20865207764130655, 0.7882411822004914, 0.023183564182367396, 0.6229923452516082, 0.20247251220677268, 0.11681106473467653, 0.05451183020951572, 0.931183352670324, 0.11835888571685746, 0.4664732554723206, 0.38292580673100945, 0.02784914958043705, 0.06805156917850401, 0.9186961839098042, 0.034025784589252005, 0.31161639810642755, 0.6232327962128551, 0.055645785376147776, 0.011129157075229556, 0.047617630349642164, 0.857117346293559, 0.09523526069928433, 0.06456354534319493, 0.03689345448182567, 0.839326089461534, 0.06456354534319493, 0.37178652933938416, 0.5030053044003433, 0.0947691153218038, 0.02915972779132425, 0.8966326856967505, 0.8387335319809567, 0.1458667012140794, 0.01998144316689967, 0.09990721583449835, 0.8592020561766858, 0.20348143194246457, 0.7913166797762511, 0.027947222266213333, 0.8663638902526133, 0.08384166679864, 0.8969434848668889, 0.221205874296305, 0.2291060840926016, 0.1106029371481525, 0.4345115387963134, 0.6211272485512316, 0.14907053965229558, 0.14907053965229558, 0.09938035976819705, 0.07566716634802208, 0.9080059961762649, 0.1499734496979488, 0.1499734496979488, 0.589895568811932, 0.10998052977849578, 0.9103269613121676, 0.018965145027336826, 0.056895435082010476, 0.949240310245515, 0.7770505471534261, 0.10665399666811731, 0.04570885571490742, 0.06094514095320989, 0.4769163550441563, 0.23845817752207815, 0.1812282149167794, 0.10492159810971438, 0.9721588469774548, 0.9407296563496057, 0.058795603521850356, 0.6528414391503953, 0.11657882841971344, 0.05828941420985672, 0.17486824262957015, 0.9469600829128635, 0.04304364013240288, 0.04304364013240288, 0.9639972241680425, 0.9310234670415857, 0.039971903314017045, 0.9193537762223921, 0.039971903314017045, 0.013323967771339016, 0.8151560926925365, 0.25612791778843713, 0.060265392420808736, 0.6327866204184918, 0.04519904431560655, 0.9545615165564383, 0.2783680038911028, 0.6200014632120017, 0.08435394057306145, 0.012653091085959217, 0.5944941544170955, 0.07053320476135032, 0.23175195850157962, 0.10076172108764332, 0.014467595869501594, 0.2170139380425239, 0.7667825810835844, 0.5768016088153975, 0.2283173034894282, 0.1682338025711576, 0.03605010055096235, 0.8273101299288012, 0.02363743228368003, 0.1418245937020802, 0.02363743228368003, 0.06603152439335147, 0.9244413415069206, 0.7156737406210268, 0.13012249829473216, 0.06506124914736608, 0.0813265614342076, 0.1409545097304556, 0.08579839722723383, 0.7538002042106973, 0.024513827779209664, 0.9623851527651239, 0.9187446940915234, 0.07067266877627103, 0.7519432598773538, 0.23498226871167305, 0.015665484580778204, 0.5304324790742582, 0.1262934473986329, 0.2525868947972658, 0.09261519475899746, 0.14484335212619487, 0.1046090876466963, 0.5954671142965788, 0.1609370579179943, 0.22818392864397388, 0.10913144413407445, 0.605183462925322, 0.049605201879124754, 0.497080792292344, 0.42731506705833083, 0.0174414313085033, 0.06104500957976154, 0.6451798514580138, 0.27650565062486304, 0.04850976326751983, 0.033956834287263885, 0.34584548334763054, 0.08300291600343132, 0.49110058635363535, 0.08300291600343132, 0.5848166539330469, 0.27086245024267436, 0.13543122512133718, 0.012311929556485197, 0.8448952106657617, 0.13518323370652188, 0.9549435654536633, 0.06898562021725496, 0.06898562021725496, 0.06898562021725496, 0.7933346324984321, 0.9054107778247149, 0.903638651947765, 0.07857727408241434, 0.9649284920988891, 0.04824642460494445, 0.9087666394795088, 0.07573055328995906, 0.10584134304996719, 0.010584134304996719, 0.529206715249836, 0.338692297759895, 0.9485722855001141, 0.03387758162500407, 0.9302742780686121, 0.823803036316294, 0.056814002504572, 0.113628005009144, 0.2758109520414555, 0.6119555498419794, 0.07757183026165937, 0.043095461256477424, 0.4284130773401754, 0.43681333375861026, 0.1260038462765222, 0.008400256418434813, 0.03798174543083787, 0.9495436357709467, 0.9311321411495322, 0.09804070120769127, 0.09259399558504176, 0.4139496273213632, 0.39760951045341464, 0.38409576778260196, 0.19519620985673214, 0.26445938109621775, 0.15741629827155817, 0.10960391027820109, 0.08768312822256087, 0.5699403334466456, 0.2411286026120424, 0.3894512965854193, 0.475359670832203, 0.10881727404592599, 0.02863612474892789, 0.9734152841834247, 0.3069060129880391, 0.2762154116892352, 0.3130441332477999, 0.11048616467569408, 0.9700874281216253, 0.8843620177778345, 0.058957467851855634, 0.6880395319763375, 0.15289767377251945, 0.09173860426351167, 0.061159069509007784, 0.0871452273856727, 0.871452273856727, 0.04357261369283635, 0.16138765621965587, 0.8069382810982794, 0.02689794270327598, 0.9213518268877067, 0.06581084477769333, 0.8927713077923152, 0.0557982067370197, 0.05871821532563846, 0.9394914452102153, 0.24102767168047282, 0.6402297529012559, 0.08285326214016253, 0.03766057370007388, 0.8605477838742878, 0.12748856057396854, 0.8765677312933223, 0.10957096641166529, 0.9080833364158278, 0.07567361136798564, 0.042265719245198036, 0.9298458233943568, 0.22626834842349808, 0.44588174542277564, 0.29947281408992393, 0.026619805696882125, 0.1808021395451324, 0.027120320931769862, 0.6237673814307068, 0.16272192559061915, 0.4433320121498476, 0.2519992490114923, 0.16799949934099487, 0.13533293002469032, 0.16482967375562133, 0.0644985679913301, 0.6378191723587087, 0.1289971359826602, 0.025870461275877627, 0.905466144655717, 0.07761138382763287, 0.38910862510782684, 0.45936434908562895, 0.10808572919661857, 0.0378300052188165, 0.9700812465740083, 0.3483103300702948, 0.4876344620984127, 0.10132664147499486, 0.06332915092187179, 0.21757446512420645, 0.7615106279347226, 0.018131205427017204, 0.0739966904590967, 0.9249586307387088, 0.03033677869012262, 0.36404134428147145, 0.6067355738024525, 0.21214489510971565, 0.4419685314785743, 0.15910867133228673, 0.18268032634447737, 0.4294468253557286, 0.19086525571365714, 0.24454610888312323, 0.13718440254419106, 0.8507968419341531, 0.0850796841934153, 0.03403187367736612, 0.03403187367736612, 0.8431260603600991, 0.07494453869867548, 0.03747226934933774, 0.03747226934933774, 0.8570547603534757, 0.08294078326001378, 0.02764692775333793, 0.37685990421440474, 0.20690347682359478, 0.2807975756891643, 0.1330093779580252, 0.7669573227322298, 0.13054592727357103, 0.0815912045459819, 0.01631824090919638, 0.8749854738865621, 0.09210373409332233, 0.22722789471865731, 0.2616563636154236, 0.3718274640850756, 0.13771387558706505, 0.31174695771147715, 0.5392379809063388, 0.10953271487160007, 0.04212796725830772, 0.8478286069241247, 0.1211183724177321, 0.02422367448354642, 0.8944160540706447, 0.037267335586276866, 0.037267335586276866, 0.9696223005699517, 0.13938619630525237, 0.04646206543508412, 0.4217325939492251, 0.393140553681481, 0.1771291304023101, 0.10627747824138606, 0.5526428868552076, 0.1558736347540329, 0.04624640110668107, 0.9249280221336215, 0.9506324036146542, 0.854770270036828, 0.09497447444853645, 0.45925564512512074, 0.18710415171764178, 0.2834911389661239, 0.06803787335186974, 0.9368439235019375, 0.9255588994083755, 0.9495756512658131, 0.9692684122780466, 0.05303628511149903, 0.05303628511149903, 0.9016168468954835, 0.8225600410315296, 0.03163692465505883, 0.03163692465505883, 0.09491077396517648, 0.7174652368807425, 0.1574923690713825, 0.034998304238085, 0.06999660847617, 0.047894708551079405, 0.0718420628266191, 0.7663153368172705, 0.11973677137769852, 0.9052549155819059, 0.08760531441115217, 0.02920177147038406, 0.5699672162988333, 0.14475357874256084, 0.16284777608538095, 0.11761228272833067, 0.9138258942126908, 0.34331431519792394, 0.5457817318531099, 0.04401465579460564, 0.06162051811244789, 0.5468598164642151, 0.3190015596041255, 0.08463306683374758, 0.04557165137201793, 0.15464077207721752, 0.30928154415443504, 0.5219126057606092, 0.011598057905791315, 0.056887413524208424, 0.056887413524208424, 0.5282402684390782, 0.357578027866453, 0.0694417578455765, 0.09548241703766769, 0.6596966995329768, 0.17360439461394125, 0.05886935814421035, 0.31789453397873585, 0.6240151963286297, 0.10583584753374575, 0.8678539497767152, 0.7444870557582278, 0.059558964460658226, 0.16378715226681012, 0.029779482230329113, 0.05026573316171444, 0.004569612105610404, 0.28331595054784503, 0.6625937553135085, 0.17426634041019426, 0.07261097517091428, 0.6244543864698627, 0.1306997553076457, 0.8355185935435319, 0.023208849820653663, 0.11604424910326831, 0.004711782901054315, 0.08952387512003199, 0.9046623170024285, 0.06279176946358421, 0.9104806572219711, 0.176764470849289, 0.7798432537468633, 0.010397910049958176, 0.03639268517485362, 0.14454236374267093, 0.22995376049970376, 0.47961784332795354, 0.15111247118551963, 0.08128228098753655, 0.07502979783464912, 0.775307910958041, 0.0687773146817617, 0.22458652378000987, 0.12833515644571994, 0.21389192740953322, 0.4384784511895431, 0.9546712809719043, 0.013172128175917768, 0.2502704353424376, 0.3754056530136564, 0.35564746074977976, 0.9798685995021411, 0.9734514237950259, 0.0767896190157304, 0.13263661466353432, 0.41885246735852943, 0.369986346166701, 0.8973564302570195, 0.08157785729609268, 0.8005924642989051, 0.17155552806405108, 0.2394920123566837, 0.04989416924097577, 0.5787723631953189, 0.13970367387473215, 0.8464447696179063, 0.15115085171748327, 0.8753913323921546, 0.06733779479939651, 0.06733779479939651, 0.6962047610349651, 0.0696204761034965, 0.139240952206993, 0.10443071415524477, 0.09948039356007753, 0.02487009839001938, 0.845583345260659, 0.037486229460683924, 0.012495409820227975, 0.9496511463373262, 0.9135807182384305, 0.22944106872419823, 0.09833188659608495, 0.5244367285124532, 0.15296071248279883, 0.9297742029572127, 0.06198494686381418, 0.13474565060576002, 0.3011961601775813, 0.48349909923243306, 0.07926214741515296, 0.9458926482444321, 0.09534315596314281, 0.8580884036682853, 0.9330215673228626, 0.10308352972284215, 0.01288544121535527, 0.02577088243071054, 0.863324561428803, 0.09276501427529037, 0.8812676356152584, 0.02319125356882259, 0.08385449857855215, 0.5717352175810374, 0.23631722326682877, 0.11434704351620747, 0.19095576863518254, 0.11232692272657796, 0.5391692290875743, 0.16849038408986694, 0.1802153099881762, 0.3392288188012728, 0.4770405264392899, 0.003033402447279507, 0.00910020734183852, 0.9858557953658398, 0.9443699715501088, 0.08403103643456114, 0.8963310553019855, 0.9734249776677016, 0.07524821374674717, 0.10033095166232957, 0.8026476132986365, 0.06471177408143675, 0.010785295680239457, 0.6255471494538886, 0.30198827904670483, 0.2623507684523693, 0.01192503492965315, 0.5485516067640449, 0.16695048901514412, 0.09809234700883582, 0.06866464290618507, 0.8141664801733373, 0.019618469401767164, 0.30425594253206206, 0.5466293204813318, 0.12376512916558458, 0.030941282291396144, 0.9729370292299303, 0.33745750453858125, 0.24273259098389177, 0.24865289808105986, 0.17760921291504275, 0.22063918705291446, 0.2458550941446761, 0.15129544255056993, 0.3845425831493652, 0.9141326878253189, 0.05078514932362883, 0.942549847724564, 0.08568634979314217, 0.08270423440847116, 0.4586325726287946, 0.4135211720423558, 0.04511140058643881, 0.24868126698374457, 0.4799112169861737, 0.12215921886920786, 0.14833619434118098], \"Term\": [\"Ahab\", \"Ahab\", \"Amsterdam\", \"August\", \"August\", \"August\", \"August\", \"Bedford\", \"Bennet\", \"Bennet\", \"Bennet\", \"Bildad\", \"Bingley\", \"Bingley\", \"Bingley\", \"Bistritz\", \"Cape Horn\", \"Captain\", \"Captain\", \"Captain\", \"Captain\", \"Captain_Ahab\", \"Captain_Ahab\", \"Captain_Peleg\", \"Caroline\", \"Caroline\", \"Charlotte\", \"Charlotte\", \"Clerval\", \"Clerval\", \"Cliff\", \"Collins\", \"Collins\", \"Collins\", \"Colonel\", \"Colonel\", \"Colonel\", \"Count\", \"Count Dracula\", \"Darcy\", \"Darcy\", \"Darcy\", \"Dracula\", \"Eliza\", \"Eliza\", \"Elizabeth\", \"Elizabeth\", \"Elizabeth\", \"Elizabeth\", \"Ernest\", \"Felix\", \"Felix\", \"Fitzwilliam\", \"Fitzwilliam\", \"Fitzwilliam\", \"Flask\", \"Flask\", \"Folio\", \"Forster\", \"Frankenstein\", \"Frankenstein\", \"Gardiner\", \"Gardiner\", \"Geneva\", \"Geneva\", \"God\", \"God\", \"God\", \"God\", \"Hawkins\", \"Henry\", \"Henry\", \"Henry\", \"Hertfordshire\", \"Hertfordshire\", \"Horn\", \"Hurst\", \"Hurst\", \"Hurst\", \"Jane\", \"Jane\", \"Jane\", \"Jonah\", \"Jonah\", \"Justine\", \"Justine\", \"Leviathan\", \"Louisa\", \"Lucas\", \"Lucas\", \"Lucases\", \"Lucy\", \"Lucy\", \"Meryton\", \"Meryton\", \"Meryton\", \"Miss\", \"Miss\", \"Miss\", \"Miss\", \"Miss Bingley\", \"Miss Bingley\", \"Miss Bingley\", \"Miss_Bennet\", \"Miss_Bennet\", \"Miss_Bennet\", \"Miss_Bingley\", \"Miss_Bingley\", \"Miss_Bingley\", \"Miss_Lucas\", \"Miss_Lucas\", \"Mrs\", \"Mrs\", \"Mrs\", \"Mrs\", \"Mrs_Bennet\", \"Mrs_Bennet\", \"Mrs_Bennet\", \"Mrs_Hurst\", \"Mrs_Hurst\", \"Mrs_Hurst\", \"Nantucket\", \"Nantucket\", \"Netherfield\", \"Netherfield\", \"Netherfield\", \"New Bedford\", \"New_Bedford\", \"Pacific\", \"Pass\", \"Peleg\", \"Pemberley\", \"Pemberley\", \"Pemberley\", \"Pequod\", \"Pier\", \"Queequeg\", \"Queequeg\", \"Safie\", \"Safie\", \"September\", \"September\", \"Seward\", \"Sir_William\", \"Sir_William\", \"Sir_William\", \"Slovaks\", \"Sperm\", \"Starbuck\", \"Starbuck\", \"Stubb\", \"Stubb\", \"Switzerland\", \"Victor\", \"Victor\", \"Whale\", \"Whitby\", \"Whitby\", \"Wickham\", \"Wickham\", \"Wickham\", \"William Lucas\", \"abhor\", \"acquaintance\", \"acquaintance\", \"acquaintance\", \"agreeable\", \"agreeable\", \"agreeable\", \"appear\", \"appear\", \"appear\", \"appear\", \"ardently\", \"ask\", \"ask\", \"ask\", \"ask\", \"asleep\", \"asleep\", \"asleep\", \"attention\", \"attention\", \"attention\", \"attention\", \"ball\", \"ball\", \"ball\", \"bed\", \"bed\", \"bed\", \"bed\", \"believe\", \"believe\", \"believe\", \"believe\", \"bench\", \"box\", \"box\", \"cabin\", \"cabin\", \"cabin\", \"captain\", \"captain\", \"castle\", \"castle\", \"castle\", \"chapel\", \"chapter\", \"chapter\", \"chapter\", \"chapter\", \"child\", \"child\", \"child\", \"child\", \"churchyard\", \"churchyard\", \"close\", \"close\", \"close\", \"close\", \"cottage\", \"cottage\", \"cottage\", \"cottager\", \"countenance\", \"countenance\", \"countenance\", \"countenance\", \"country\", \"country\", \"country\", \"country\", \"courtyard\", \"creator\", \"creator\", \"creature\", \"creature\", \"creature\", \"creature\", \"crime\", \"crime\", \"crime\", \"crucifix\", \"daemon\", \"dance\", \"dance\", \"dance\", \"dance\", \"dancing\", \"dark\", \"dark\", \"dark\", \"dark\", \"daylight\", \"dear\", \"dear\", \"dear\", \"dear\", \"death\", \"death\", \"death\", \"death\", \"deck\", \"deck\", \"deck\", \"desire\", \"desire\", \"desire\", \"desire\", \"despair\", \"despair\", \"despair\", \"despair\", \"diary\", \"diary\", \"discover\", \"discover\", \"discover\", \"discover\", \"door\", \"door\", \"door\", \"door\", \"driver\", \"east\", \"east\", \"endeavour\", \"endeavour\", \"endeavour\", \"enter\", \"enter\", \"enter\", \"enter\", \"face\", \"face\", \"face\", \"face\", \"fall\", \"fall\", \"fall\", \"fall\", \"family\", \"family\", \"family\", \"family\", \"father\", \"father\", \"father\", \"father\", \"fear\", \"fear\", \"fear\", \"fear\", \"feeling\", \"feeling\", \"feeling\", \"feeling\", \"fiend\", \"fiend\", \"fin\", \"fish\", \"fish\", \"fish\", \"fish\", \"fishery\", \"flame\", \"flame\", \"floor\", \"floor\", \"fog\", \"fog\", \"foot\", \"foot\", \"foot\", \"foot\", \"forever\", \"forever\", \"fulfil\", \"gentle\", \"gentle\", \"gentle\", \"girl\", \"girl\", \"girl\", \"girl\", \"happy\", \"happy\", \"happy\", \"happy\", \"harbour\", \"harbour\", \"hatred\", \"head\", \"head\", \"head\", \"head\", \"heart\", \"heart\", \"heart\", \"heart\", \"hold\", \"hold\", \"hold\", \"hold\", \"hope\", \"hope\", \"hope\", \"hope\", \"horn\", \"house\", \"house\", \"house\", \"house\", \"hovel\", \"howling\", \"howling\", \"human\", \"human\", \"human\", \"human\", \"humour\", \"humour\", \"humour\", \"husband\", \"husband\", \"husband\", \"inhabit\", \"inhabit\", \"innocence\", \"innocence\", \"key\", \"key\", \"lady\", \"lady\", \"lady\", \"lady\", \"lake\", \"lake\", \"lamp\", \"lamp\", \"landlord\", \"landlord\", \"later\", \"later\", \"letter\", \"letter\", \"letter\", \"letter\", \"lie\", \"lie\", \"lie\", \"lie\", \"life\", \"life\", \"life\", \"life\", \"light\", \"light\", \"light\", \"light\", \"lock\", \"lock\", \"lock\", \"love\", \"love\", \"love\", \"love\", \"magistrate\", \"manner\", \"manner\", \"manner\", \"manner\", \"marry\", \"marry\", \"marry\", \"mast\", \"mast\", \"mate\", \"mate\", \"mate\", \"mean\", \"mean\", \"mean\", \"mean\", \"mind\", \"mind\", \"mind\", \"mind\", \"miserable\", \"miserable\", \"miserable\", \"miserable\", \"misery\", \"misery\", \"misery\", \"misery\", \"misfortune\", \"misfortune\", \"misfortune\", \"moment\", \"moment\", \"moment\", \"moment\", \"month\", \"month\", \"month\", \"month\", \"moonlight\", \"moonlight\", \"morning\", \"morning\", \"morning\", \"morning\", \"mother\", \"mother\", \"mother\", \"mother\", \"murder\", \"murder\", \"murder\", \"murderer\", \"murderer\", \"murderer\", \"oil\", \"old\", \"old\", \"old\", \"old\", \"open\", \"open\", \"open\", \"open\", \"outside\", \"outside\", \"partial\", \"partner\", \"partner\", \"pass\", \"pass\", \"pass\", \"pass\", \"pier\", \"pilot\", \"presentation\", \"protector\", \"pull\", \"pull\", \"pull\", \"pursue\", \"pursue\", \"pursue\", \"pursue\", \"quit\", \"quit\", \"quit\", \"quit\", \"red\", \"red\", \"red\", \"red\", \"reflect\", \"reflect\", \"reflect\", \"remain\", \"remain\", \"remain\", \"remain\", \"remorse\", \"reply\", \"reply\", \"reply\", \"reply\", \"return\", \"return\", \"return\", \"return\", \"room\", \"room\", \"room\", \"room\", \"round\", \"round\", \"round\", \"round\", \"run\", \"run\", \"run\", \"run\", \"sail\", \"sail\", \"sail\", \"sailor\", \"sailor\", \"scene\", \"scene\", \"scene\", \"scene\", \"sea\", \"sea\", \"sea\", \"sea\", \"seat\", \"seat\", \"seat\", \"seat\", \"sensation\", \"sensation\", \"sensation\", \"ship\", \"ship\", \"ship\", \"shipmate\", \"shipmate\", \"sister\", \"sister\", \"sister\", \"sister\", \"sit\", \"sit\", \"sit\", \"sit\", \"sleep\", \"sleep\", \"sleep\", \"sleep\", \"small\", \"small\", \"small\", \"small\", \"softly\", \"sort\", \"sort\", \"sort\", \"sort\", \"sperm\", \"sperm_whale\", \"stand\", \"stand\", \"stand\", \"stand\", \"steep\", \"steep\", \"stone\", \"stone\", \"strange\", \"strange\", \"strange\", \"strange\", \"sweep\", \"sweep\", \"tale\", \"tale\", \"tale\", \"tear\", \"tear\", \"tear\", \"tear\", \"thee\", \"thee\", \"thee\", \"thou\", \"thou\", \"thou\", \"threat\", \"throw\", \"throw\", \"throw\", \"throw\", \"tranquillity\", \"tranquillity\", \"try\", \"try\", \"try\", \"try\", \"unfortunate\", \"unlucky\", \"unlucky\", \"victim\", \"voyage\", \"voyage\", \"voyage\", \"voyage\", \"wall\", \"wall\", \"wall\", \"want\", \"want\", \"want\", \"want\", \"watch\", \"watch\", \"watch\", \"watch\", \"water\", \"water\", \"water\", \"whale\", \"whale\", \"whale\", \"whale_ship\", \"whaleman\", \"whaleman\", \"whaling\", \"whilst\", \"whilst\", \"whilst\", \"white\", \"white\", \"white\", \"white\", \"wind\", \"wind\", \"wind\", \"wind\", \"window\", \"window\", \"window\", \"window\", \"wish\", \"wish\", \"wish\", \"wish\", \"wolf\", \"word\", \"word\", \"word\", \"word\", \"world\", \"world\", \"world\", \"world\", \"wretch\", \"wretch\", \"wretchedness\", \"wretchedness\", \"write\", \"write\", \"write\", \"write\", \"young\", \"young\", \"young\", \"young\"]}, \"R\": 30, \"lambda.step\": 0.01, \"plot.opts\": {\"xlab\": \"PC1\", \"ylab\": \"PC2\"}, \"topic.order\": [2, 3, 1, 4]};\n",
       "\n",
       "function LDAvis_load_lib(url, callback){\n",
       "  var s = document.createElement('script');\n",
       "  s.src = url;\n",
       "  s.async = true;\n",
       "  s.onreadystatechange = s.onload = callback;\n",
       "  s.onerror = function(){console.warn(\"failed to load library \" + url);};\n",
       "  document.getElementsByTagName(\"head\")[0].appendChild(s);\n",
       "}\n",
       "\n",
       "if(typeof(LDAvis) !== \"undefined\"){\n",
       "   // already loaded: just create the visualization\n",
       "   !function(LDAvis){\n",
       "       new LDAvis(\"#\" + \"ldavis_el939831404948640715846394267984\", ldavis_el939831404948640715846394267984_data);\n",
       "   }(LDAvis);\n",
       "}else if(typeof define === \"function\" && define.amd){\n",
       "   // require.js is available: use it to load d3/LDAvis\n",
       "   require.config({paths: {d3: \"https://d3js.org/d3.v5\"}});\n",
       "   require([\"d3\"], function(d3){\n",
       "      window.d3 = d3;\n",
       "      LDAvis_load_lib(\"https://cdn.jsdelivr.net/gh/bmabey/pyLDAvis@3.3.1/pyLDAvis/js/ldavis.v3.0.0.js\", function(){\n",
       "        new LDAvis(\"#\" + \"ldavis_el939831404948640715846394267984\", ldavis_el939831404948640715846394267984_data);\n",
       "      });\n",
       "    });\n",
       "}else{\n",
       "    // require.js not available: dynamically load d3 & LDAvis\n",
       "    LDAvis_load_lib(\"https://d3js.org/d3.v5.js\", function(){\n",
       "         LDAvis_load_lib(\"https://cdn.jsdelivr.net/gh/bmabey/pyLDAvis@3.3.1/pyLDAvis/js/ldavis.v3.0.0.js\", function(){\n",
       "                 new LDAvis(\"#\" + \"ldavis_el939831404948640715846394267984\", ldavis_el939831404948640715846394267984_data);\n",
       "            })\n",
       "         });\n",
       "}\n",
       "</script>"
      ],
      "text/plain": [
       "<IPython.core.display.HTML object>"
      ]
     },
     "execution_count": 119,
     "metadata": {},
     "output_type": "execute_result"
    }
   ],
   "source": [
    "# plot topics\n",
    "data =  pyLDAvis.gensim_models.prepare(model, corpus, dictionary)\n",
    "pyLDAvis.display(data)"
   ]
  },
  {
   "cell_type": "code",
   "execution_count": 120,
   "metadata": {},
   "outputs": [],
   "source": [
    "# assignment\n",
    "sent_to_cluster = list()\n",
    "for n,doc in enumerate(corpus):\n",
    "    if doc:\n",
    "        cluster = max(model[doc],key=lambda x:x[1])\n",
    "        sent_to_cluster.append(cluster[0])"
   ]
  },
  {
   "cell_type": "code",
   "execution_count": 121,
   "metadata": {},
   "outputs": [
    {
     "name": "stdout",
     "output_type": "stream",
     "text": [
      "DRACULA.txt : 0 - 52\n",
      "Accuracy: 0.8666666666666667\n",
      "------\n",
      "Frankenstein.txt : 1 - 59\n",
      "Accuracy: 0.9833333333333333\n",
      "------\n",
      "Moby_Dick.txt : 3 - 50\n",
      "Accuracy: 0.8333333333333334\n",
      "------\n",
      "PRIDE_AND_PREJUDICE.txt : 2 - 58\n",
      "Accuracy: 0.9666666666666667\n",
      "------\n"
     ]
    }
   ],
   "source": [
    "# accuracy\n",
    "from collections import Counter\n",
    "for book, cluster in book_id.items():\n",
    "    assignments = list()\n",
    "    for real,given in zip(chunk_class,sent_to_cluster):\n",
    "        if real == cluster:\n",
    "            assignments.append(given)\n",
    "    most_common,num_most_common = Counter(assignments).most_common(1)[0] # 4, 6 times\n",
    "    print(book,\":\",most_common,\"-\",num_most_common)\n",
    "    print(\"Accuracy:\",num_most_common/limit)\n",
    "    print(\"------\")"
   ]
  },
  {
   "cell_type": "markdown",
   "metadata": {},
   "source": [
    "# Task 4: Semantic analysis based on lexical categories"
   ]
  },
  {
   "cell_type": "code",
   "execution_count": 122,
   "metadata": {},
   "outputs": [],
   "source": [
    "from empath import Empath\n",
    "lexicon = Empath()"
   ]
  },
  {
   "cell_type": "markdown",
   "metadata": {},
   "source": [
    "### Let's see what pre-build categories we can study! More information: https://hci.stanford.edu/publications/2016/ethan/empath-chi-2016.pdf"
   ]
  },
  {
   "cell_type": "code",
   "execution_count": 123,
   "metadata": {},
   "outputs": [
    {
     "name": "stdout",
     "output_type": "stream",
     "text": [
      "help\n",
      "office\n",
      "dance\n",
      "money\n",
      "wedding\n",
      "domestic_work\n",
      "sleep\n",
      "medical_emergency\n",
      "cold\n",
      "hate\n",
      "cheerfulness\n",
      "aggression\n",
      "occupation\n",
      "envy\n",
      "anticipation\n"
     ]
    }
   ],
   "source": [
    "for cat in list(lexicon.cats.keys())[:15]:\n",
    "    print(cat)"
   ]
  },
  {
   "cell_type": "markdown",
   "metadata": {},
   "source": [
    "### For each category, we can examine representative terms"
   ]
  },
  {
   "cell_type": "code",
   "execution_count": 124,
   "metadata": {},
   "outputs": [
    {
     "data": {
      "text/plain": [
       "['psychiatrist',\n",
       " 'psychologist',\n",
       " 'physician',\n",
       " 'illness',\n",
       " 'syndrome',\n",
       " 'transfusion',\n",
       " 'allergy',\n",
       " 'ulcer',\n",
       " 'stress',\n",
       " 'doctor',\n",
       " 'checkup',\n",
       " 'discharge',\n",
       " 'appointment',\n",
       " 'pancreatic',\n",
       " 'infertile']"
      ]
     },
     "execution_count": 124,
     "metadata": {},
     "output_type": "execute_result"
    }
   ],
   "source": [
    "lexicon.cats[\"health\"][:15]"
   ]
  },
  {
   "cell_type": "markdown",
   "metadata": {},
   "source": [
    "### Studying Pride and Prejudice"
   ]
  },
  {
   "cell_type": "code",
   "execution_count": 125,
   "metadata": {},
   "outputs": [],
   "source": [
    "nlp = spacy.load('en_core_web_sm')\n",
    "doc = nlp(books[3])"
   ]
  },
  {
   "cell_type": "code",
   "execution_count": 126,
   "metadata": {},
   "outputs": [],
   "source": [
    "empath_features = lexicon.analyze(doc.text,categories = [\"disappointment\", \"pain\", \"joy\", \"beauty\", \"affection\"])"
   ]
  },
  {
   "cell_type": "code",
   "execution_count": 127,
   "metadata": {},
   "outputs": [
    {
     "data": {
      "text/plain": [
       "{'disappointment': 149.0,\n",
       " 'pain': 228.0,\n",
       " 'joy': 278.0,\n",
       " 'beauty': 136.0,\n",
       " 'affection': 439.0}"
      ]
     },
     "execution_count": 127,
     "metadata": {},
     "output_type": "execute_result"
    }
   ],
   "source": [
    "empath_features"
   ]
  },
  {
   "cell_type": "code",
   "execution_count": 128,
   "metadata": {},
   "outputs": [],
   "source": [
    "empath_features = lexicon.analyze(doc.text,categories = [\"disappointment\", \"pain\", \"joy\", \"beauty\", \"affection\"], normalize = True)"
   ]
  },
  {
   "cell_type": "code",
   "execution_count": 129,
   "metadata": {},
   "outputs": [
    {
     "data": {
      "text/plain": [
       "{'disappointment': 0.0012256615693403638,\n",
       " 'pain': 0.001875508978587939,\n",
       " 'joy': 0.002286804807225645,\n",
       " 'beauty': 0.0011187246538945602,\n",
       " 'affection': 0.0036111773754390585}"
      ]
     },
     "execution_count": 129,
     "metadata": {},
     "output_type": "execute_result"
    }
   ],
   "source": [
    "empath_features"
   ]
  },
  {
   "cell_type": "markdown",
   "metadata": {},
   "source": [
    "### Usecase: the evolution of topics"
   ]
  },
  {
   "cell_type": "code",
   "execution_count": 130,
   "metadata": {},
   "outputs": [],
   "source": [
    "bins = range(0,len(doc.text),150000)\n"
   ]
  },
  {
   "cell_type": "code",
   "execution_count": 131,
   "metadata": {},
   "outputs": [],
   "source": [
    "love = []\n",
    "pain = []\n",
    "beauty = []\n",
    "affection = []\n",
    "\n",
    "\n",
    "for cnt,i in enumerate(bins[:-1]):\n",
    "    empath_features = lexicon.analyze(doc.text[bins[cnt]:bins[cnt+1]],\n",
    "                                      categories = [\"love\", \"pain\", \"joy\", \"beauty\", \"affection\"], normalize = True)\n",
    "    love.append(empath_features[\"love\"])\n",
    "    pain.append(empath_features[\"pain\"])\n",
    "    beauty.append(empath_features[\"beauty\"])\n",
    "    affection.append(empath_features[\"affection\"])"
   ]
  },
  {
   "cell_type": "code",
   "execution_count": 132,
   "metadata": {},
   "outputs": [
    {
     "data": {
      "text/plain": [
       "<matplotlib.legend.Legend at 0x7fc78f3c9610>"
      ]
     },
     "execution_count": 132,
     "metadata": {},
     "output_type": "execute_result"
    },
    {
     "data": {
      "image/png": "[encoded data removed]",
      "text/plain": [
       "<Figure size 640x480 with 1 Axes>"
      ]
     },
     "metadata": {},
     "output_type": "display_data"
    }
   ],
   "source": [
    "plt.plot(love,label = \"love\")\n",
    "plt.plot(beauty, label = \"beauty\")\n",
    "plt.plot(affection, label = \"affection\")\n",
    "plt.plot(pain,label = \"pain\")\n",
    "\n",
    "plt.xlabel(\"progression in the book\")\n",
    "plt.ylabel(\"frequency of a category\")\n",
    "plt.legend()"
   ]
  },
  {
   "cell_type": "code",
   "execution_count": 133,
   "metadata": {},
   "outputs": [],
   "source": [
    "# We can observe how as the story progresses, beauty and affection categories decrease, while love and pain intensify!"
   ]
  },
  {
   "cell_type": "markdown",
   "metadata": {},
   "source": [
    "### We can create custom categories based on seed terms!\n",
    "### Models trained on: fiction, nytimes or reddit"
   ]
  },
  {
   "cell_type": "code",
   "execution_count": 134,
   "metadata": {},
   "outputs": [
    {
     "name": "stdout",
     "output_type": "stream",
     "text": [
      "[\"avocado\", \"kale\", \"Swiss_chard\", \"escarole\", \"black_beans\", \"cucumber\", \"dill\", \"leek\", \"mango\", \"red_peppers\", \"chicory\", \"chanterelles\", \"chutney\", \"tamarind\", \"papaya\", \"black_olives\", \"endive\", \"pesto\", \"walnuts\", \"green_beans\", \"bok_choy\", \"portobello_mushrooms\", \"lemon_grass\", \"radicchio\", \"ricotta\", \"chicken_breast\", \"porcini\", \"blue_cheese\", \"snow_peas\", \"pickled\", \"Gorgonzola\", \"chorizo\", \"yams\", \"hazelnuts\", \"fresh_tomatoes\", \"shiitake_mushrooms\", \"anchovies\", \"wild_rice\", \"scallion\", \"red_onions\", \"broccoli_rape\", \"red_cabbage\", \"wasabi\", \"sweet_potato\", \"feta\", \"roasted_garlic\", \"compote\", \"napoleon\", \"aioli\", \"crab_meat\", \"cauliflower\", \"jicama\", \"parsnips\", \"apricots\", \"new_potatoes\", \"truffle_oil\", \"lemongrass\", \"pistachios\", \"saut\\u00e9ed\", \"gnocchi\", \"duck_confit\", \"fresh_herbs\", \"ratatouille\", \"white_beans\", \"croutons\", \"fresh_mozzarella\", \"squab\", \"watercress\", \"roasted_red_peppers\", \"pine_nuts\", \"fritters\", \"butternut_squash\", \"fava_beans\", \"drizzled\", \"red_onion\", \"pea_shoots\", \"rosemary\", \"romaine\", \"mustard_greens\", \"horseradish\", \"caramelized_onions\", \"artichoke_hearts\", \"fettuccine\", \"grilled_eggplant\", \"julienne\", \"plum_tomatoes\", \"grilled_chicken\", \"pineapple\", \"candied\", \"pancetta\", \"celery_root\", \"sea_scallops\", \"shiitake\", \"porcini_mushrooms\", \"sour_cream\", \"bean_sprouts\", \"oyster_mushrooms\", \"monkfish\", \"chickpeas\", \"coconut_milk\"]\n"
     ]
    }
   ],
   "source": [
    "lexicon.create_category(\"healthy_food\", [\"healthy_food\",\"low_carb\",\"kale\",\"avocado\"], model=\"nytimes\")"
   ]
  },
  {
   "cell_type": "code",
   "execution_count": 135,
   "metadata": {},
   "outputs": [
    {
     "name": "stdout",
     "output_type": "stream",
     "text": [
      "[\"green_vegetables\", \"leafy_greens\", \"whole_grain_bread\", \"brown_rice\", \"white_rice\", \"green_veggies\", \"veggies\", \"whole_wheat_bread\", \"sweet_potatoes\", \"raw_veggies\", \"lean_meat\", \"spinach\", \"fatty_meat\", \"kale\", \"sweet_potato\", \"avocado\", \"hummus\", \"chicken_breast\", \"veggie\", \"whole_grain\", \"vegetables\", \"whole_wheat_pasta\", \"salads\", \"broccoli\", \"greek_yogurt\", \"Greek_yogurt\", \"yogurt\", \"avocados\", \"rice_cakes\", \"raw_vegetables\", \"almonds\", \"lean_protein\", \"grilled_chicken\", \"quinoa\", \"steamed_broccoli\", \"whole_grain_pasta\", \"brocolli\", \"kale\", \"avocado\", \"tofu\", \"Veggies\", \"edamame\", \"more_veggies\", \"lean_meats\", \"quinoa\", \"salad\", \"cottage_cheese\", \"whole_wheat\", \"wheat_bread\", \"romaine_lettuce\", \"white_bread\", \"raw_spinach\", \"oatmeal\", \"white_potatoes\", \"almond_butter\", \"pork_rinds\", \"veg\", \"cashews\", \"greek_yoghurt\", \"baby_carrots\", \"fresh_veggies\", \"fatty_meats\", \"more_vegetables\", \"avacado\", \"veges\", \"nut_butter\", \"hard_boiled_eggs\", \"carrot_sticks\", \"whole_grains\", \"grilled_chicken_breast\", \"steamed_vegetables\", \"meats\", \"lentils\", \"green_beans\", \"low_cal\", \"nuts/seeds\", \"iceberg_lettuce\", \"carrots\", \"red_meat\", \"other_foods\", \"fried_foods\", \"smoothies\", \"healthy_fats\", \"vegies\", \"avacados\", \"other_vegetables\", \"fresh_fruit\", \"spinach_salad\", \"egg_whites\", \"steamed_veggies\", \"nut_butters\", \"ground_turkey\", \"baked_chicken\"]\n"
     ]
    }
   ],
   "source": [
    "lexicon.create_category(\"healthy_food\", [\"healthy_food\",\"low_carb\",\"kale\",\"avocado\"], model=\"reddit\")"
   ]
  },
  {
   "cell_type": "code",
   "execution_count": 136,
   "metadata": {},
   "outputs": [
    {
     "name": "stdout",
     "output_type": "stream",
     "text": [
      "[\"turkey\", \"roast_beef\", \"white_bread\", \"fried_chicken\", \"pancakes\", \"peanut_butter\", \"gefilte_fish\", \"stuffing\", \"French_fries\", \"meatloaf\", \"brisket\", \"potato_salad\", \"pumpkin_pie\", \"scrambled_eggs\", \"french_fries\", \"spaghetti\", \"gravy\", \"tamales\", \"pot_roast\", \"oatmeal\", \"lasagna\", \"corned_beef\", \"latkes\", \"pickles\", \"sauerkraut\", \"burger\", \"grits\", \"biscuits\", \"hamburger\", \"salad_bar\", \"corn_bread\", \"chicken_soup\", \"bacon\", \"cream_cheese\", \"brownies\", \"tofu\", \"pastrami\", \"pork_chops\", \"salami\", \"marshmallows\", \"collard_greens\", \"macaroni\", \"pies\", \"raw_fish\", \"eggnog\", \"cheeseburgers\", \"truffles\", \"chocolate_cake\", \"hard-boiled_eggs\", \"baked_potatoes\", \"venison\", \"cottage_cheese\", \"pheasant\", \"applesauce\", \"quail\", \"fruit_salad\", \"meatballs\", \"chocolate_chip_cookies\", \"tacos\", \"roast\", \"jelly\", \"chicken_salad\", \"omelet\", \"gumbo\", \"steaks\", \"soup\", \"lox\", \"sausage\", \"roast_chicken\", \"rye\", \"bagel\", \"fruitcake\", \"fries\", \"fried_eggs\", \"ketchup\", \"chicken_wings\", \"barbecue_sauce\", \"sweet_potatoes\", \"pasta\", \"sausages\", \"crackers\", \"omelets\", \"roasting\", \"French_toast\", \"muffins\", \"mashed_potatoes\", \"fresh_fruit\", \"baked_potato\", \"waffles\", \"cranberry_sauce\", \"baked_beans\", \"cheese\", \"tripe\", \"noodles\", \"maple_syrup\", \"quiche\", \"buns\", \"baklava\", \"stews\"]\n"
     ]
    }
   ],
   "source": [
    "lexicon.create_category(\"festive_food\", [\"festive_food\",\"turkey\",\"eggnog\"], model=\"nytimes\")"
   ]
  },
  {
   "cell_type": "markdown",
   "metadata": {},
   "source": [
    "### List of further resources\n",
    "    * NLTK\n",
    "    * Jellyfish: string similarity library\n",
    "    * TextBlob: simplified text processing\n",
    "    * PyEnchant: language detection\n",
    "    * WordNet: ontology of concepts (inc. in NLTK)\n",
    "    * Stanford NLP (Java)\n",
    "    * Tweet NLP: https://www.cs.cmu.edu/~ark/TweetNLP/"
   ]
  },
  {
   "cell_type": "markdown",
   "metadata": {},
   "source": [
    "## Part 2"
   ]
  },
  {
   "cell_type": "markdown",
   "metadata": {},
   "source": [
    "### Question 1:\n",
    "An NLP preprocessing model, using the list of stopwords ['a', 'the', 'is', 'you', 'I','my','with','was'] for the input sentence\n",
    "“I was driving down the street with my CAR! :)” <br>\n",
    "gives the following output: {driving, down, street, car, :)}.\n",
    "The model consists of: <br>\n",
    "\n",
    "a) Stopword Removal, Casefolding and Stemming <br>\n",
    "b) Stopword Removal and Casefolding <br>\n",
    "c) Stopword Removal and Stemming <br>\n",
    "d) Casefolding and Stemming <br>"
   ]
  },
  {
   "cell_type": "code",
   "execution_count": 46,
   "metadata": {},
   "outputs": [],
   "source": [
    "# b"
   ]
  },
  {
   "cell_type": "markdown",
   "metadata": {},
   "source": [
    "### Question 2:\n",
    "What statement is false about topic detection using LSA: <br>\n",
    "\n",
    "a) It finds the representation of documents and words in the latent \"topic space\" <br>\n",
    "b) It produces topics interpretable in “word space” <br>\n",
    "c) A document's topic representation is a probability distribution over topics <br>\n",
    "d) The vectors representing topics in “word space” are linearly independent <br>"
   ]
  },
  {
   "cell_type": "code",
   "execution_count": 47,
   "metadata": {},
   "outputs": [],
   "source": [
    "# c"
   ]
  },
  {
   "cell_type": "markdown",
   "metadata": {},
   "source": [
    "### Question 3:\n",
    "The problem of having more features than documents when using a TF-IDF matrix for document classification cannot be addressed by: <br>\n",
    "\n",
    "a) Using SVD for dimensionality reduction <br>\n",
    "b) Using min-max scaling of features <br>\n",
    "c) Penalizing very large positive and very large negative weights (a.k.a. regularization) <br>\n",
    "d) Using online feature selection <br>"
   ]
  },
  {
   "cell_type": "code",
   "execution_count": 48,
   "metadata": {},
   "outputs": [],
   "source": [
    "# b"
   ]
  },
  {
   "cell_type": "markdown",
   "metadata": {},
   "source": [
    "### Question 4:\n",
    "Which of the following is false about word vectors: <br>\n",
    "\n",
    "a) Word2vec is used to achieve a lower dimensional representation than bag of words <br>\n",
    "b) Semantically similar words typically have similar word2vec vectors <br>\n",
    "c) Each dimension in the word2vec embedding has a clear interpretation <br>\n",
    "d) Word2Vec can be used for the computation of sentence vectors <br>"
   ]
  },
  {
   "cell_type": "code",
   "execution_count": 49,
   "metadata": {},
   "outputs": [],
   "source": [
    "# c"
   ]
  },
  {
   "cell_type": "markdown",
   "metadata": {},
   "source": [
    "### Question 5:\n",
    "Given the following word (W) / context (C) co-occurrence frequencies, which statement is true regarding the pointwise mutual information (PMI)?\n",
    "\n",
    "|  |W1|W2|W3|\n",
    "|--|--|--|--|\n",
    "|C1| 2| 0| 3|\n",
    "|C2| 6| 4| 0|\n",
    "|C3| 1| 1| 3|\n",
    "\n",
    "a) PMI(w=W1, c=C2) > PMI(w=W2, c=C2) > PMI(w=W3, c=C3) <br>\n",
    "b) PMI(w=W2, c=C2) > PMI(w=W1, c=C2) >  PMI(w=W3, c=C3) <br>\n",
    "c) PMI(w=W3, c=C3) > PMI(w=W1, c=C2) > PMI(w=W2, c=C2) <br>\n",
    "d) PMI(w=W3, c=C3) > PMI(w=W2, c=C2) > PMI(w=W1, c=C2) <br>"
   ]
  },
  {
   "cell_type": "code",
   "execution_count": 50,
   "metadata": {},
   "outputs": [],
   "source": [
    "# d"
   ]
  }
 ],
 "metadata": {
  "kernelspec": {
   "display_name": "Python (ada)",
   "language": "python",
   "name": "ada"
  },
  "language_info": {
   "codemirror_mode": {
    "name": "ipython",
    "version": 3
   },
   "file_extension": ".py",
   "mimetype": "text/x-python",
   "name": "python",
   "nbconvert_exporter": "python",
   "pygments_lexer": "ipython3",
   "version": "3.12.6"
  },
  "toc": {
   "colors": {
    "hover_highlight": "#DAA520",
    "navigate_num": "#000000",
    "navigate_text": "#333333",
    "running_highlight": "#FF0000",
    "selected_highlight": "#FFD700",
    "sidebar_border": "#EEEEEE",
    "wrapper_background": "#FFFFFF"
   },
   "moveMenuLeft": true,
   "nav_menu": {
    "height": "228px",
    "width": "252px"
   },
   "navigate_menu": true,
   "number_sections": true,
   "sideBar": true,
   "threshold": 4,
   "toc_cell": false,
   "toc_section_display": "block",
   "toc_window_display": false,
   "widenNotebook": false
  },
  "varInspector": {
   "cols": {
    "lenName": 16,
    "lenType": 16,
    "lenVar": 40
   },
   "kernels_config": {
    "python": {
     "delete_cmd_postfix": "",
     "delete_cmd_prefix": "del ",
     "library": "var_list.py",
     "varRefreshCmd": "print(var_dic_list())"
    },
    "r": {
     "delete_cmd_postfix": ") ",
     "delete_cmd_prefix": "rm(",
     "library": "var_list.r",
     "varRefreshCmd": "cat(var_dic_list()) "
    }
   },
   "types_to_exclude": [
    "module",
    "function",
    "builtin_function_or_method",
    "instance",
    "_Feature"
   ],
   "window_display": false
  }
 },
 "nbformat": 4,
 "nbformat_minor": 4
}
