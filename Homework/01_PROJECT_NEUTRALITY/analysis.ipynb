{
 "cells": [
  {
   "cell_type": "markdown",
   "id": "579b567a-2b80-4bf1-8cc1-c514da76ca50",
   "metadata": {},
   "source": [
    "# (ADA) Homework 1: Scoring the Language Model Olympics\n",
    "\n",
    "---\n",
    "\n",
    "By the end of this homework, we expect you to be able to:\n",
    "\n",
    "- Load data and handle data using pandas;\n",
    "- Navigate the documentation of Python packages by yourself;\n",
    "- Filter and tidy up noisy real-world datasets;\n",
    "- Aggregate your data in different (and hopefully helpful) ways;\n",
    "- Create meaningful visualizations to analyze the data;\n",
    "- Communicate your findings in a clear and concise manner\n",
    "\n",
    "---\n",
    "\n",
    "**Important Dates.**\n",
    "\n",
    "- Homework release: Fri 04 Oct 2024\n",
    "- Homework due: Sat 18 Oct 2024, 23:59\n",
    "- Grade release: Mon 04 Nov 2024\n",
    "\n",
    "**Some rules**\n",
    "\n",
    "- You are allowed to use any built-in Python library that comes with Anaconda. If you want to use an external library, you may do so, but must justify your choice.\n",
    "- Make sure you use the data folder provided in the repository in read-only mode. (Or alternatively, be sure you don’t change any of the files.)\n",
    "- Be sure to provide a concise textual description of your thought process, the assumptions you made, the solution you implemented, and explanations for your answers. A notebook that only has code cells will not suffice. To avoid confusion: use short comments for longer code answers.\n",
    "- For questions containing the /Discuss:/ prefix, answer not with code, but with a textual explanation (in markdown).\n",
    "- Back up any hypotheses and claims with data, since this is an important aspect of the course.\n",
    "- Please write all your comments in English, and use meaningful variable names in your code. Your repo should have a single notebook (plus the required data files) in the master/main branch. If there are multiple notebooks present, we will not grade anything.\n",
    "- We will not run your notebook for you! Rather, we will grade it as is, which means that only the results contained in your evaluated code cells will be considered, and we will not see the results in unevaluated code cells. Thus, be sure to hand in a fully-run and evaluated notebook. In order to check whether everything looks as intended, you can check the rendered notebook on the GitHub website once you have pushed your solution there.\n",
    "- In continuation to the previous point, interactive plots, such as those generated using the ‘plotly’ package, should be strictly avoided! Make sure to print results and/or dataframes that confirm you have properly addressed the task.\n",
    "\n",
    "**A Note on using Language Models (LMs)**\n",
    "\n",
    "If you try hard enough, you will likely get away with cheating. Fortunately, our job is not to police, but rather to educate! So, please consider the following:\n",
    "- Presumably, you are taking this course to learn something! LMs are not always right ([they often fail in silly ways](https://community.openai.com/t/why-9-11-is-larger-than-9-9-incredible/869824/4)). This course should prepare you to detect when they are wrong!\n",
    "- Some of the TAs on this course literally published many works on detecting machine-generated text.\n",
    "---"
   ]
  },
  {
   "cell_type": "markdown",
   "id": "4f85896e-c0ae-4ae3-af41-46149faa2278",
   "metadata": {},
   "source": [
    "## Context\n",
    "\n",
    "Context\n",
    "AI is booming! Newspapers, influencers, and your relatives all agree that AI is important. But while almost everyone agrees that AI is the future, much is unclear about what that future looks like…\n",
    "\n",
    "Freshly graduated from the EPFL, you are hired by the Swiss government to advise on a large-scale “AI integration” initiative code-named **\"NEUTRALITY\"** (Navigating Efficient Upgrades Through Robust Artificial Learning Integration Techniques Yearly). Convinced by the stunning progress in language modeling, the government would like to battle the growing shortages in the education sector by using LMs. Your job description: investigate which LMs might be best suited!\n",
    "\n",
    "You are given the results of three LMs on the [“Massive Multitask Language Understanding (MMLU)”](https://arxiv.org/abs/2009.03300) dataset to compare. This famous dataset consists of 57 subjects with multiple-choice questions, covering diverse subjects like mathematics, computer science, history, and law. Most providers of state-of-the-art LMs use this dataset to showcase the versatility of their latest models. Unfortunately, Horta-Ribeiro, the intern responsible for collecting the results, didn’t take EPFL’s famous ADA course. As a result, the collected datasets are slightly corrupted.\n",
    "\n",
    "### A very brief primer on Language Models\n",
    "Language models (LMs) are sophisticated statistical models designed to understand and generate human-like text. At their core, LMs are trained to predict the most likely continuation of a given input text. For example, given the input \"The cat sat on the,\" an LM might predict \"mat\" as a likely continuation.\n",
    "LMs are trained on vast text samples from various sources, including books, websites, and social media. This extensive training allows them to capture patterns and relationships in language, enabling them to generate coherent and contextually appropriate text across a wide range of topics and styles.\n",
    "\n",
    "While LMs can produce text that appears to be written by intelligent humans, it's important to note that their capabilities can diverge from human intelligence in unexpected ways. They may sometimes generate factually incorrect information or struggle with complex reasoning tasks.\n",
    "\n",
    "Two key concepts in understanding LMs are:\n",
    "1. **Tokens**: LMs process text using \"tokens\" rather than individual characters. Tokens can be words, parts of words, or punctuation marks. For example, the sentence \"I love AI!\" might be tokenized as [\"I\", \"love\", \"AI\", \"!\"]. Tokenization is the first step in both training and using an LM.\n",
    "2. **Context**: The input text provided to an LM is called the \"context.\" This context informs the model's predictions or generations. A longer or more specific context often leads to more accurate and relevant outputs.\n",
    "\n",
    "[See: Wikipedia entry on language models](https://en.wikipedia.org/wiki/Large_language_model)\n",
    "\n",
    "###  Files for this assignment\n",
    "This assignment is divided into three tasks, each of which should bring you a step closer to providing a recommendation toward project NEUTRALITY’s objectives:\n",
    "\n",
    "- **Task 1**: Inspecting the results and getting your first model ranking\n",
    "- **Task 2**: Inspecting the underlying data used to generate the results for possible biases\n",
    "- **Task 3**: Learning about tokens and providing a final recommendation\n",
    "\n",
    "\n",
    "```\n",
    "📁 PROJECT_NEUTRALITY\n",
    "│\n",
    "├── 📄 analysis.ipynb (the file you're currently reading!)\n",
    "├── 📄 requirements.txt (install into your environment)\n",
    "│\n",
    "├── 📁 task_1\n",
    "├── 📁 task_2\n",
    "└── 📁 task_2.5\n",
    "```   \n",
    " "
   ]
  },
  {
   "cell_type": "code",
   "execution_count": 1,
   "id": "95ce4c12-9681-401e-9489-aa0765b19d5d",
   "metadata": {},
   "outputs": [],
   "source": [
    "# please make sure you install the packages listed in the requirements.txt file in your environment!\n",
    "# using pip\n",
    "# %pip install -r requirements.txt\n",
    "#\n",
    "# using Conda:\n",
    "# conda create --name <env_name> --file requirements.txt\n",
    "#\n",
    "# some basic imports\n",
    "import os\n",
    "import pandas as pd\n",
    "import numpy as np\n",
    "import matplotlib.pyplot as plt\n",
    "import warnings\n",
    "from scipy.stats import ttest_ind, chi2_contingency"
   ]
  },
  {
   "cell_type": "markdown",
   "id": "e62594ad-4f5f-4a46-80bc-deacf66b62e9",
   "metadata": {},
   "source": [
    "## Task 1 (18 points): What's in an average anyway?\n",
    "\n",
    "The files needed to complete task 1 can be found in the folder \"`data/task_1/`:\n",
    "```\n",
    "task_1/\n",
    "│\n",
    "├── mmlu_data/\n",
    "│   └── test.csv\n",
    "│\n",
    "└── lm_scores/\n",
    "    ├── lm_X.csv\n",
    "    ├── lm_Y.csv\n",
    "    └── lm_Z.csv\n",
    "```\n",
    "\n",
    "We will start by loading, (manually) inspecting, and cleaning the data. Although it doesn't seem \"glamorous\" (nor is it particularly fun...) - manually inspecting data is extremely important! In fact, it's one of the few things most AI and Data Science researchers agree on :). Next, we will take a first pass on ordering our Olympic podium between three LMs."
   ]
  },
  {
   "cell_type": "markdown",
   "id": "f8605646-79fa-4cb3-8137-b6951bd1e064",
   "metadata": {},
   "source": [
    "### 1.1 (1 pt)\n",
    " \n",
    "Load the subfiles contained in the `mmlu_data` and `lm_scores` folders into separate dataframes:\n",
    "- `df_test`\n",
    "- `df_x`\n",
    "- `df_y`\n",
    "- `df_z`\n",
    "\n",
    "for each, print their sizes."
   ]
  },
  {
   "cell_type": "code",
   "execution_count": 2,
   "id": "e6ce5e96-7de6-463d-a00b-6a4b2cfc8cb3",
   "metadata": {},
   "outputs": [
    {
     "name": "stdout",
     "output_type": "stream",
     "text": [
      "Size of df_test : (112336)\n",
      "Size of df_x : (27764)\n",
      "Size of df_y : (27956)\n",
      "Size of df_z : (27846)\n"
     ]
    }
   ],
   "source": [
    "# Folder paths\n",
    "base_folder='task_1/'\n",
    "mmlu_folder='mmlu_data/'\n",
    "lm_folder='lm_scores/'\n",
    "\n",
    "# Load the data and print the size of each dataframe\n",
    "df_test = pd.read_csv(os.path.join(base_folder, mmlu_folder, 'test.csv'))\n",
    "print(\"Size of df_test : (%d)\" % (df_test.size))\n",
    "\n",
    "df_x = pd.read_csv(os.path.join(base_folder, lm_folder, 'lm_X.csv'))\n",
    "print(\"Size of df_x : (%d)\" % (df_x.size))\n",
    "\n",
    "df_y = pd.read_csv(os.path.join(base_folder, lm_folder, 'lm_Y.csv'))\n",
    "print(\"Size of df_y : (%d)\" % (df_y.size))\n",
    "\n",
    "df_z = pd.read_csv(os.path.join(base_folder, lm_folder, 'lm_Z.csv'))\n",
    "print(\"Size of df_z : (%d)\" % (df_z.size))"
   ]
  },
  {
   "cell_type": "markdown",
   "id": "acbda57d-7df2-4e33-b31c-52bc0af6753e",
   "metadata": {},
   "source": [
    "### 1.2 (4 pt)\n",
    "Unfortunately, LMs don't always output the format we want. In the column `result`, the value should be one of A, B, C, or D. \n",
    "\n",
    "A. For each of the LM score dataframes, use a `value_counts()` operation and print the results. \n",
    "\n",
    "B. /Discuss:/ Inspect the results and describe the types of answer formats you see. Besides the \"expected\" case, you should be able to find at least four unexpected formats."
   ]
  },
  {
   "cell_type": "code",
   "execution_count": 3,
   "id": "79936f23",
   "metadata": {},
   "outputs": [
    {
     "name": "stdout",
     "output_type": "stream",
     "text": [
      "\n",
      "==> Value counts for df_x:\n",
      "result\n",
      "A                                                                                                                 2733\n",
      "A                                                                                                                 1657\n",
      "B                                                                                                                 1412\n",
      "Answer: A                                                                                                         1398\n",
      "C                                                                                                                 1134\n",
      "                                                                                                                  ... \n",
      "judicial activism, so the answer is A                                                                                1\n",
      "creating insurmountable obstacles to the founding of factions, so the answer is A                                    1\n",
      "A congressperson who retires to take a position teaching political science at a university, so the answer is A       1\n",
      "David Hume, so the answer is D                                                                                       1\n",
      "Brahminic orthodoxy, so the answer is A                                                                              1\n",
      "Name: count, Length: 145, dtype: int64\n",
      "\n",
      "==> Value counts for df_y:\n",
      "result\n",
      "D                                                                                                2894\n",
      "Answer: D                                                                                        1718\n",
      "C                                                                                                1701\n",
      "B                                                                                                1240\n",
      "D                                                                                                1145\n",
      "                                                                                                 ... \n",
      "Where the energy of interaction between the atoms is at its minimum value, so the answer is A       1\n",
      "leaves more viable offspring than others of its species., so the answer is D                        1\n",
      "A and C only, so the answer is D                                                                    1\n",
      "ADP + P → ATP, so the answer is D                                                                   1\n",
      "Monoclonal antibodies, so the answer is C                                                           1\n",
      "Name: count, Length: 141, dtype: int64\n",
      "\n",
      "==> Value counts for df_z:\n",
      "result\n",
      "D                                                                                   2257\n",
      "C                                                                                   2191\n",
      "B                                                                                   2127\n",
      "A                                                                                   2060\n",
      "Answer: D                                                                            777\n",
      "                                                                                    ... \n",
      "omission of a universal suffrage clause, so the answer is D                            1\n",
      "declare war, so the answer is D                                                        1\n",
      "state and local governments, by means of federal funding, so the answer is B           1\n",
      "less clearly identified with consistent political ideologies, so the answer is B       1\n",
      "Rahit, so the answer is B                                                              1\n",
      "Name: count, Length: 560, dtype: int64\n"
     ]
    }
   ],
   "source": [
    "# A\n",
    "\n",
    "print(\"\\n==> Value counts for df_x:\")\n",
    "print(df_x['result'].value_counts())\n",
    "\n",
    "print(\"\\n==> Value counts for df_y:\")\n",
    "print(df_y['result'].value_counts())\n",
    "\n",
    "print(\"\\n==> Value counts for df_z:\")\n",
    "print(df_z['result'].value_counts())"
   ]
  },
  {
   "cell_type": "markdown",
   "id": "b85a46b5",
   "metadata": {},
   "source": [
    "B. It seems that data formats are not consistent, even inside a whole dataset. We expect the result to be only uppercase letters such as A, B, C or D. But we're seeing unexpected answer formats such as :\n",
    "\n",
    "1. **Answers with Explanations**\n",
    "\n",
    "These answers contain text along with the correct character. \n",
    "\n",
    "Eg:\n",
    "\n",
    "* question_id: 218 (from lm_X): \"is prevented from everting by papillary muscles., so the answer is B\"\n",
    "* question_id: 229 (from lm_Y): \"auditory tube opens., so the answer is A\"\n",
    "* question_id: 12046 (from lm_Z): \"Murder., so the answer is A\"\n",
    "\n",
    "2. **Answers Prefixed with 'Answer: '**\n",
    "\n",
    "These answers contain the correct character prefixed with the word 'Answer: '. \n",
    "\n",
    "Eg:\n",
    "\n",
    "* question_id: 21 (from lm_X): Answer: A\n",
    "* question_id: 83 (from lm_Y): Answer: C\n",
    "* question_id: 12048 (from lm_Z): Answer: B\n",
    "\n",
    "3. **Empty Answers**\n",
    "\n",
    "These entries do not contain anything. \n",
    "\n",
    "Eg:\n",
    "\n",
    "* question_id: 135 (from lm_X):\n",
    "* question_id: 11097 (from lm_Y):\n",
    "* question_id: 12130 (from lm_Z):\n",
    "\n",
    "4. **Answers Like \"Not Sure\"**\n",
    "\n",
    "Eg:\n",
    "\n",
    "* question_id: 17 (from lm_X): Not Sure\n",
    "* question_id: 9395 (from lm_Y): Not Sure\n",
    "* question_id: 12045 (from lm_Z): Not Sure\n",
    "\n",
    "5. **Answers Like \"None of the Above\"**\n",
    "\n",
    "Eg:\n",
    "\n",
    "* question_id: 63 (from lm_X): None of the above\n",
    "* question_id: 8891 (from lm_Y): None of the above\n",
    "* question_id: 12111 (from lm_Z): None of the above\n",
    "\n",
    "6. **Answers with Whitespaces (after the letter)**\n",
    "\n",
    "Eg:\n",
    "\n",
    "* question_id: 2 (from lm_X): D \n",
    "* question_id: 9 (from lm_Y): C \n",
    "* question_id: 10 (from lm_Z): C "
   ]
  },
  {
   "cell_type": "markdown",
   "id": "88c5551d-1968-427b-bdd6-51d996898e7c",
   "metadata": {},
   "source": [
    "### 1.3 (5 pt)\n",
    "Oh oh... That doesn't look great. Simply dropping all invalid answers seems overly wasteful, yet fixing all of these looks like a mess! Instead, let's focus for now on fixing just those answers of length < 10 characters that require only a single `str.replace()` operation. \n",
    "\n",
    "For example, if the answer looks like `--A--`, we could fix this by using the following simple function:\n",
    "\n",
    "```\n",
    "def clean_answer(s, pattern='-'):\n",
    "    return str(s).replace(pattern, '')\n",
    "\n",
    "dirty_answer = '--A--'\n",
    "clean_answer = clean_answer(dirty_answer)\n",
    "```\n",
    "\n",
    "A. Filter the three score dataframes to include only answers with less than 10 characters. Make a deep copy of the dataframes as you filter them.\n",
    "\n",
    "B. Modify the `clean_answer()` example function to clean the answers in the filtered data frames using the `apply()` functionality. Finally, make sure **all remaining answers are one of `A, B, C, or D`.**\n",
    "\n",
    "C. /Discuss:/ Compare the sizes of the original and filtered data frames. What do you see? Why might this be a problem?"
   ]
  },
  {
   "cell_type": "code",
   "execution_count": 4,
   "id": "aef1f933-20bf-426a-ac9d-a35e273b9bd2",
   "metadata": {},
   "outputs": [
    {
     "name": "stdout",
     "output_type": "stream",
     "text": [
      "\n",
      "==> Value counts for df_x_filtered (27018): \n",
      "result\n",
      "A            2733\n",
      "A            1657\n",
      "B            1412\n",
      "Answer: A    1398\n",
      "C            1134\n",
      "D            1124\n",
      "B             793\n",
      "Answer: B     760\n",
      "C             622\n",
      "Answer: D     613\n",
      "D             596\n",
      "Answer: C     594\n",
      "Not Sure       73\n",
      "Name: count, dtype: int64\n",
      "\n",
      "==> Value counts for df_y_filtered (27274): \n",
      "result\n",
      "D            2894\n",
      "Answer: D    1718\n",
      "C            1701\n",
      "B            1240\n",
      "D            1145\n",
      "A            1008\n",
      "Answer: C     907\n",
      "Answer: B     726\n",
      "C             634\n",
      "Answer: A     597\n",
      "B             553\n",
      "A             428\n",
      "Not Sure       86\n",
      "Name: count, dtype: int64\n",
      "\n",
      "==> Value counts for df_z_filtered (25756): \n",
      "result\n",
      "D            2257\n",
      "C            2191\n",
      "B            2127\n",
      "A            2060\n",
      "Answer: D     777\n",
      "Answer: C     748\n",
      "Answer: B     712\n",
      "Answer: A     687\n",
      "C             316\n",
      "D             314\n",
      "B             285\n",
      "A             279\n",
      "Not Sure      125\n",
      "Name: count, dtype: int64\n"
     ]
    }
   ],
   "source": [
    "# A\n",
    "\n",
    "# Filter for answers with length < 10 \n",
    "df_x_filtered = df_x[(df_x['result'].str.len() < 10)].copy()\n",
    "df_y_filtered = df_y[(df_y['result'].str.len() < 10)].copy()\n",
    "df_z_filtered = df_z[(df_z['result'].str.len() < 10)].copy()\n",
    "\n",
    "# Print the value counts of each filtered dataframe and its size\n",
    "print(\"\\n==> Value counts for df_x_filtered (%d): \" % (df_x_filtered.size))\n",
    "print(df_x_filtered['result'].value_counts())\n",
    "\n",
    "print(\"\\n==> Value counts for df_y_filtered (%d): \" % (df_y_filtered.size))\n",
    "print(df_y_filtered['result'].value_counts())\n",
    "\n",
    "print(\"\\n==> Value counts for df_z_filtered (%d): \" % (df_z_filtered.size))\n",
    "print(df_z_filtered['result'].value_counts())\n"
   ]
  },
  {
   "cell_type": "code",
   "execution_count": 5,
   "id": "fd54f296",
   "metadata": {},
   "outputs": [
    {
     "name": "stdout",
     "output_type": "stream",
     "text": [
      "\n",
      "==> Value counts for df_x_filtered (26872):\n",
      "result\n",
      "A    5788\n",
      "B    2965\n",
      "C    2350\n",
      "D    2333\n",
      "Name: count, dtype: int64\n",
      "\n",
      "==> Value counts for df_y_filtered (27102):\n",
      "result\n",
      "A    2033\n",
      "B    2519\n",
      "C    3242\n",
      "D    5757\n",
      "Name: count, dtype: int64\n",
      "\n",
      "==> Value counts for df_z_filtered (25506):\n",
      "result\n",
      "A    3026\n",
      "B    3124\n",
      "C    3255\n",
      "D    3348\n",
      "Name: count, dtype: int64\n"
     ]
    }
   ],
   "source": [
    "# B\n",
    "\n",
    "# Function to clean up answers by removing unwanted characters \n",
    "# Such as 'Answer: ', 'Not Sure', 'nan'\n",
    "def clean_answer(s, pattern='Answer: '):\n",
    "    s = str(s).replace(pattern, '').strip()\n",
    "    if s in ['Not Sure', 'nan', '']:\n",
    "        return ''\n",
    "    return s\n",
    "\n",
    "# Apply the clean_answer function, remove empty answers \n",
    "# and print the value counts for each filtered df\n",
    "df_x_filtered['result'] = df_x_filtered['result'].apply(clean_answer)\n",
    "df_x_filtered = df_x_filtered[df_x_filtered['result'] != '']\n",
    "print(\"\\n==> Value counts for df_x_filtered (%d):\" % (df_x_filtered.size))\n",
    "print(df_x_filtered['result'].value_counts().sort_index())\n",
    "\n",
    "df_y_filtered['result'] = df_y_filtered['result'].apply(clean_answer)\n",
    "df_y_filtered = df_y_filtered[df_y_filtered['result'] != '']\n",
    "print(\"\\n==> Value counts for df_y_filtered (%d):\" % (df_y_filtered.size))\n",
    "print(df_y_filtered['result'].value_counts().sort_index())\n",
    "\n",
    "df_z_filtered['result'] = df_z_filtered['result'].apply(clean_answer)\n",
    "df_z_filtered = df_z_filtered[df_z_filtered['result'] != '']\n",
    "print(\"\\n==> Value counts for df_z_filtered (%d):\" % (df_z_filtered.size))\n",
    "print(df_z_filtered['result'].value_counts().sort_index())"
   ]
  },
  {
   "cell_type": "markdown",
   "id": "2415cd9b",
   "metadata": {},
   "source": [
    "C. After pre-processing, we can see that dataset are unbalanced : df_Z_filtered has less elements than the two others. This could implies misleading interpretation either visually or statistically."
   ]
  },
  {
   "cell_type": "markdown",
   "id": "da1cf129-09dd-47b1-9737-2c4d57eb8853",
   "metadata": {},
   "source": [
    "### 1.4 (3 pt)\n",
    "\n",
    "Now that our answer columns are nicely formatted, let's take a look at model performance:\n",
    "\n",
    "A. Both the `MMLU` dataframes and the language model score data frames have the columns `question_id`. For each of the language model score data frames, use an inner join operation with the `df_test` dataframe on the `question_id` column.\n",
    "\n",
    "B. Add a new column to each of the resulting dataframes called `correct`, that checks if the model's answer in `result` is the same as the expected answer in the column `answer`. Then, print the average score of each model."
   ]
  },
  {
   "cell_type": "code",
   "execution_count": 6,
   "id": "e66b36f3-f5a4-4237-9b48-39b21716d7aa",
   "metadata": {},
   "outputs": [
    {
     "name": "stdout",
     "output_type": "stream",
     "text": [
      "Size of df_x_joined : (120924)\n",
      "Size of df_y_joined : (121959)\n",
      "Size of df_z_joined : (114777)\n"
     ]
    }
   ],
   "source": [
    "# A\n",
    "\n",
    "df_x_joined = pd.merge(df_test, df_x_filtered, on='question_id', how='inner')\n",
    "df_y_joined = pd.merge(df_test, df_y_filtered, on='question_id', how='inner')\n",
    "df_z_joined = pd.merge(df_test, df_z_filtered, on='question_id', how='inner')\n",
    "\n",
    "# Print the size of each joined df \n",
    "print(\"Size of df_x_joined : (%d)\" % (df_x_joined.size))\n",
    "print(\"Size of df_y_joined : (%d)\" % (df_y_joined.size))\n",
    "print(\"Size of df_z_joined : (%d)\" % (df_z_joined.size))"
   ]
  },
  {
   "cell_type": "code",
   "execution_count": 7,
   "id": "50b024d2",
   "metadata": {},
   "outputs": [
    {
     "name": "stdout",
     "output_type": "stream",
     "text": [
      "\n",
      "==> Average success for df_x_joined : 0.77\n",
      "\n",
      "==> Average success for df_y_joined : 0.75\n",
      "\n",
      "==> Average success for df_z_joined : 0.66\n"
     ]
    }
   ],
   "source": [
    "# B\n",
    "\n",
    "# check if the model's answer is correct then calculate the average score\n",
    "df_x_joined['correct'] = df_x_joined['result'] == df_x_joined['answer']\n",
    "df_X_score = df_x_joined['correct'].mean()\n",
    "print(\"\\n==> Average success for df_x_joined : %.2f\" % (df_X_score))\n",
    "\n",
    "df_y_joined['correct'] = df_y_joined['result'] == df_y_joined['answer']\n",
    "df_Y_score = df_y_joined['correct'].mean()\n",
    "print(\"\\n==> Average success for df_y_joined : %.2f\" % (df_Y_score))\n",
    "\n",
    "df_z_joined['correct'] = df_z_joined['result'] == df_z_joined['answer']\n",
    "df_Z_score = df_z_joined['correct'].mean()\n",
    "print(\"\\n==> Average success for df_z_joined : %.2f\" % (df_Z_score))\n"
   ]
  },
  {
   "cell_type": "markdown",
   "id": "69decfd8-8083-4c2f-8263-a153d55efede",
   "metadata": {},
   "source": [
    "### 1.5 (5 pt)\n",
    "\n",
    "Hmmm, something doesn't seem quite right. Let's investigate how \"balanced\" this dataset is:\n",
    "\n",
    "A. For each of the 57 subjects in the MMLU, compare the number of questions answered by each model. Print the subjects for which there is a more than 10% difference.\n",
    "\n",
    "B. Propose and implement a reasonable way to rebalance the results. (e.g., while throwing away 100% of the results perfectly rebalances the results, it is not reasonable).\n",
    "\n",
    "C. Finally, print the updated accuracy on the rebalanced data.\n",
    "\n",
    "**hint:**:\n",
    "- (A) For a given subject, let model X and model Y have answered 181 and 200 questions respectively. You can consider this a 10% difference from the perspective of X since: (200 - 181) / 181 > 0.10"
   ]
  },
  {
   "cell_type": "code",
   "execution_count": 8,
   "id": "19463002-732b-405b-8b44-77f702bdb665",
   "metadata": {},
   "outputs": [
    {
     "name": "stdout",
     "output_type": "stream",
     "text": [
      "\n",
      "==> Subject : college chemistry\n",
      "\n",
      "==> Subject : college computer science\n",
      "\n",
      "==> Subject : computer security\n",
      "\n",
      "==> Subject : formal logic\n",
      "\n",
      "==> Subject : high school geography\n",
      "\n",
      "==> Subject : logical fallacies\n",
      "\n",
      "==> Subject : medical genetics\n",
      "\n",
      "==> Subject : moral disputes\n",
      "\n",
      "==> Subject : moral scenarios\n"
     ]
    }
   ],
   "source": [
    "# A\n",
    "# Function to check if the difference between two values is greater than 10%. Used to check if the number of answers for each subject \n",
    "# not too different from one LM to another\n",
    "def has_ten_percent_diff(x, y):\n",
    "    if x == 0 or y == 0:\n",
    "        return x != y\n",
    "    return abs(x - y) / min(x, y) > 0.1\n",
    "\n",
    "# iterate over each subject\n",
    "for subject in df_test['subject'].unique():\n",
    "    df_x_subject = df_x_joined[df_x_joined['subject'] == subject]\n",
    "    df_y_subject = df_y_joined[df_y_joined['subject'] == subject]\n",
    "    df_z_subject = df_z_joined[df_z_joined['subject'] == subject]\n",
    "    \n",
    "    if has_ten_percent_diff(df_x_subject.shape[0], df_y_subject.shape[0]) or \\\n",
    "        has_ten_percent_diff(df_x_subject.shape[0], df_z_subject.shape[0]) or \\\n",
    "        has_ten_percent_diff(df_y_subject.shape[0], df_z_subject.shape[0]):\n",
    "        print(\"\\n==> Subject : %s\" % (subject))"
   ]
  },
  {
   "cell_type": "code",
   "execution_count": 9,
   "id": "2fb8c324",
   "metadata": {},
   "outputs": [
    {
     "name": "stdout",
     "output_type": "stream",
     "text": [
      "Size of df_x_rebalanced : (11793)\n",
      "Size of df_y_rebalanced : (11793)\n",
      "Size of df_z_rebalanced : (11793)\n"
     ]
    }
   ],
   "source": [
    "# B\n",
    "\n",
    "# Keep only the questions that have been answered by all models\n",
    "df_x_rebalanced = df_x_joined[df_x_joined['question_id'].isin(df_y_joined['question_id']) & df_x_joined['question_id'].isin(df_z_joined['question_id'])]\n",
    "df_y_rebalanced = df_y_joined[df_y_joined['question_id'].isin(df_x_joined['question_id']) & df_y_joined['question_id'].isin(df_z_joined['question_id'])]\n",
    "df_z_rebalanced = df_z_joined[df_z_joined['question_id'].isin(df_x_joined['question_id']) & df_z_joined['question_id'].isin(df_y_joined['question_id'])]\n",
    "\n",
    "# print the size of the rebalanced dfs\n",
    "print(\"Size of df_x_rebalanced : (%d)\" % (df_x_rebalanced.shape[0]))\n",
    "print(\"Size of df_y_rebalanced : (%d)\" % (df_y_rebalanced.shape[0]))\n",
    "print(\"Size of df_z_rebalanced : (%d)\" % (df_z_rebalanced.shape[0]))"
   ]
  },
  {
   "cell_type": "markdown",
   "id": "41bf5993",
   "metadata": {},
   "source": [
    "Here we choose to rebalance the result by only keeping the questions that are answered by all models. While it is not the only reasonable option (eg. downsampling questions for models to match the model with the least number of questions for each subject), we did it with the purpose to put each model on an equal footing. We lost around 10000 questions in total but expect that the comparison will be easier."
   ]
  },
  {
   "cell_type": "code",
   "execution_count": 10,
   "id": "affc3746",
   "metadata": {},
   "outputs": [
    {
     "name": "stdout",
     "output_type": "stream",
     "text": [
      "\n",
      "==> The accuracy of rebalanced_df_x is : 0.77\n",
      "\n",
      "==> The accuracy of rebalanced_df_y is : 0.75\n",
      "\n",
      "==> The accuracy of rebalanced_df_z is : 0.66\n"
     ]
    }
   ],
   "source": [
    "# C\n",
    "\n",
    "# calculate the accuracy for each model on the rebalanced data\n",
    "accuracy_x = df_x_rebalanced['correct'].mean()\n",
    "accuracy_y = df_y_rebalanced['correct'].mean()\n",
    "accuracy_z = df_z_rebalanced['correct'].mean()\n",
    "\n",
    "# print the accuracy for each model\n",
    "print(\"\\n==> The accuracy of rebalanced_df_x is : %.2f\" % (accuracy_x))\n",
    "print(\"\\n==> The accuracy of rebalanced_df_y is : %.2f\" % (accuracy_y))\n",
    "print(\"\\n==> The accuracy of rebalanced_df_z is : %.2f\" % (accuracy_z))"
   ]
  },
  {
   "cell_type": "markdown",
   "id": "292b2f61-0529-4b6d-a3a7-af786a4d79ae",
   "metadata": {},
   "source": [
    "## Task 2 (26 points): What do you mean A > D > B > C...?\n",
    "\n",
    "Nice work! Having successfully inspected, cleaned, and rebalanced the provided data, you head over to director of the government's NEUTRALITY project. Ms. Sakota is happy with your work so far, but worried that the sloppy intern might have done more undetected damage. To be sure, she orders a new set of evaluations of all models on both MMLU and another dataset.\n",
    "\n",
    "After cleaning up and rebalancing, you are left with the concatenated score files in the second folder `task_2`:\n",
    "```\n",
    "task_2/\n",
    "│\n",
    "└── lm_scores_mmlu.csv\n",
    "│\n",
    "└── lm_scores_other.csv\n",
    "```\n",
    "\n",
    "Each has a new column called `model_name`, which is one of `X, Y` or `Z`.\n",
    "\n",
    "\n",
    "\n",
    "_NOTE: **only** use data from `task_2` and `task_2_5` for this assignment! The values in `lm_scores_mmlu.csv` will NOT be the same as the dataframes you finished in task 1. This is due to \"randomness\" or \"temperature\" in language model inference. This can slightly shift around generative results. (Conveniently: it also ensures any mistakes made in Task 1 don't propogate further ;) )_"
   ]
  },
  {
   "cell_type": "code",
   "execution_count": 11,
   "id": "a889a76b-e034-4d2f-929e-0ef1f250a0a0",
   "metadata": {},
   "outputs": [],
   "source": [
    "# PROVIDED CODE\n",
    "df_mmlu = pd.read_csv('task_2/lm_scores_mmlu.csv')\n",
    "df_other = pd.read_csv('task_2/lm_scores_other.csv')"
   ]
  },
  {
   "cell_type": "markdown",
   "id": "c31edde3-cc91-4d08-81c7-b5e98cf0ff9c",
   "metadata": {},
   "source": [
    "### 2.1 (4 pt)\n",
    "\n",
    "Let's explore the new results:\n",
    "\n",
    "A. Compute the mean accuracy and standard errors of each model on both datasets and print the results.\n",
    "\n",
    "B. Then, show your results in a bar plot using standard errors with a 95% confidence interval around the mean. Make sure the plot is easy to read and well annotated.\n",
    "\n",
    "C. /Discuss:/ the plot you created: (i) can you say that one of the models is the best? (ii) is there anything that seems odd?"
   ]
  },
  {
   "cell_type": "code",
   "execution_count": 12,
   "id": "56fe8cca-acd1-4f5e-a938-e8d3a850f220",
   "metadata": {},
   "outputs": [
    {
     "name": "stdout",
     "output_type": "stream",
     "text": [
      "For MMLU dataset we have:\n",
      "                mean  std_error\n",
      "model_name                     \n",
      "X           0.743588   0.004038\n",
      "Y           0.761542   0.003941\n",
      "Z           0.655951   0.004393\n",
      "\n",
      "For the other dataset we have:\n",
      "                mean  std_error\n",
      "model_name                     \n",
      "X           0.787976   0.006668\n",
      "Y           0.720936   0.007317\n",
      "Z           0.671721   0.007660\n"
     ]
    }
   ],
   "source": [
    "# A\n",
    "\n",
    "# For each model, calculate the average accuracy and the standard error of the mean\n",
    "mmlu_stats = df_mmlu.groupby('model_name')['correct'].agg(mean='mean', sem='sem')\n",
    "mmlu_stats.rename(columns={'sem': 'std_error'}, inplace=True)\n",
    "\n",
    "print(\"For MMLU dataset we have:\")\n",
    "print( mmlu_stats[['mean', 'std_error']])\n",
    "\n",
    "other_stats = df_other.groupby('model_name')['correct'].agg(mean='mean', sem='sem')\n",
    "other_stats.rename(columns={'sem': 'std_error'}, inplace=True)\n",
    "\n",
    "print(\"\\nFor the other dataset we have:\")\n",
    "print(other_stats[['mean', 'std_error']])"
   ]
  },
  {
   "cell_type": "code",
   "execution_count": 13,
   "id": "d3a176c6",
   "metadata": {},
   "outputs": [
    {
     "data": {
      "text/plain": [
       "<matplotlib.legend.Legend at 0x17952db9a10>"
      ]
     },
     "execution_count": 13,
     "metadata": {},
     "output_type": "execute_result"
    },
    {
     "data": {
      "image/png": "[encoded data removed]",
      "text/plain": [
       "<Figure size 640x480 with 1 Axes>"
      ]
     },
     "metadata": {},
     "output_type": "display_data"
    }
   ],
   "source": [
    "# B\n",
    "\n",
    "models = [\"X\", \"Y\", \"Z\"]\n",
    "mmlu_means = mmlu_stats['mean']\n",
    "other_means = other_stats['mean']\n",
    "\n",
    "# calculate the 95% confidence interval assuming a normal distribution\n",
    "mmlu_confidence_interval = 1.96 * mmlu_stats['std_error']\n",
    "other_confidence_interval = 1.96 * other_stats['std_error']\n",
    "\n",
    "x = np.arange(len(models))\n",
    "width = 0.35\n",
    "\n",
    "fig, ax = plt.subplots(layout='constrained')\n",
    "\n",
    "# create the bars for each dataset with the confidence intervals\n",
    "rects1 = ax.bar(x - width/2, mmlu_means, width, label='MMLU Stats', yerr=mmlu_confidence_interval, capsize=10)\n",
    "rects2 = ax.bar(x + width/2, other_means, width, label='Other Stats', yerr=other_confidence_interval, capsize=10)\n",
    "\n",
    "# add the labels to the bars for the mean values\n",
    "ax.bar_label(rects1, padding=3, fmt='%.2f')\n",
    "ax.bar_label(rects2, padding=3, fmt='%.2f')\n",
    "\n",
    "ax.set_xlabel('Model Name', fontsize=12)\n",
    "ax.set_ylabel('Mean Accuracy', fontsize=12)\n",
    "ax.set_title('Mean Accuracy of Models with 95% Confidence Intervals', fontsize=14)\n",
    "ax.set_xticks(x)\n",
    "ax.set_xticklabels(models)\n",
    "\n",
    "ax.set_ylim(0.60, 0.82)\n",
    "\n",
    "ax.legend()"
   ]
  },
  {
   "cell_type": "markdown",
   "id": "65c9fbfe",
   "metadata": {},
   "source": [
    "C. We cannot say if one model is the best, since for the MMLU dataset Y performed better, while for the other dataset, model X was the best, both taking into account the standard error. This is an odd behaviour, since with the MMLU dataset we can assert with confidence that one Y is better than X, but for the other dataset, X is better than Y - this behavior should be reflected in the confidence intervals."
   ]
  },
  {
   "cell_type": "markdown",
   "id": "eee0ec62-f2d1-4bae-a6f6-221320d602cb",
   "metadata": {},
   "source": [
    "### 2.2 (5 pt)\n",
    "\n",
    "Ms. Sakota has assured you that both datasets contain questions of similar difficulty, so, what could be going on here?\n",
    "\n",
    "A. What is the distribution of correct answers (A, B, C, D) for each dataset? Create a bar chart to visualize this.\n",
    "\n",
    "B. Perform a chi-square test at $\\alpha = 0.05$, of independence to determine if there's a significant difference in the distribution of correct answers between the two datasets. What do you conclude?\n",
    "\n",
    "**hints**:\n",
    "- for (A), keep in mind that df_mmlu and df_other contain the results of all models, i.e., the `question_id` column is duplicated.\n",
    "- for (A), take care to clearly annotate the bar chart, e.g., title, y-label, legend.\n",
    "- for (B), clearly state the null hypothesis and alternative hypothesis\n",
    "- use the `chi2_contingency` function from `scipy.stats`\n",
    "- format your results from answer (A) as a 2D array"
   ]
  },
  {
   "cell_type": "code",
   "execution_count": 14,
   "id": "30b16f70-93e0-4a19-8a6d-b3ae5a75ae65",
   "metadata": {},
   "outputs": [
    {
     "data": {
      "text/plain": [
       "<matplotlib.legend.Legend at 0x17955548790>"
      ]
     },
     "execution_count": 14,
     "metadata": {},
     "output_type": "execute_result"
    },
    {
     "data": {
      "image/png": "[encoded data removed]",
      "text/plain": [
       "<Figure size 800x500 with 1 Axes>"
      ]
     },
     "metadata": {},
     "output_type": "display_data"
    }
   ],
   "source": [
    "# A\n",
    "\n",
    "# get the correct answers for each dataset\n",
    "correct_mmlu = df_mmlu[df_mmlu['correct']]\n",
    "correct_other = df_other[df_other['correct']]\n",
    "\n",
    "# drop the duplicates from column question_id\n",
    "unique_mmlu = correct_mmlu.drop_duplicates(subset='question_id')\n",
    "unique_other = correct_other.drop_duplicates(subset='question_id')\n",
    "\n",
    "# count the number of correct answers for each option (A, B, C, D)\n",
    "mmlu_distribution = unique_mmlu['answer'].value_counts().sort_index()\n",
    "other_distribution = unique_other['answer'].value_counts().sort_index()\n",
    "\n",
    "answer_labels = ['A', 'B', 'C', 'D']\n",
    "x = np.arange(len(answer_labels))  \n",
    "width = 0.35  \n",
    "\n",
    "fig, ax = plt.subplots(figsize=(8, 5))\n",
    "\n",
    "# create the bars for each dataset\n",
    "rects1 = ax.bar(x - width/2, mmlu_distribution, width, label='MMLU Dataset')\n",
    "rects2 = ax.bar(x + width/2, other_distribution,  width, label='Other Dataset')\n",
    "\n",
    "ax.set_xlabel('Answer Option', fontsize=12)\n",
    "ax.set_ylabel('Count of Correct Answers', fontsize=12)\n",
    "ax.set_title('Distribution of Correct Answers (A, B, C, D) by Dataset', fontsize=14)\n",
    "ax.set_xticks(x)\n",
    "ax.set_xticklabels(answer_labels)\n",
    "\n",
    "ax.bar_label(rects1, padding=1)\n",
    "ax.bar_label(rects2, padding=1)\n",
    "\n",
    "ax.legend()"
   ]
  },
  {
   "cell_type": "code",
   "execution_count": 15,
   "id": "92392cd7",
   "metadata": {},
   "outputs": [
    {
     "name": "stdout",
     "output_type": "stream",
     "text": [
      "Chi-square statistic: 623.1752868229951\n",
      "P-value: 9.531170659204276e-135\n",
      "\n",
      "Reject the null hypothesis\n"
     ]
    }
   ],
   "source": [
    "# B\n",
    "\n",
    "# create a 2D array with the distributions of correct answers\n",
    "answers = [ mmlu_distribution.tolist(), other_distribution.tolist()]\n",
    "\n",
    "# null hypothesis: the two distributions are independent \n",
    "# (there is no significant difference in the distribution of correct answers between the two datasets)\n",
    "# alternative hypothesis: the two distributions are dependent\n",
    "# (there is a significant difference in the distribution of correct answers between the two datasets)\n",
    "res = chi2_contingency(answers)\n",
    "\n",
    "alpha = 0.05\n",
    "print(f\"Chi-square statistic: {res.statistic}\")\n",
    "print(f\"P-value: {res.pvalue}\")\n",
    "\n",
    "# reject the null hypothesis if the p-value is less than the significance level\n",
    "if res.pvalue < alpha:\n",
    "    print(\"\\nReject the null hypothesis\")\n",
    "else:\n",
    "    print(\"\\nFail to reject the null hypothesis\")"
   ]
  },
  {
   "cell_type": "markdown",
   "id": "b2126af9",
   "metadata": {},
   "source": [
    "B. The null hypothesis is that there is no significant difference in the distribution of correct answers between the two datasets, i.e., the two distributions are independent.\n",
    "The alternative hypothesis is that there is a significant difference.\n",
    "\n",
    "The conclusion is that we cannot assume the independence of distributions (reject the null hypothesis)."
   ]
  },
  {
   "cell_type": "markdown",
   "id": "2d3125ad-5a7e-44e7-999a-a0ff99855d39",
   "metadata": {},
   "source": [
    "### 2.3 (7 pt)\n",
    "\n",
    "Let's dive in deeper:\n",
    "\n",
    "A. What is language model X's mean accuracy conditioned on the four answer options for each dataset?\n",
    "\n",
    "B. Compare LM X's performance when the correct answer is \"A\" between the two datasets. Use a T-test with CI = 0.95. What do you conclude?\n",
    "\n",
    "C. Compare LM X's performance when the correct answer is \"A\" vs. \"C or D\" for each dataset. Use a T-test with CI = 0.95. What do you conclude?"
   ]
  },
  {
   "cell_type": "code",
   "execution_count": 16,
   "id": "39097a11-8efe-46d1-8bc3-5587bb58d199",
   "metadata": {},
   "outputs": [
    {
     "name": "stdout",
     "output_type": "stream",
     "text": [
      "For model X:\n",
      "Answer A :\n",
      "    - Mean accuracy for MMLU dataset: 0.9727\n",
      "    - Mean accuracy for Other dataset: 0.9740\n",
      "Answer B :\n",
      "    - Mean accuracy for MMLU dataset: 0.7992\n",
      "    - Mean accuracy for Other dataset: 0.8065\n",
      "Answer C :\n",
      "    - Mean accuracy for MMLU dataset: 0.7079\n",
      "    - Mean accuracy for Other dataset: 0.6764\n",
      "Answer D :\n",
      "    - Mean accuracy for MMLU dataset: 0.6336\n",
      "    - Mean accuracy for Other dataset: 0.6037\n"
     ]
    }
   ],
   "source": [
    "# A\n",
    "\n",
    "options = ['A', 'B', 'C', 'D']\n",
    "\n",
    "# filter the dataframes for model X\n",
    "x_model_mmlu = df_mmlu[df_mmlu['model_name'] == 'X']\n",
    "x_model_other = df_other[df_other['model_name'] == 'X']\n",
    "\n",
    "print(\"For model X:\")\n",
    "\n",
    "# calculate the mean accuracy for each option for each dataset\n",
    "for option in options:\n",
    "    mean_mmlu = x_model_mmlu[x_model_mmlu['answer'] == option]['correct'].mean()\n",
    "    mean_other = x_model_other[x_model_other['answer'] == option]['correct'].mean()\n",
    "    print(f\"Answer {option} :\")\n",
    "    print(f\"    - Mean accuracy for MMLU dataset: {mean_mmlu:.4f}\")\n",
    "    print(f\"    - Mean accuracy for Other dataset: {mean_other:.4f}\")"
   ]
  },
  {
   "cell_type": "code",
   "execution_count": 17,
   "id": "9ae67c09",
   "metadata": {},
   "outputs": [
    {
     "name": "stdout",
     "output_type": "stream",
     "text": [
      "\n",
      "For model X and answer A:\n",
      "    t-statistic: 0.2906\n",
      "    p-value: 0.7987\n",
      "    Confidence interval: ConfidenceInterval(low=-3679.300580055057, high=4212.300580055056)\n",
      "    Fail to reject the null hypothesis\n"
     ]
    }
   ],
   "source": [
    "# B\n",
    "\n",
    "# filter the dataframes for model X and answer A for each dataset\n",
    "x_model_mmlu_A = x_model_mmlu[x_model_mmlu['answer'] == 'A']['correct']\n",
    "x_model_other_A = x_model_other[x_model_other['answer'] == 'A']['correct']\n",
    "\n",
    "# count the number of correct answers for each dataset\n",
    "x_model_mmlu_A = x_model_mmlu_A.value_counts().sort_index()\n",
    "x_model_other_A = x_model_other_A.value_counts().sort_index()\n",
    "\n",
    "res = ttest_ind(x_model_mmlu_A.tolist(),x_model_other_A.tolist())\n",
    "\n",
    "print(\"\\nFor model X and answer A:\")\n",
    "print(f\"    t-statistic: {res.statistic:.4f}\")\n",
    "print(f\"    p-value: {res.pvalue:.4f}\")\n",
    "print(f\"    Confidence interval: {res.confidence_interval()}\")\n",
    "\n",
    "# reject the null hypothesis if the p-value is less than the significance level\n",
    "if res.pvalue < 0.05:\n",
    "    print(\"    Reject the null hypothesis\")\n",
    "else:\n",
    "    print(\"    Fail to reject the null hypothesis\")"
   ]
  },
  {
   "cell_type": "markdown",
   "id": "d633deb4",
   "metadata": {},
   "source": [
    "The null hypothesis is that there is no significant difference between the performance of the 2 datasets. According to the T-test with CI = 0.95, the p-value is 0.80, which means that the probability of obtaining the observed result under the null hypothesis is 80%, so we fail to reject the null hypothesis, i.e. we cannot say that there is a significant difference between the performance of the 2 datasets."
   ]
  },
  {
   "cell_type": "code",
   "execution_count": 18,
   "id": "636af6a6",
   "metadata": {},
   "outputs": [
    {
     "name": "stdout",
     "output_type": "stream",
     "text": [
      "\n",
      "For model X and answer 'A' vs 'C or D' on MMLU dataset:\n",
      "    t-statistic: -1.9378\n",
      "    p-value: 0.1922\n",
      "    Confidence interval: ConfidenceInterval(low=-8905.991842122097, high=3374.9918421220964)\n",
      "    Fail to reject the null hypothesis\n"
     ]
    }
   ],
   "source": [
    "# C\n",
    "# For MMLU dataset\n",
    "x_model_mmlu_C = x_model_mmlu[x_model_mmlu['answer'] == 'C']['correct']\n",
    "x_model_mmlu_D = x_model_mmlu[x_model_mmlu['answer'] == 'D']['correct']\n",
    "\n",
    "x_model_mmlu_C = x_model_mmlu_C.value_counts().reindex([True, False], fill_value=0)\n",
    "x_model_mmlu_D = x_model_mmlu_D.value_counts().reindex([True, False], fill_value=0)\n",
    "\n",
    "x_model_mmlu_CD = x_model_mmlu_D + x_model_mmlu_C\n",
    "\n",
    "res = ttest_ind(x_model_mmlu_A.tolist(),x_model_mmlu_CD.tolist())\n",
    "\n",
    "print(\"\\nFor model X and answer 'A' vs 'C or D' on MMLU dataset:\")\n",
    "print(f\"    t-statistic: {res.statistic:.4f}\")\n",
    "print(f\"    p-value: {res.pvalue:.4f}\")\n",
    "print(f\"    Confidence interval: {res.confidence_interval()}\")\n",
    "\n",
    "if res.pvalue < 0.05:\n",
    "    print(\"    Reject the null hypothesis\")\n",
    "else:\n",
    "    print(\"    Fail to reject the null hypothesis\")"
   ]
  },
  {
   "cell_type": "code",
   "execution_count": 19,
   "id": "32847974",
   "metadata": {},
   "outputs": [
    {
     "name": "stdout",
     "output_type": "stream",
     "text": [
      "\n",
      "For model X and answer 'A' vs 'C or D' on Other dataset:\n",
      "    t-statistic: -0.4347\n",
      "    p-value: 0.7062\n",
      "    Fail to reject the null hypothesis\n"
     ]
    }
   ],
   "source": [
    "# C\n",
    "# For Other dataset\n",
    "x_model_other_C = x_model_other[x_model_other['answer'] == 'C']['correct']\n",
    "x_model_other_D = x_model_other[x_model_other['answer'] == 'D']['correct']\n",
    "\n",
    "x_model_other_C = x_model_other_C.value_counts().sort_index()\n",
    "x_model_other_D = x_model_other_D.value_counts().sort_index()\n",
    "\n",
    "x_model_other_CD = x_model_other_D + x_model_other_C\n",
    "\n",
    "res_other = ttest_ind(x_model_other_A.tolist(), x_model_other_CD.tolist())\n",
    "\n",
    "print(\"\\nFor model X and answer 'A' vs 'C or D' on Other dataset:\")\n",
    "print(f\"    t-statistic: {res_other.statistic:.4f}\")\n",
    "print(f\"    p-value: {res_other.pvalue:.4f}\")\n",
    "\n",
    "if res_other.pvalue < 0.05:\n",
    "    print(\"    Reject the null hypothesis\")\n",
    "else:\n",
    "    print(\"    Fail to reject the null hypothesis\")"
   ]
  },
  {
   "cell_type": "markdown",
   "id": "589c0360",
   "metadata": {},
   "source": [
    "In both cases, the null hypothesis is that there is no significant difference between the performance when the correct answer is \"A\" vs. \"C or D\". As we can see in the two cells above, the two T-test with CI = 0.95, show that we fail reject the null hypothesis (i.e. for each dataset, we cannot say that there is a significant difference between the performance when the correct answer is \"A\" vs. \"C or D\")."
   ]
  },
  {
   "cell_type": "markdown",
   "id": "33848ff9-2604-4e48-b5df-3207dc81e9a9",
   "metadata": {},
   "source": [
    "### 2.4 (2 pt)\n",
    "\n",
    "What an intriguing finding! \n",
    "\n",
    "A. Print the mean accuracies conditioned on the correct answer for all LMs for each dataset.\n",
    "\n",
    "B. /Discuss:/ What do you observe?"
   ]
  },
  {
   "cell_type": "code",
   "execution_count": 20,
   "id": "ec53ce2c-866e-440a-ac79-7813cb756782",
   "metadata": {},
   "outputs": [
    {
     "name": "stdout",
     "output_type": "stream",
     "text": [
      "Mean Accuracies Conditioned on Correct Answer for MMLU Dataset:\n",
      "answer             A         B         C         D\n",
      "model_name                                        \n",
      "X           0.972688  0.799185  0.707905  0.633592\n",
      "Y           0.623836  0.688073  0.733470  0.904252\n",
      "Z           0.643079  0.641182  0.669115  0.661139\n",
      "\n",
      "Mean Accuracies Conditioned on Correct Answer for Other Dataset:\n",
      "answer             A         B         C         D\n",
      "model_name                                        \n",
      "X           0.974026  0.806452  0.676407  0.603744\n",
      "Y           0.625232  0.663978  0.762987  0.920437\n",
      "Z           0.680891  0.667563  0.662338  0.677067\n"
     ]
    }
   ],
   "source": [
    "# A\n",
    "\n",
    "# Compute mean accuracies conditioned on the correct answer for each model and dataset\n",
    "def compute_mean_accuracies(df):\n",
    "    return df.groupby(['model_name', 'answer'])['correct'].mean().unstack()\n",
    "\n",
    "mean_accuracies_mmlu = compute_mean_accuracies(df_mmlu)\n",
    "mean_accuracies_other = compute_mean_accuracies(df_other)\n",
    "\n",
    "print(\"Mean Accuracies Conditioned on Correct Answer for MMLU Dataset:\")\n",
    "print(mean_accuracies_mmlu)\n",
    "\n",
    "print(\"\\nMean Accuracies Conditioned on Correct Answer for Other Dataset:\")\n",
    "print(mean_accuracies_other)"
   ]
  },
  {
   "cell_type": "markdown",
   "id": "4ce58e47",
   "metadata": {},
   "source": [
    "B. Thanks to the mean accuracies conditioned on the correct answer, we can observe that the model X performs much better when the correct answer is A than for the other correct answers whereas the model Y performs much better when the correct answer is D. \n",
    "This could suggest that models are biased, meaning that they answer a specific answer (A for X and D for Y) most of the time when they don't know the correct answer. "
   ]
  },
  {
   "cell_type": "markdown",
   "id": "ccdd9d3c-5a03-4b30-84f7-a7dfbee1373e",
   "metadata": {},
   "source": [
    "### 2.5 (2 pt)\n",
    "\n",
    "Concerned with your findings so far, you quickly consult with Ms. Sakota. After thinking it over, Ms. Sakota concludes that more tests are needed. She orders a second round of MMLU results. However, the clever Ms. Sakota thinks of the following twist: while keeping questions fixed, she randomly permutes the position of the correct answer. The new results can be found in the folder `data/task_2_5/`:\n",
    "```\n",
    "task_2_5/\n",
    "│\n",
    "└── lm_scores_mmlu_shuffle.csv\n",
    "```\n",
    "\n",
    "/Discuss:/ Why would Ms. Sakota do this?"
   ]
  },
  {
   "cell_type": "markdown",
   "id": "64cc586a",
   "metadata": {},
   "source": [
    "By doing this, Ms. Sakota is changing the position of the correct answer. She does this to ensure that models don't benefit for answering by default a certain answer position, only having 25% chance of getting it right, instead of more (which seems to happens for Y in MMLU, since there were more answers with the correct option D).\n",
    "\n",
    "So these changes eliminate, or at least mitigate, the effect of the bias that the models may have toward a certain answer, since all options will now be evenly represented. This is useful to see if the place where the answer is, has an influence or not - obvioulsy it should not have."
   ]
  },
  {
   "cell_type": "markdown",
   "id": "b9150ae0-dbaa-4c88-bf80-ec03127c6945",
   "metadata": {},
   "source": [
    "### 2.6 (4 pt)\n",
    "\n",
    "Increasingly sceptical of the language models' performance, you read up on proper testing practices. You stumble upon the concept of [test-rested stability](https://en.wikipedia.org/wiki/Repeatability), which roughtly states that:\n",
    "\n",
    "\"_Measurements taken by a single person or instrument on the same item, under the same conditions, and in a short period of time, should have the same results._\"\n",
    "\n",
    "In our case, we would assume an LM would have the same performance on a given question regardless of the correct answer position. One way of testing this is by using the following metric:\n",
    "\n",
    "$$\\text{test-retest metric} = \\frac{1}{N}\\sum_{i=1}^N \\frac{1}{M}\\sum_{j=1}^M c^i_0 c_j^i,$$\n",
    "\n",
    "where $c^i_0 \\in \\{0, 1\\}$ indicates whether the model answers the $i^{\\text{th}}$ question correctly (1 if correct, 0 if incorrect). $c_j^i$ indicates whether the model answers the $i^{\\text{th}}$ question correctly in the $j^{\\text{th}}$ shuffled version of the answer label content. Finally, $M$ is the total number of shuffles and $N$ is the dataset size.\n",
    "\n",
    "Task: compute the test-retest metric for each language model using the original `lm_scores_mmlu.csv` file and the new `lm_scores_mmlu_shuffle.csv` file. Using a bar plot, visualize your results by comparing the accuracy of the original `lm_scores_mmlu.csv` and the test-retest scores.\n",
    "\n",
    "**hints**\n",
    "- what is $M$ in our case?\n",
    "\n",
    "(bonus: no points, but so much sweet, sweet knowledge - check out [the following article](https://arxiv.org/pdf/2406.19470v1))"
   ]
  },
  {
   "cell_type": "code",
   "execution_count": 21,
   "id": "07737e46",
   "metadata": {},
   "outputs": [],
   "source": [
    "# Import dataset\n",
    "lm_scores_mmlu_shuffle = pd.read_csv('task_2_5/lm_scores_mmlu_shuffle.csv')\n",
    "\n",
    "# Utility function to compute the test retest metric. In our case, M = 1.\n",
    "def calculate_test_retest_metric(df, shuffle_df, model_name):\n",
    "    df_shuffle = shuffle_df[shuffle_df['model_name'] == model_name]\n",
    "    df = df[df['model_name'] == model_name]\n",
    "\n",
    "    df_merged = df.merge(df_shuffle, on='question_id', suffixes=('_original', '_shuffle'))\n",
    "\n",
    "    test_retest_metric = df_merged[df_merged['correct_original'] & df_merged['correct_shuffle']].shape[0] / df.shape[0]\n",
    "    return test_retest_metric"
   ]
  },
  {
   "cell_type": "code",
   "execution_count": 22,
   "id": "3270f7cd",
   "metadata": {},
   "outputs": [
    {
     "name": "stdout",
     "output_type": "stream",
     "text": [
      "Test-retest metric for model X: 0.5884\n",
      "Test-retest metric for model Y: 0.5716\n",
      "Test-retest metric for model Z: 0.4416\n"
     ]
    }
   ],
   "source": [
    "test_retest_metric_X = calculate_test_retest_metric(df_mmlu, lm_scores_mmlu_shuffle, 'X')\n",
    "test_retest_metric_Y = calculate_test_retest_metric(df_mmlu, lm_scores_mmlu_shuffle, 'Y')\n",
    "test_retest_metric_Z = calculate_test_retest_metric(df_mmlu, lm_scores_mmlu_shuffle, 'Z')\n",
    "\n",
    "print(f\"Test-retest metric for model X: {test_retest_metric_X:.4f}\")\n",
    "print(f\"Test-retest metric for model Y: {test_retest_metric_Y:.4f}\")\n",
    "print(f\"Test-retest metric for model Z: {test_retest_metric_Z:.4f}\")"
   ]
  },
  {
   "cell_type": "code",
   "execution_count": 23,
   "id": "5b55fcfc-6de9-4cd3-bf2d-bde399ae2fbc",
   "metadata": {},
   "outputs": [
    {
     "data": {
      "image/png": "[encoded data removed]",
      "text/plain": [
       "<Figure size 640x480 with 1 Axes>"
      ]
     },
     "metadata": {},
     "output_type": "display_data"
    }
   ],
   "source": [
    "# Bar plot to visualize the results\n",
    "models = ['X', 'Y', 'Z']\n",
    "\n",
    "accuracy_x = df_mmlu[df_mmlu['model_name'] == 'X']['correct'].mean()\n",
    "accuracy_y = df_mmlu[df_mmlu['model_name'] == 'Y']['correct'].mean()\n",
    "accuracy_z = df_mmlu[df_mmlu['model_name'] == 'Z']['correct'].mean()\n",
    "\n",
    "original_accuracies = [accuracy_x, accuracy_y, accuracy_z]\n",
    "test_retest_metrics = [test_retest_metric_X, test_retest_metric_Y, test_retest_metric_Z]\n",
    "\n",
    "x = np.arange(len(models))\n",
    "width = 0.35\n",
    "\n",
    "fig, ax = plt.subplots()\n",
    "rects1 = ax.bar(x - width/2, original_accuracies, width, label='Original Accuracy')\n",
    "rects2 = ax.bar(x + width/2, test_retest_metrics, width, label='Test-Retest Metric')\n",
    "\n",
    "ax.set_xlabel('Model')\n",
    "ax.set_ylabel('Accuracy')\n",
    "ax.set_title('Original Accuracy vs Test-Retest Metric')\n",
    "ax.set_xticks(x)\n",
    "ax.set_xticklabels(models)\n",
    "ax.legend()\n",
    "\n",
    "ax.bar_label(rects1, padding=3, fmt='%.2f')\n",
    "ax.bar_label(rects2, padding=3, fmt='%.2f')\n",
    "\n",
    "ax.set_ylim(0, 0.9)\n",
    "\n",
    "plt.show()"
   ]
  },
  {
   "cell_type": "markdown",
   "id": "b70bee6e-0c81-4f5a-b1a8-16a96aa2ae17",
   "metadata": {},
   "source": [
    "### 2.7 (2 pt)\n",
    "\n",
    "A. Using the unshuffled data: For each LM, print the distribution of the answers they give as well as the accuracy conditioned on the answer they give.\n",
    "\n",
    "B. /Discuss:/ Describe what you observe\n",
    "\n",
    "[bonus: not scored, but again _that sweet, sweet knowledge_] Could you think of a plausible explanation?"
   ]
  },
  {
   "cell_type": "code",
   "execution_count": 24,
   "id": "4956581b-d047-46cb-ae71-1508a9a0b466",
   "metadata": {},
   "outputs": [
    {
     "name": "stdout",
     "output_type": "stream",
     "text": [
      "                   count  percentage\n",
      "model_name result                   \n",
      "X          A        4259   36.414159\n",
      "           B        2659   22.734268\n",
      "           C        2409   20.596785\n",
      "           D        2369   20.254788\n",
      "Y          A        1072    9.165527\n",
      "           B        2256   19.288646\n",
      "           C        3015   25.778044\n",
      "           D        5353   45.767784\n",
      "Z          A        2176   18.604651\n",
      "           B        2885   24.666553\n",
      "           C        3237   27.676129\n",
      "           D        3398   29.052668\n"
     ]
    }
   ],
   "source": [
    "# A\n",
    "\n",
    "mmlu_distribution_unshuffled = pd.DataFrame(df_mmlu.groupby(['model_name','result'])['result'].agg('count'))\n",
    "mmlu_distribution_unshuffled['percentage'] = mmlu_distribution_unshuffled['result'] / mmlu_distribution_unshuffled.groupby('model_name')['result'].transform('sum') * 100\n",
    "mmlu_distribution_unshuffled.rename(columns={'result': 'count'}, inplace=True)\n",
    "print(mmlu_distribution_unshuffled)"
   ]
  },
  {
   "cell_type": "code",
   "execution_count": 25,
   "id": "1f9cbc86",
   "metadata": {},
   "outputs": [
    {
     "name": "stdout",
     "output_type": "stream",
     "text": [
      "Model X accuracy by answer:\n",
      "  A: 36.79 %\n",
      "  B: 88.45 %\n",
      "  C: 100.00 %\n",
      "  D: 100.00 %\n",
      "Model Y accuracy by answer:\n",
      "  A: 93.75 %\n",
      "  B: 89.76 %\n",
      "  C: 82.79 %\n",
      "  D: 63.16 %\n",
      "Model Z accuracy by answer:\n",
      "  A: 47.61 %\n",
      "  B: 65.41 %\n",
      "  C: 70.34 %\n",
      "  D: 72.75 %\n"
     ]
    }
   ],
   "source": [
    "models = ['X', 'Y', 'Z']\n",
    "answers = ['A', 'B', 'C', 'D']\n",
    "\n",
    "for model in models:\n",
    "    print(f\"Model {model} accuracy by answer:\")\n",
    "    df_mmlu_M = df_mmlu[df_mmlu['model_name'] == model]\n",
    "    for answer in answers:\n",
    "        # Conditioned on the answer given by the model\n",
    "        df_mmlu_MA = df_mmlu_M[df_mmlu_M['result'] == answer]\n",
    "        df_mmlu_MA_correct = df_mmlu_MA[df_mmlu_MA['correct']]\n",
    "        print(f\"  {answer}: {(df_mmlu_MA_correct.shape[0] / df_mmlu_MA.shape[0]) * 100:.2f} %\")"
   ]
  },
  {
   "cell_type": "markdown",
   "id": "65639228",
   "metadata": {},
   "source": [
    "B. /Discuss:/ We can observe that model X has a higher tendency to give A as the answer, while model Y outputs D almost half of the times, finally model Z does not have an answer that stands out.\n",
    "\n",
    "After seeing the accuracy by answer it is easy to notice that for both X and Y, the most used answer is the least accurate, which can suggest that these models hava a bias toward that specific option. This can be seen as, when they do not know the answer they output a certain option, which makes it more common and also less accurate. For model Z, we have that A is both the less accurate and common answer."
   ]
  },
  {
   "cell_type": "markdown",
   "id": "ce3186fe-ef8e-4af3-9a07-a6081d454e5a",
   "metadata": {},
   "source": [
    "## Task 3 (16 points): What do Questions and Answers look like for a Language Model?\n",
    "\n",
    "While you feel pretty good about the tests you conducted so far, something still bothers you: what if the language models don't see the data like you do? Suddenly, you receive a phone call from a wise AI sage in the West, _Westoda_:\n",
    "\n",
    "```\n",
    "\"Hmm, correct you are, young padawan, to question how the world is seen by large language models! Simple 'text' it is not, hmm? No, no, no! Characters and words, the way of puny humans, this is not, heh heh heh.\n",
    "\n",
    "'Tokens', they use, yes! Mysterious and powerful, these tokens are. Expand our vocabulary, they do, beyond the simple 'a to Z'. Chunky blocks of text, they become, yes! 'Hello world', a simple phrase it may seem. But to a language model, '[24912, 2375]' it might appear, yes! Confusing, it is, hmm?\n",
    "\n",
    "Wise, it would be, to explore these MMLU data points through the eyes of a language model, you think? Yes, yes! Much to learn, there is. The ways of the tokens, understand you must, if truly comprehend the great LMs, you wish to.\n",
    "Meditate on this, you should. The force of natural language processing, strong it is. But patience, you must have, my young padawan. For only through great study and contemplation, will the mysteries of the tokens reveal themselves to you, they will. Yes, hmmm!\"\n",
    "```\n",
    "\n",
    "Admittingly, Westoda at times speaks in riddles… However, he was explaining a crucial aspect of modern LMs called [Tokenization](https://learn.microsoft.com/en-us/dotnet/ai/conceptual/understanding-tokens):\n",
    "\n",
    "\n",
    "“Tokens are words, character sets, or combinations of words and punctuation that are used by [language models (LMs)] to decompose text into. Tokenization is the first step in training”\n",
    "\n",
    "Instead of characters, LMs process natural language using “tokens”. While this is useful for a number of reasons, it does at times introduce some “unintuitive” behavior…"
   ]
  },
  {
   "cell_type": "code",
   "execution_count": 26,
   "id": "e2c66517-938b-4331-9eea-1b23fe4ad9e7",
   "metadata": {},
   "outputs": [
    {
     "name": "stdout",
     "output_type": "stream",
     "text": [
      "humans see: \"hello world\" --> language models see: [24912, 2375]\n"
     ]
    }
   ],
   "source": [
    "# PROVIDED CODE\n",
    "\n",
    "try:\n",
    "    import tiktoken\n",
    "except Exception as e:\n",
    "    print('installing tiktoken package')\n",
    "    \n",
    "    %pip install tiktoken\n",
    "    \n",
    "    import tiktoken\n",
    "\n",
    "def tokenize_text(s):\n",
    "    enc = tiktoken.encoding_for_model('gpt-4o')\n",
    "    tokens = enc.encode(str(s))\n",
    "    return tokens\n",
    "\n",
    "example_string = 'hello world'\n",
    "print(f'humans see: \"{example_string}\" --> language models see: {tokenize_text(example_string)}')"
   ]
  },
  {
   "cell_type": "markdown",
   "id": "3c8019ee-7d52-496f-afff-c96f2f9db08c",
   "metadata": {},
   "source": [
    "### 3.1 (5 pt)\n",
    "\n",
    "Use the provided code in the cell above to \"see the world through the eyes of a language model\":\n",
    "\n",
    "A. Tokenize the questions of the original MMLU data provided in task 1: `task_1/mmlu_data/test.csv` and plot the token distribution (the frequency of each token).\n",
    "\n",
    "B. Same as (A), but now for the answers in columns (columns \"A\", \"B\", \"C\", and \"D\").\n",
    "\n",
    "C. Isolate the tokens for the strings \"A\", \"B\", \"C\", and \"D\", then, for their occurances in both questions and answers, print their relative distribution to each other.\n",
    "\n",
    "**hint**\n",
    "- There are a _lot_ of tokens, consider using a cutoff point and log scale\n",
    "- For (c), they should sum to 1"
   ]
  },
  {
   "cell_type": "code",
   "execution_count": 27,
   "id": "a9a1e97b-3a31-41b1-a9c3-fb84cb1740d9",
   "metadata": {},
   "outputs": [
    {
     "data": {
      "image/png": "[encoded data removed]",
      "text/plain": [
       "<Figure size 1000x600 with 1 Axes>"
      ]
     },
     "metadata": {},
     "output_type": "display_data"
    }
   ],
   "source": [
    "# A\n",
    "\n",
    "# Folder paths\n",
    "base_folder='task_1/' #already computed\n",
    "mmlu_folder='mmlu_data/' #already computed\n",
    "\n",
    "# Load the data and print the size of each dataframe\n",
    "df_test = pd.read_csv(os.path.join(base_folder, mmlu_folder, 'test.csv'))\n",
    "\n",
    "# tokenize the questions\n",
    "df_test['tokens'] = df_test['question'].apply(tokenize_text)\n",
    "\n",
    "# count the frequency of each token\n",
    "token_counts = pd.Series([token for tokens in df_test['tokens'] for token in tokens]).value_counts(sort=False)\n",
    "df_token_counts = token_counts.reset_index()\n",
    "df_token_counts.columns = ['token', 'count']\n",
    "\n",
    "# Plot the token distribution with a cutoff for rare tokens and log scale\n",
    "cutoff = 10\n",
    "df_token_counts_cutoff = df_token_counts[df_token_counts['count'] > cutoff]\n",
    "\n",
    "plt.figure(figsize=(10, 6))\n",
    "plt.bar(range(len(df_token_counts_cutoff)), df_token_counts_cutoff['count'])\n",
    "plt.yscale('log')\n",
    "plt.title('Token Distribution in MMLU Questions', fontsize=16)\n",
    "plt.xlabel('Token', fontsize=14)\n",
    "plt.ylabel('Frequency (log scale)', fontsize=14)\n",
    "plt.xticks([])  # Remove x-axis ticks\n",
    "plt.show()"
   ]
  },
  {
   "cell_type": "code",
   "execution_count": 28,
   "id": "fe1f8be8",
   "metadata": {},
   "outputs": [
    {
     "data": {
      "image/png": "[encoded data removed]",
      "text/plain": [
       "<Figure size 1000x600 with 1 Axes>"
      ]
     },
     "metadata": {},
     "output_type": "display_data"
    }
   ],
   "source": [
    "# B\n",
    "\n",
    "# Tokenize answers for each result in the columns \"A\", \"B\", \"C\", \"D\" from the df_test\n",
    "df_test['A_tokens'] = df_test['A'].apply(tokenize_text)\n",
    "df_test['B_tokens'] = df_test['B'].apply(tokenize_text)\n",
    "df_test['C_tokens'] = df_test['C'].apply(tokenize_text)\n",
    "df_test['D_tokens'] = df_test['D'].apply(tokenize_text)\n",
    "\n",
    "# combine the tokens from all answers\n",
    "all_tokens = pd.Series([token for tokens in df_test['A_tokens'] for token in tokens] + \\\n",
    "                       [token for tokens in df_test['B_tokens'] for token in tokens] + \\\n",
    "                       [token for tokens in df_test['C_tokens'] for token in tokens] + \\\n",
    "                       [token for tokens in df_test['D_tokens'] for token in tokens])\n",
    "\n",
    "# count the frequency of each token\n",
    "token_counts = all_tokens.value_counts(sort=False)\n",
    "df_token_counts = token_counts.reset_index()\n",
    "df_token_counts.columns = ['token', 'count']\n",
    "\n",
    "# Plot the token distribution with a cutoff for rare tokens and log scale\n",
    "cutoff = 10\n",
    "df_token_counts_cutoff = df_token_counts[df_token_counts['count'] > cutoff]\n",
    "\n",
    "plt.figure(figsize=(10, 6))\n",
    "plt.bar(range(len(df_token_counts_cutoff)), df_token_counts_cutoff['count'])\n",
    "plt.yscale('log')\n",
    "plt.title('Token Distribution in Answer Choices (A, B, C, D)', fontsize=16)\n",
    "plt.xlabel('Token', fontsize=14)\n",
    "plt.ylabel('Frequency (log scale)', fontsize=14)\n",
    "plt.xticks([])  # Remove x-axis ticks\n",
    "plt.show()"
   ]
  },
  {
   "cell_type": "code",
   "execution_count": 29,
   "id": "cd392df7",
   "metadata": {},
   "outputs": [
    {
     "name": "stdout",
     "output_type": "stream",
     "text": [
      "Relative frequency of token for 'A': 0.7917\n",
      "Relative frequency of token for 'B': 0.0602\n",
      "Relative frequency of token for 'C': 0.1015\n",
      "Relative frequency of token for 'D': 0.0466\n",
      "Sum of relative frequencies: 1.00\n"
     ]
    }
   ],
   "source": [
    "# C\n",
    "\n",
    "# Tokenize the answers 'A', 'B', 'C' and 'D'\n",
    "# For the characters 'A', 'B', 'C' and 'D', there's only one token, so we take the first token from the list !!!\n",
    "tokens_A = tokenize_text('A')[0]\n",
    "tokens_B = tokenize_text('B')[0]\n",
    "tokens_C = tokenize_text('C')[0]\n",
    "tokens_D = tokenize_text('D')[0]\n",
    "\n",
    "# create a dict to store the total token counts\n",
    "total_token_counts = {'A': 0, 'B': 0, 'C': 0, 'D': 0}\n",
    "\n",
    "# count the frequency of each token in both the questions and answers:\n",
    "for idx, row in df_test.iterrows():\n",
    "    # count the frequency of each token in the questions\n",
    "    question_tokens = row['tokens']\n",
    "    answer_tokens = row['A_tokens'] + row['B_tokens'] + row['C_tokens'] + row['D_tokens']\n",
    "    all_tokens = question_tokens + answer_tokens\n",
    "\n",
    "    # count the frequency of each token\n",
    "    total_token_counts['A'] += all_tokens.count(tokens_A)\n",
    "    total_token_counts['B'] += all_tokens.count(tokens_B)\n",
    "    total_token_counts['C'] += all_tokens.count(tokens_C)\n",
    "    total_token_counts['D'] += all_tokens.count(tokens_D)\n",
    "\n",
    "\n",
    "# Calculate the total count of tokens in the questions and answers\n",
    "total_tokens = sum(total_token_counts.values())\n",
    "\n",
    "if total_tokens == 0:\n",
    "    relative_freq_A = relative_freq_B = relative_freq_C = relative_freq_D = 0\n",
    "else:\n",
    "    # Calculate the relative frequency of each token in the questions and answers\n",
    "    relative_freq_A = total_token_counts['A'] / total_tokens\n",
    "    relative_freq_B = total_token_counts['B'] / total_tokens\n",
    "    relative_freq_C = total_token_counts['C'] / total_tokens\n",
    "    relative_freq_D = total_token_counts['D'] / total_tokens\n",
    "    \n",
    "    # Print the relative frequencies\n",
    "    print(f\"Relative frequency of token for 'A': {relative_freq_A:.4f}\")\n",
    "    print(f\"Relative frequency of token for 'B': {relative_freq_B:.4f}\")\n",
    "    print(f\"Relative frequency of token for 'C': {relative_freq_C:.4f}\")\n",
    "    print(f\"Relative frequency of token for 'D': {relative_freq_D:.4f}\")\n",
    "\n",
    "    # Ensure they sum to 1\n",
    "    total_relative_freq = relative_freq_A + relative_freq_B + relative_freq_C + relative_freq_D\n",
    "    print(f\"Sum of relative frequencies: {total_relative_freq:.2f}\")\n",
    "    assert np.isclose(total_relative_freq, 1), \"The relative frequencies do not sum to 1!\""
   ]
  },
  {
   "cell_type": "markdown",
   "id": "a674929c-68e1-4cd8-97b3-efa0cdae4874",
   "metadata": {},
   "source": [
    "### 3.2 (3 pt)\n",
    "\n",
    "What if the number of \"A\", \"B\", \"C\", and \"D\" tokens in the question and answer pairs could influence a language model's decisions?\n",
    "\n",
    "A. For each combined question-answers pair, compute: \n",
    "1. the number of \"A\", \"B\", \"C\", and \"D\" tokens; and\n",
    "2. the total number of tokens.\n",
    "3. then, group by the \"correct\" answer and compute the mean frequency of A, B, C, and D tokens and the total number of tokens. \n",
    "4. finally, print your results\n",
    "\n",
    "B. /Discuss:/ What do you think of the hypothesis that the frequency of A, B, C, and D tokens could influence answers?\n"
   ]
  },
  {
   "cell_type": "code",
   "execution_count": 30,
   "id": "25419cc1-f058-4c51-a0aa-577272b8b578",
   "metadata": {},
   "outputs": [
    {
     "name": "stdout",
     "output_type": "stream",
     "text": [
      "         count_A   count_B   count_C   count_D  total_tokens\n",
      "answer                                                      \n",
      "A       0.243017  0.018932  0.025140  0.013035     93.208566\n",
      "B       0.231947  0.019642  0.029463  0.012709     88.863951\n",
      "C       0.226410  0.018984  0.034897  0.015355     92.675879\n",
      "D       0.242850  0.014566  0.030985  0.014301     92.132415\n"
     ]
    }
   ],
   "source": [
    "# A\n",
    "\n",
    "# for each question-answer pair, calculate the number of 'A', 'B', 'C' and 'D' tokens\n",
    "def count_tokens(row):\n",
    "    # combine the question and answer tokens\n",
    "    tokens = row['tokens'] + row['A_tokens'] + row['B_tokens'] + row['C_tokens'] + row['D_tokens']\n",
    "\n",
    "    # count the number of 'A', 'B', 'C' and 'D' tokens\n",
    "    count_A = tokens.count(tokens_A)\n",
    "    count_B = tokens.count(tokens_B)\n",
    "    count_C = tokens.count(tokens_C)\n",
    "    count_D = tokens.count(tokens_D)\n",
    "\n",
    "    total_tokens = len(tokens)\n",
    "\n",
    "    return pd.Series({'count_A': count_A, 'count_B': count_B, 'count_C': count_C, 'count_D': count_D, 'total_tokens': total_tokens})\n",
    "\n",
    "# apply the counting function to each question-answer pair\n",
    "df_combined_token_counts = df_test.apply(count_tokens, axis=1)\n",
    "\n",
    "# concatenate the token counts with the original test DataFrame\n",
    "df_test_token_counts = pd.concat([df_test, df_combined_token_counts], axis=1)\n",
    "\n",
    "# groub by the correct answer and calculate the mean token counts for each token\n",
    "grouped_by_correct = df_test_token_counts.groupby('answer')[['count_A', 'count_B', 'count_C', 'count_D', 'total_tokens']].mean()\n",
    "\n",
    "print(grouped_by_correct)"
   ]
  },
  {
   "cell_type": "markdown",
   "id": "3ea8a279",
   "metadata": {},
   "source": [
    "B. Looking at the token counts grouped by the correct answer, we observe unusual behaviour:\n",
    "- For questions where the correct answer is \"**A**,\" the frequency of the \"**A**\" token is so high, standing at **0.24**. None of the other tokens even approach this level of frequency, with the next closest being the \"**C**\" token at only **0.025**.\n",
    "- When the correct answer is \"**B**,\" the \"**B**\" token has a frequency of **0.02**. However, the \"**A**\" token still dominates with a frequency of **0.23**, overshadowing the expected answer token.\n",
    "- For questions where the correct answer is \"**C**,\" the frequency of the \"**C**\" token is **0.035**, slightly higher than for \"**B**\" and \"**D**,\" yet the \"**A**\" token remains the most frequent at **0.23**.\n",
    "- Similarly, for questions where the correct answer is \"**D**,\" the frequency of the \"**D**\" token is **0.014**, while the \"**A**\" token is still the most frequent with a frequency of **0.24**.\n",
    "\n",
    "\n",
    "This suggests that **A** is always chosen regardless of whether it's the correct answer, and this is due to the high relative frequency of **A** (79%) compared to the other tokens."
   ]
  },
  {
   "cell_type": "code",
   "execution_count": 31,
   "id": "c14a978c",
   "metadata": {},
   "outputs": [
    {
     "data": {
      "image/png": "[encoded data removed]",
      "text/plain": [
       "<Figure size 1000x600 with 1 Axes>"
      ]
     },
     "metadata": {},
     "output_type": "display_data"
    }
   ],
   "source": [
    "grouped_by_correct[['count_A', 'count_B', 'count_C', 'count_D']].plot(kind='bar', figsize=(10, 6))\n",
    "plt.title('Mean Token Counts by Correct Answer')\n",
    "plt.xlabel('Correct Answer')\n",
    "plt.ylabel('Mean Token Count')\n",
    "plt.xticks(rotation=0)\n",
    "plt.show()"
   ]
  },
  {
   "cell_type": "markdown",
   "id": "af25ef95-d2ce-4112-87f7-8b0a52755e2a",
   "metadata": {},
   "source": [
    "### 3.3 (4 pt)\n",
    "\n",
    "Three of the most important considerations when deciding between language models are:\n",
    "\n",
    "Quality\n",
    "Costs\n",
    "Speed\n",
    "\n",
    "So far, much of your analysis has focused on quality. However, the government has indicated that they are quite concerned about both the total costs and speed as well. Specifically, it has been brought to their attention that a new `turbo` model has been launched! \n",
    "\n",
    "This model is both cheaper and faster than the models you evaluated so far. However, there is a catch: the context length* is much smaller than that of the other LMS. Namely, it can only process **300** tokens during inference. Meanwhile, the other models can process up to 100K tokens! \n",
    "\n",
    "*_The “context length” refers to the number of tokens that can be given to an LM as input._\n",
    "\n",
    "A. Are there subjects where using the cheaper model might be problematic? I.e., where part of the question and answer(s) might not fit completely in the context?\n",
    "\n",
    "B. /Discuss:/ Can you think of a strategy that would balance the needs of the government?\n",
    "\n",
    "**hint**:\n",
    "- An LM needs to have both the question and the different answer options in its context"
   ]
  },
  {
   "cell_type": "code",
   "execution_count": 32,
   "id": "a88a6fa3-2735-44d7-9944-076cc9f679ed",
   "metadata": {},
   "outputs": [
    {
     "name": "stdout",
     "output_type": "stream",
     "text": [
      "Subjects where the total number of tokens exceeds the token limit:\n",
      " - college medicine\n",
      " - high school computer science\n",
      " - high school european history\n",
      " - high school statistics\n",
      " - high school us history\n",
      " - high school world history\n",
      " - professional law\n",
      " - professional medicine\n",
      " - security studies\n",
      " - virology\n"
     ]
    },
    {
     "data": {
      "image/png": "[encoded data removed]",
      "text/plain": [
       "<Figure size 1000x600 with 1 Axes>"
      ]
     },
     "metadata": {},
     "output_type": "display_data"
    }
   ],
   "source": [
    "# A\n",
    "\n",
    "# We want to find if there are subjects in the dataset where the total number of tokens in the questions and answers exceeds the turbo model's token limit of 300 tokens.\n",
    "# Calculate the total number of tokens for each question-answer pair and check if it exceeds the token limit\n",
    "df_test_token_counts['total_tokens'] = df_test_token_counts['total_tokens']\n",
    "df_exceeds_token_limit = df_test_token_counts[df_test_token_counts['total_tokens'] > 300]\n",
    "\n",
    "# Print the subjects where the total number of tokens exceeds the token limit\n",
    "print(\"Subjects where the total number of tokens exceeds the token limit:\")\n",
    "for subject in df_exceeds_token_limit['subject'].unique():\n",
    "    print(f\" - {subject}\")\n",
    "\n",
    "# Count the number of questions for each subject where the total number of tokens exceeds the token limit\n",
    "subjects_with_exceeding_tokens = df_exceeds_token_limit['subject'].value_counts()\n",
    "\n",
    "plt.figure(figsize=(10, 6))\n",
    "subjects_with_exceeding_tokens.plot(kind='bar', color='lightcoral')\n",
    "plt.title('Subjects with Questions Exceeding 300 Tokens', fontsize=16)\n",
    "plt.xlabel('Subject', fontsize=14)\n",
    "plt.ylabel('Number of Questions', fontsize=14)\n",
    "plt.xticks(rotation=45, ha='right')  # Rotate x-axis labels for better readability\n",
    "plt.show()"
   ]
  },
  {
   "cell_type": "markdown",
   "id": "47f8a44a",
   "metadata": {},
   "source": [
    "B. The ideal would be to have a hybrid approach to the problem, hence for **short questions and answers** (less than 300-token), use the **turbo model**, otherwise use the larger model.\n",
    "\n",
    "However, this approach may **not reduce much the total cost and speed** but it would indeed bring **balance**. But, for **cheaper and faster approaches**, one could **cut off** part of the question or answer to fit within the limit if it surpasses 300-token. So if the text is too long, we should **truncate it leaving only the important part of the text**. A strategy would be **preprocessing** the input by filtering out less relevant parts of the text, removing less significant tokens (e.g., words like \"the,\" \"a,\" or other filler words), the overall token count can be reduced, allowing the text to fit within the 300-token limit without sacrificing crucial information. This strategy would allow the government to leverage the cheaper turbo model more frequently while preserving the quality of responses where possible.\n"
   ]
  },
  {
   "cell_type": "markdown",
   "id": "110f07bf-558f-467c-8f66-d88db561d455",
   "metadata": {},
   "source": [
    "### 3.4 (4 pt)\n",
    "\n",
    "/Discuss:/ The time has come to give your final recommendation on the use of LMs in education to the government! Taking into account everything you analyzed in all the preceding tasks (1, 2, and 3), please write a short recommendation consisting of 4 bullet points discussing your concerns.\n",
    "\n",
    "**hint**\n",
    "- Try to use the MECE framework: _Mutually Exclusive Collectively Exhaustive_"
   ]
  },
  {
   "cell_type": "markdown",
   "id": "434a5fa5",
   "metadata": {},
   "source": [
    "## **Final Recommendation**\n",
    "\n",
    "1. **Fair Decision-Making**\n",
    "   - **Insight:** The token distribution in both questions and answers is skewed, with certain tokens (like \"A\") dominating as shown in the 3.2 plot.\n",
    "   - **Recommendation:** Retrain models on datasets that better represent the distribution of educational content to ensure fairness in answer selection.\n",
    "\n",
    "2. **Handling Long Contexts**\n",
    "   - **Insight:** Subjects such as Law, History, and Medicine have questions that exceed the token limit of cheaper models (e.g., the 300-token limit of the turbo model) as shown in the 3.3 plot. These subjects require a larger context to process the full question and answer set accurately.\n",
    "   - **Recommendation:** Use a hybrid approach to model deployment: for shorter questions (within the 300-token limit), deploy the turbo model to save on costs and speed. For longer, more context-heavy subjects, use a more capable LM that can handle larger token contexts. Preprocessing can help reduce the input size without losing critical information, but we should take caution.\n",
    "\n",
    "3. **Ensuring Accuracy over Cost Savings**\n",
    "   - **Insight:** The turbo model offers significant cost and speed benefits but may compromise accuracy in scenarios requiring extensive context, especially in subjects with complex and lengthy questions.\n",
    "   - **Recommendation:** Prioritize using models with larger context windows in critical educational applications where accuracy and comprehension of the full context are paramount, such as maturity exams or advanced topics. Otherwise, in less complex scenarios where shorter questions suffice, cost-saving measures can be applied.\n",
    "\n",
    "4. **Balancing Speed, Cost, and Outcomes**\n",
    "   - **Insight:** The trade-off between quality, speed, and cost is central to the government’s decision. Our findings suggest that while turbo models can handle simple, short-answer questions efficiently, they fall short in complex educational contexts.\n",
    "   - **Recommendation:** The government should implement a model strategy where LMs are deployed based on the complexity and length of the educational material. Turbo models should be used for quick, straightforward queries, while more comprehensive models are reserved for detailed, long-form educational content. This approach will optimize cost while ensuring educational quality and accuracy."
   ]
  }
 ],
 "metadata": {
  "kernelspec": {
   "display_name": "ada",
   "language": "python",
   "name": "python3"
  },
  "language_info": {
   "codemirror_mode": {
    "name": "ipython",
    "version": 3
   },
   "file_extension": ".py",
   "mimetype": "text/x-python",
   "name": "python",
   "nbconvert_exporter": "python",
   "pygments_lexer": "ipython3",
   "version": "3.11.9"
  }
 },
 "nbformat": 4,
 "nbformat_minor": 5
}
